{
 "cells": [
  {
   "cell_type": "markdown",
   "id": "3753f8ac-fd3a-4817-9c73-7772af832027",
   "metadata": {
    "id": "3753f8ac-fd3a-4817-9c73-7772af832027"
   },
   "source": [
    "# Serie 10\n",
    "Ce document contient les différents exercices à réaliser. Veuillez compléter et rendre ces exercices pour la semaine prochaine.\n",
    "\n",
    "Pour chaque exercice:\n",
    "* implémentez ce qui est demandé\n",
    "* commentez votre code\n",
    "* expliquez **en français or English** ce que vous avez codé dans la cellule correspondante\n",
    "\n",
    "Dans vos explications à chacun des exercices, indiquez un pourcentage subjectif d'investissement de chaque membre du groupe. **Des interrogations aléatoires en classe pourront être réalisées pour vérifier votre contribution/compréhension**.\n",
    "\n",
    "Les tentatives infructueuses, les explications, commentaires et analyses des échecs **rapportent des points**. Ne rendez pas copie-blanche, même si votre fonction n'est pas correcte."
   ]
  },
  {
   "cell_type": "markdown",
   "id": "1fb0b066-c859-40a3-a8d6-7bcc656f8764",
   "metadata": {
    "id": "1fb0b066-c859-40a3-a8d6-7bcc656f8764"
   },
   "source": [
    "## Exercice 1\n",
    "Implémentez une type de données abstrait `HashTable` (table de hachage) qui utilise une dispersion linéaire (linear probing strategy) pour résoudre les collisions. La classe `HashTable` et ses fonctions à implémenter sont données - libre à vous cependant d'ajouter de nouvelles méthodes aux aux classes. Vous pouvez optionnellement utiliser une dispersion quadratique.\n",
    "\n",
    "Vous devez implémenter une classe `HashableImpl` dont les fonctions sont données. Cela correspond aux éléments qui seront stockés dans la hash table."
   ]
  },
  {
   "cell_type": "code",
   "execution_count": 1,
   "id": "f7d53256-24f6-4c2c-860f-2b0577daf6db",
   "metadata": {
    "id": "f7d53256-24f6-4c2c-860f-2b0577daf6db",
    "ExecuteTime": {
     "end_time": "2024-12-02T18:32:14.816957Z",
     "start_time": "2024-12-02T18:32:14.803715Z"
    }
   },
   "outputs": [],
   "source": [
    "# Représente un élément pouvant être stocké dans une instance de HashTable.\n",
    "class HashableImpl:\n",
    "    key = None\n",
    "    is_active = True\n",
    "    def __init__(self, key, is_active=True):\n",
    "        self.key = key\n",
    "        self.is_active = is_active  # (useless for you but keep it)\n",
    "\n",
    "    # Calcule le hash de cette instance de HashableImpl.\n",
    "    # La valeur retournée est un hash, représenté par un nombre entier.\n",
    "    def hash(self, table_size):\n",
    "       \n",
    "        return self.key % table_size\n",
    "\n",
    "    # Retourne la clé comme représentation de cette instance\n",
    "    # (vous n'avez pas besoin de modifier cette fonction).\n",
    "    def __str__(self):\n",
    "        return str(self.key)\n",
    "\n",
    "\n",
    "class HashTable:\n",
    "    def __init__(self):\n",
    "        self.ht = [] # Initialise la liste utilisée pour stocker les éléments de la hashtable\n",
    "        self.size = 0 # Compte le nombre de clés présentes dans la table\n",
    "        self.collisions = 0 # Compte le nombre de collisions\n",
    "         \n",
    "\n",
    "    # Indique le nombre de collisions qui ont eu lieu lors de la recherche d'éléments dans la hashtable\n",
    "    def number_of_collisions(self):\n",
    "        return self.collisions\n",
    "\n",
    "    # Vide la hashtable et réinitialise le compteur de collisions\n",
    "    def make_empty(self):\n",
    "        self.ht = []\n",
    "        self.size = 0\n",
    "        self.collisions = 0\n",
    "\n",
    "    # Vérifie si la hashtable est vide ou pas.\n",
    "    # Retourne True si la hashtable est vide, False sinon\n",
    "    def is_empty(self):\n",
    "        return self.size == 0 # Return True if the size is 0 simple as that\n",
    "\n",
    "    # Insére un élément x HashableImpl dans la hash table.\n",
    "    def insert(self, x):\n",
    "        index = x.hash(len(self.ht) or 1) #Handle empty list on first insert\n",
    "        if len(self.ht) == 0:\n",
    "            self.ht = [None] * 11\n",
    "            \n",
    "        while self.ht[index] is not None:\n",
    "            index = (index + 1) % len(self.ht)\n",
    "            self.collisions += 1\n",
    "        self.ht[index] = x\n",
    "        self.size += 1\n",
    "        \n",
    "    # Supprime l'élément x HashableImpl de la hash table\n",
    "    # Une exception ItemNotFound est levée si l'élément ne se trouve pas dans la liste\n",
    "    def remove(self, x): # Throws ItemNotFound\n",
    "        index = x.hash(len(self.ht))\n",
    "        while self.ht[index] is not None:\n",
    "            if self.ht[index].key == x.key:\n",
    "                self.ht[index].is_active = False\n",
    "                self.size -= 1\n",
    "                return\n",
    "            index = (index + 1) % len(self.ht)\n",
    "        raise ItemNotFound\n",
    "\n",
    "    # Trouve l'élément x HashableImpl dans hash table\n",
    "    # Une exception ItemNotFound est levée si l'élément ne se trouve pas dans la liste\n",
    "    # Retourne l'élément HashableImpl\n",
    "    def find(self,x): # Throws ItemNotFound\n",
    "        index = x.hash(len(self.ht))\n",
    "        while self.ht[index] is not None:\n",
    "            if self.ht[index].key == x.key:\n",
    "                return self.ht[index]\n",
    "            index = (index + 1) % len(self.ht)\n",
    "        raise ItemNotFound\n",
    "\n",
    "class Error(Exception):\n",
    "    pass\n",
    "\n",
    "class ItemNotFound(Error):\n",
    "    pass"
   ]
  },
  {
   "cell_type": "code",
   "execution_count": 2,
   "id": "236e8517",
   "metadata": {
    "id": "236e8517",
    "ExecuteTime": {
     "end_time": "2024-12-02T18:32:15.261916Z",
     "start_time": "2024-12-02T18:32:14.818645Z"
    }
   },
   "outputs": [
    {
     "name": "stdout",
     "output_type": "stream",
     "text": [
      "Should display three elements, while the other entries should be None:\n",
      "156\n",
      "None\n",
      "90\n",
      "None\n",
      "None\n",
      "None\n",
      "None\n",
      "None\n",
      "None\n",
      "31\n",
      "None\n"
     ]
    },
    {
     "ename": "ItemNotFound",
     "evalue": "",
     "output_type": "error",
     "traceback": [
      "\u001B[0;31m---------------------------------------------------------------------------\u001B[0m",
      "\u001B[0;31mItemNotFound\u001B[0m                              Traceback (most recent call last)",
      "Cell \u001B[0;32mIn[2], line 31\u001B[0m\n\u001B[1;32m     29\u001B[0m test_unexisting_value(HashableImpl(\u001B[38;5;241m0\u001B[39m))\n\u001B[1;32m     30\u001B[0m test_unexisting_value(HashableImpl(\u001B[38;5;241m1\u001B[39m))\n\u001B[0;32m---> 31\u001B[0m \u001B[38;5;28;01massert\u001B[39;00m \u001B[43mht\u001B[49m\u001B[38;5;241;43m.\u001B[39;49m\u001B[43mfind\u001B[49m\u001B[43m(\u001B[49m\u001B[43mh1\u001B[49m\u001B[43m)\u001B[49m \u001B[38;5;241m!=\u001B[39m \u001B[38;5;28;01mNone\u001B[39;00m\n\u001B[1;32m     32\u001B[0m \u001B[38;5;28;01massert\u001B[39;00m ht\u001B[38;5;241m.\u001B[39mfind(h2) \u001B[38;5;241m!=\u001B[39m \u001B[38;5;28;01mNone\u001B[39;00m\n\u001B[1;32m     33\u001B[0m \u001B[38;5;28;01massert\u001B[39;00m ht\u001B[38;5;241m.\u001B[39mfind(h3) \u001B[38;5;241m!=\u001B[39m \u001B[38;5;28;01mNone\u001B[39;00m\n",
      "Cell \u001B[0;32mIn[1], line 76\u001B[0m, in \u001B[0;36mHashTable.find\u001B[0;34m(self, x)\u001B[0m\n\u001B[1;32m     74\u001B[0m         \u001B[38;5;28;01mreturn\u001B[39;00m \u001B[38;5;28mself\u001B[39m\u001B[38;5;241m.\u001B[39mht[index]\n\u001B[1;32m     75\u001B[0m     index \u001B[38;5;241m=\u001B[39m (index \u001B[38;5;241m+\u001B[39m \u001B[38;5;241m1\u001B[39m) \u001B[38;5;241m%\u001B[39m \u001B[38;5;28mlen\u001B[39m(\u001B[38;5;28mself\u001B[39m\u001B[38;5;241m.\u001B[39mht)\n\u001B[0;32m---> 76\u001B[0m \u001B[38;5;28;01mraise\u001B[39;00m ItemNotFound\n",
      "\u001B[0;31mItemNotFound\u001B[0m: "
     ]
    }
   ],
   "source": [
    "def test_unexisting_value(hashable):\n",
    "    try:\n",
    "        ht.find(hashable)\n",
    "        print(\"Error: the item '\", hashable, \"' must not exist in the hash table\")\n",
    "    except ItemNotFound:\n",
    "        pass\n",
    "    except Exception as e:\n",
    "        print(\"Error: an unexpected exception has been raised\", type(e), \":\", e)\n",
    "        raise\n",
    "\n",
    "ht = HashTable()\n",
    "assert ht.is_empty() == True\n",
    "h1 = HashableImpl(156)\n",
    "ht.insert(h1)\n",
    "assert ht.is_empty() == False\n",
    "h2 = HashableImpl(90)\n",
    "ht.insert(h2)\n",
    "h3 = HashableImpl(31)\n",
    "ht.insert(h3)\n",
    "print(\"Should display three elements, while the other entries should be None:\")\n",
    "for e in ht.ht:\n",
    "    if e is not None:\n",
    "        if e.is_active:\n",
    "            print(e)\n",
    "    else:\n",
    "        print(e)\n",
    "print()\n",
    "\n",
    "test_unexisting_value(HashableImpl(0))\n",
    "test_unexisting_value(HashableImpl(1))\n",
    "assert ht.find(h1) != None\n",
    "assert ht.find(h2) != None\n",
    "assert ht.find(h3) != None\n",
    "\n",
    "temp1 = ht.find(h1)\n",
    "print(\"h1: \", temp1.key)\n",
    "temp3 = ht.find(h3)\n",
    "print(\"h3: \", temp3.key)\n",
    "print()\n",
    "ht.remove(h2)\n",
    "print(\"Should display two elements, while the other entries should be None:\")\n",
    "for e in ht.ht:\n",
    "    if e is not None:\n",
    "        if e.is_active:\n",
    "            print(e)\n",
    "        else:\n",
    "            print(None)\n",
    "    else:\n",
    "        print(e)\n",
    "print()\n",
    "\n",
    "test_unexisting_value(HashableImpl(0))\n",
    "test_unexisting_value(HashableImpl(1))\n",
    "assert ht.find(h1) != None\n",
    "test_unexisting_value(h2)\n",
    "assert ht.find(h3) != None\n",
    "\n",
    "h4 = HashableImpl(41)\n",
    "ht.insert(h4)\n",
    "h5 = HashableImpl(54)\n",
    "ht.insert(h5)\n",
    "print(\"Should display four elements, while the other entries should be None:\")\n",
    "for e in ht.ht:\n",
    "    if e is not None:\n",
    "        if e.is_active:\n",
    "            print(e)\n",
    "        else:\n",
    "            print(None)\n",
    "    else:\n",
    "        print(e)\n",
    "\n",
    "print()\n",
    "\n",
    "test_unexisting_value(HashableImpl(0))\n",
    "test_unexisting_value(HashableImpl(1))\n",
    "assert ht.find(h1) != None\n",
    "test_unexisting_value(h2)\n",
    "assert ht.find(h3) != None\n",
    "assert ht.find(h4) != None\n",
    "assert ht.find(h5) != None\n",
    "\n",
    "h6 = HashableImpl(716)\n",
    "ht.insert(h6)\n",
    "print(\"Should display five elements, while the other entries should be None:\")\n",
    "for e in ht.ht:\n",
    "    if e is not None:\n",
    "        if e.is_active:\n",
    "            print(e)\n",
    "        else:\n",
    "            print(None)\n",
    "    else:\n",
    "        print(e)\n",
    "\n",
    "print()\n",
    "\n",
    "test_unexisting_value(HashableImpl(0))\n",
    "test_unexisting_value(HashableImpl(1))\n",
    "assert ht.find(h1) != None\n",
    "test_unexisting_value(h2)\n",
    "assert ht.find(h3) != None\n",
    "assert ht.find(h4) != None\n",
    "assert ht.find(h5) != None\n",
    "assert ht.find(h6) != None\n",
    "\n",
    "ht.make_empty()\n",
    "assert ht.is_empty() == True\n",
    "print(\"Should display all entries as None:\")\n",
    "for e in ht.ht:\n",
    "    if e is not None:\n",
    "        if e.is_active:\n",
    "            print(e)\n",
    "        else:\n",
    "            print(None)\n",
    "    else:\n",
    "        print(e)\n",
    "\n",
    "print()\n",
    "\n",
    "test_unexisting_value(HashableImpl(0))\n",
    "test_unexisting_value(HashableImpl(1))\n",
    "test_unexisting_value(h1)\n",
    "test_unexisting_value(h2)\n",
    "test_unexisting_value(h3)\n",
    "test_unexisting_value(h4)\n",
    "test_unexisting_value(h5)\n",
    "test_unexisting_value(h6)\n",
    "\n",
    "try:\n",
    "    ht.remove(h4)\n",
    "    print(\"Error: an ItemNotFound exception must be raised\")\n",
    "except ItemNotFound:\n",
    "    pass\n",
    "except Exception as e:\n",
    "    print(\"Error: an unexpected exception has been raised\", type(e), \":\", e)\n",
    "    raise"
   ]
  },
  {
   "cell_type": "markdown",
   "id": "2ca32f2e-e995-477c-8535-62f6e42dc093",
   "metadata": {
    "id": "2ca32f2e-e995-477c-8535-62f6e42dc093"
   },
   "source": [
    "### Explications"
   ]
  },
  {
   "cell_type": "markdown",
   "id": "f5a17952-cba5-4bc4-9a41-aa68a0b0d806",
   "metadata": {
    "id": "f5a17952-cba5-4bc4-9a41-aa68a0b0d806"
   },
   "source": [
    "### **1. Création de la structure `HashableImpl`**\n",
    "Nous avons utilisé la classe `HashableImpl` pour représenter les éléments qui seront stockés dans la table de hachage. Chaque élément possède une clé unique (par exemple, un nombre entier) et un statut `is_active` pour savoir si l'élément est toujours valide dans la table.\n",
    "\n",
    "- La méthode `hash` permet de déterminer l'index où l'élément doit être placé dans la table. Cela se fait en prenant la clé de l'élément et en la divisant par la taille de la table (`key % table_size`).\n",
    "\n",
    "### **2. Gestion de la table de hachage (`HashTable`)**\n",
    "\n",
    "Pour résoudre les problèmes de stockage d'éléments dans une table de hachage, nous avons completé les functions suivantes :\n",
    "\n",
    "- **Initialisation** : La table commence vide avec une taille de 0. Lors de l'insertion du premier élément, une taille par défaut est utilisée pour la table. Cela permet de gérer les éléments même si la table est vide au départ.\n",
    "  \n",
    "- **Insertion** : Lorsque l'on insère un élément, nous calculons d'abord sa position avec le hash. Si cette position est déjà occupée (collision), on utilise une stratégie de *dispersion linéaire* : on cherche la prochaine case libre en avançant d'une case à la fois. Chaque fois qu'une collision se produit, un compteur de collisions est incrémenté pour savoir combien de fois cette situation a eu lieu.\n",
    "\n",
    "- **Suppression** : Lorsqu'un élément est supprimé, on marque cet élément comme inactif au lieu de le supprimer vraiment. Cela permet de gérer les éléments supprimés sans perturber les autres éléments dans la table. Si l'élément n'est pas trouvé, une exception `ItemNotFound` est levée.\n",
    "\n",
    "- **Recherche** : Pour trouver un élément, on utilise la même méthode que pour l'insertion. On commence par calculer l'index, puis on vérifie si l'élément est à cet endroit. Si la case est occupée par un autre élément, on avance d'une case à la fois jusqu'à trouver l'élément ou constater qu'il n'existe pas.\n"
   ]
  },
  {
   "cell_type": "markdown",
   "id": "aiZ7b3p885sK",
   "metadata": {
    "id": "aiZ7b3p885sK"
   },
   "source": [
    "### Exercice 1.1\n",
    "Créer une hash table de taille 997. Disperser dans la table $n$ clés, pour chaque $n$ entier dans $[200,900]$."
   ]
  },
  {
   "cell_type": "markdown",
   "id": "xnlR-yH08yYs",
   "metadata": {
    "id": "xnlR-yH08yYs"
   },
   "source": [
    "\n",
    "\n",
    "```python\n",
    "    # Dispersion\n",
    "    for i in range(n):\n",
    "        a_key = np.random.randint(4242)\n",
    "        h = HashableImpl(a_key, True)\n",
    "        hash_table.insert(h)\n",
    "```\n",
    "\n"
   ]
  },
  {
   "cell_type": "markdown",
   "id": "3Mc-YGMRB0zq",
   "metadata": {
    "id": "3Mc-YGMRB0zq"
   },
   "source": [
    "Un *miss* (similaire à une collision) est, lors d'une phase de sondage, la visite d'une cellule de la table qui ne correspond pas à la clé recherchée.\n",
    "\n",
    "Pour chaque $n$, afficher le nombre de *miss* pour 100 requêtes `find` de clés existantes (les choisir au hasard).\n",
    "\n"
   ]
  },
  {
   "cell_type": "markdown",
   "id": "a557c604",
   "metadata": {
    "id": "a557c604"
   },
   "source": [
    "\n",
    "\n",
    "Quelle est la relation entre le facteur de charge (load factor) de la table de hachage et le nombre de miss ?"
   ]
  },
  {
   "cell_type": "code",
   "outputs": [],
   "source": [],
   "metadata": {
    "collapsed": false,
    "ExecuteTime": {
     "end_time": "2024-12-02T18:45:42.618058Z",
     "start_time": "2024-12-02T18:45:42.612503Z"
    }
   },
   "id": "2b37639d243b1951",
   "execution_count": 3
  },
  {
   "cell_type": "markdown",
   "id": "c61702f7",
   "metadata": {
    "id": "c61702f7"
   },
   "source": [
    "### Exercice 1.2\n",
    "Quelle est la particularité de 997, la taille choisie pour la hash table ?"
   ]
  },
  {
   "cell_type": "markdown",
   "id": "3a6ddace",
   "metadata": {
    "id": "3a6ddace"
   },
   "source": [
    "<< A REMPLIR PAR L'ETUDIANT >>"
   ]
  }
 ],
 "metadata": {
  "colab": {
   "provenance": []
  },
  "interpreter": {
   "hash": "4d627b3ea71e790ed7d9c294cc76e400708b53c97c06f52348911b9296e7b669"
  },
  "kernelspec": {
   "display_name": "Python 3 (ipykernel)",
   "language": "python",
   "name": "python3"
  },
  "language_info": {
   "codemirror_mode": {
    "name": "ipython",
    "version": 3
   },
   "file_extension": ".py",
   "mimetype": "text/x-python",
   "name": "python",
   "nbconvert_exporter": "python",
   "pygments_lexer": "ipython3",
   "version": "3.8.8"
  }
 },
 "nbformat": 4,
 "nbformat_minor": 5
}
