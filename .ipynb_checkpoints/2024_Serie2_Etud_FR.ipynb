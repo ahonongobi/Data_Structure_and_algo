{
 "cells": [
  {
   "cell_type": "markdown",
   "id": "9aec3600-4aba-4aca-8b31-fafd437386b0",
   "metadata": {
    "id": "9aec3600-4aba-4aca-8b31-fafd437386b0"
   },
   "source": [
    "# Série 2\n",
    "Ce document contient les différents exercices à réaliser. Veuillez compléter et rendre ces exercices dans deux semaines.\n",
    "\n",
    "Pour chaque exercice:\n",
    "* implémentez ce qui est demandé\n",
    "* commentez votre code\n",
    "* expliquez **en français** ce que vous avez codé dans la cellule correspondante\n",
    "\n",
    "Dans vos explications à chacun des exercices, indiquez un pourcentage subjectif d'investissement de chaque membre du groupe. **Des interrogations aléatoires en classe pourront être réalisées pour vérifier votre contribution/compréhension.**"
   ]
  },
  {
   "cell_type": "markdown",
   "id": "c048d1b5-ae84-420b-ad75-54022ad3d823",
   "metadata": {
    "id": "c048d1b5-ae84-420b-ad75-54022ad3d823"
   },
   "source": [
    "## Exercice 1\n",
    "Implémentez et testez un algorithme permettant d'inverser une liste d'entiers en utilisant une méthode récursive."
   ]
  },
  {
   "cell_type": "code",
   "execution_count": 8,
   "id": "62f296a6",
   "metadata": {},
   "outputs": [],
   "source": [
    "def inverse(m):\n",
    "    if len(m) == 1:   #cas de base qui stop la récursion\n",
    "        return m\n",
    "    else:  \n",
    "        return [m[-1]] + inverse(m[:-1])"
   ]
  },
  {
   "cell_type": "code",
   "execution_count": 9,
   "id": "5b312c5a",
   "metadata": {},
   "outputs": [
    {
     "name": "stdout",
     "output_type": "stream",
     "text": [
      "[2, 3, 7, 8, 5]\n"
     ]
    }
   ],
   "source": [
    "print(inverse([5,8,7,3,2]))"
   ]
  },
  {
   "cell_type": "code",
   "execution_count": 3,
   "id": "102485ed-c85e-44f3-ae2f-9023bdffc948",
   "metadata": {
    "id": "102485ed-c85e-44f3-ae2f-9023bdffc948"
   },
   "outputs": [],
   "source": [
    "assert inverse([5,8,7,3,2]) == [2,3,7,8,5]\n",
    "assert not inverse([5,8,7,3,2]) == [5,8,7,3,2]"
   ]
  },
  {
   "cell_type": "markdown",
   "id": "a16a16c3-0418-4825-af9c-86694192e9f5",
   "metadata": {
    "id": "a16a16c3-0418-4825-af9c-86694192e9f5"
   },
   "source": [
    "### Explications"
   ]
  },
  {
   "cell_type": "markdown",
   "id": "cae476f0-400c-4ef8-b018-4afa60982a5a",
   "metadata": {
    "id": "cae476f0-400c-4ef8-b018-4afa60982a5a"
   },
   "source": [
    "La fonction \"inverse\" ci-dessus comporte un test qui vérifie si la longueur de la liste est de 1. Il s'agit du cas de base qui stop la récursion. avant ce cas, la fonction s'appele elle-même au travers d'un tableau qui commence par le dernier élément du tableau entré en paramètre, ce dernier se raccourcissant par la gauche à chaque nouvelle récursion jusqu'au cas de base. "
   ]
  },
  {
   "cell_type": "markdown",
   "id": "f4caa6ca-084e-45ea-bf26-9ce9ea4c4667",
   "metadata": {
    "id": "f4caa6ca-084e-45ea-bf26-9ce9ea4c4667"
   },
   "source": [
    "## Exercice 2\n",
    "Implémentez une méthode récursive qui trouve et retourne le plus petit élément d'une liste, où la liste et sa taille sont données en paramètre."
   ]
  },
  {
   "cell_type": "code",
   "execution_count": 34,
   "id": "d76d206b-89e0-44f4-bf0d-10f223950c2a",
   "metadata": {
    "id": "d76d206b-89e0-44f4-bf0d-10f223950c2a"
   },
   "outputs": [],
   "source": [
    "def minEl(m, s: int):\n",
    "    if s == 1:    #cas de base\n",
    "        return m[0]\n",
    "    \n",
    "    comp = minEl(m, s-1)    #variable de comparaison\n",
    "    \n",
    "    if m[s-1] < comp:     #test de comparaison\n",
    "        return m[s-1]\n",
    "    else:\n",
    "        return comp"
   ]
  },
  {
   "cell_type": "code",
   "execution_count": 35,
   "id": "5a315bd4",
   "metadata": {},
   "outputs": [
    {
     "name": "stdout",
     "output_type": "stream",
     "text": [
      "1\n"
     ]
    }
   ],
   "source": [
    "print(minEl([6,5,3,9,1], 5))"
   ]
  },
  {
   "cell_type": "code",
   "execution_count": 36,
   "id": "f3963a0f-8fda-4321-ab94-8856103945c9",
   "metadata": {
    "id": "f3963a0f-8fda-4321-ab94-8856103945c9"
   },
   "outputs": [],
   "source": [
    "assert minEl([6,5,3,9,1], 5) == 1\n",
    "assert minEl([6,5,3,-9,1], 5) == -9\n",
    "assert not minEl([6,5,3,-9,1], 5) == 1"
   ]
  },
  {
   "cell_type": "markdown",
   "id": "4f21166a-1dff-44fe-87fa-97721ca66713",
   "metadata": {
    "id": "4f21166a-1dff-44fe-87fa-97721ca66713"
   },
   "source": [
    "### Explications"
   ]
  },
  {
   "cell_type": "markdown",
   "id": "2ea0051d-e11f-4c78-a560-1ead461b83a4",
   "metadata": {
    "id": "2ea0051d-e11f-4c78-a560-1ead461b83a4"
   },
   "source": [
    "La partie récursive de la méthode minEl se trouve au niveau de la variable \"comp\". C'est à travers cette variable que nous effectuons un test de comparaison entre les différentes variable de la liste passée en paramètre pour déterminer laquel est la plus petite. à chaque récursion, nous réduisons le paramètre s de une unité jusqu'à ce qu'il prenne la valeur de 1 dans quel cas la fonction renvoit l'élément de la liste correspondant à cette indice (position 0). Ce dernier est ensuite comparé au dernier élément de la liste précédement passé en paramètre, toujours en se servant du paramètre s comme indice de position. \n",
    "en fonction du résultat de la comparaison, la fonction retourne soit la variable comp, ou l'élément de la liste correspondant à la position de l'indice s-1."
   ]
  },
  {
   "cell_type": "markdown",
   "id": "5ed1f459-7bd3-48dc-ac2b-e149c6df6c7f",
   "metadata": {
    "id": "5ed1f459-7bd3-48dc-ac2b-e149c6df6c7f"
   },
   "source": [
    "## Exercice 3\n",
    "Implémentez une méthode récursive qui cherche un élément dans une liste triée en utilisant la recherche binaire. La liste, la taille et l'élément cible sont donnés en paramètre."
   ]
  },
  {
   "cell_type": "code",
   "execution_count": 1,
   "id": "1a9423cf",
   "metadata": {},
   "outputs": [
    {
     "name": "stdout",
     "output_type": "stream",
     "text": [
      "5\n"
     ]
    }
   ],
   "source": [
    "def findItem(m, s: int, t: int):\n",
    "   \n",
    "    if len(m)%2 == 0:           # Calcul de l'index du milieu basé sur la longueur s\n",
    "        index = (len(m) // 2) - 1\n",
    "    if len(m)%2 != 0:\n",
    "        index = len(m)//2\n",
    "    \n",
    "    if m[index] == t:       #Vérification si l'élément du milieu est celui recherché (cas de base)\n",
    "        return s - len(m) + index    # Retourne l'indice \"absolue\" par rapport à la liste d'origine\n",
    "    \n",
    "    if m[index] < t:   # Si l'élément du milieu est inférieur à l'élément cherché, recherche dans la moitié droite\n",
    "        return findItem(m[index+1:], s, t)\n",
    "    \n",
    "    else:      # Si l'élément du milieu est supérieur à l'élément cherché, recherche dans la moitié gauche\n",
    "        return findItem(m[:index], s - len(m) + index, t)\n",
    "\n",
    "print(findItem([2, 4, 7, 9, 20, 21, 32, 54, 65], 9, 21))\n"
   ]
  },
  {
   "cell_type": "code",
   "execution_count": 38,
   "id": "aeb1285d",
   "metadata": {},
   "outputs": [
    {
     "name": "stdout",
     "output_type": "stream",
     "text": [
      "7\n"
     ]
    }
   ],
   "source": [
    "print(findItem([1,2,4,7,8], 5, 7))"
   ]
  },
  {
   "cell_type": "code",
   "execution_count": null,
   "id": "75ca81ec-27df-45a1-9464-57e73c08aef7",
   "metadata": {
    "id": "75ca81ec-27df-45a1-9464-57e73c08aef7"
   },
   "outputs": [],
   "source": [
    "assert findItem([1,2,4,7,8], 5, 7) == 3\n",
    "assert findItem([-12,-9,10,44,85,91], 6, -9) == 1\n",
    "assert not findItem([2,4,7,9], 4, 2) == 1"
   ]
  },
  {
   "cell_type": "markdown",
   "id": "3f47e9dc-52a3-419a-b944-55a7a0d0a4e7",
   "metadata": {
    "id": "3f47e9dc-52a3-419a-b944-55a7a0d0a4e7"
   },
   "source": [
    "### Explications"
   ]
  },
  {
   "cell_type": "markdown",
   "id": "00cd736a-f752-461e-8540-4bf6e9193b4d",
   "metadata": {
    "id": "00cd736a-f752-461e-8540-4bf6e9193b4d"
   },
   "source": [
    "La fonction commence par calculer l'indice qui servira à déterminer la position centrale de la liste afin d'effectuer la recherche binaire. La fonction effectue ensuite des tests afin de déterminer l'indice de la valeur recherché dans la liste de base. Si l'élément de la liste à la position de l'index déterminé en début de fonction correspond à la valeur recherchée, la fonction retourne l'indice correspondant dans ledit tableau. Autrement, la fonction test si la valeur recherchée est plus petite ou plus grande que la valeur correspondant à l'index dans le tableau passée en paramètre. En fonction du résultat des tests, la fonction va tronquer le tableau vers la droite ou la gauche et effectuée une nouvelle recherche en se rappelant elle même et ce jusqu'à ce que la valeur recherchée soit trouvée. "
   ]
  },
  {
   "cell_type": "markdown",
   "id": "07be6c36-643f-4951-b68c-8b792565eda7",
   "metadata": {
    "id": "07be6c36-643f-4951-b68c-8b792565eda7"
   },
   "source": [
    "## Exercice 4\n",
    "La \"Fonction 91 de McCarthy\" est définie comme suit:\n",
    "\n",
    "    M(n) for integers > 0:\n",
    "      if n > 100, M(n) = n - 10\n",
    "      if n <= 100, M(n) = M(M(n+11))\n",
    "\n",
    "La notation `M(M(n+11))` est un appel récursif imbriqué.\n",
    "\n",
    "Implémentez et testez une méthode python qui retourne la nombre de McCarthy."
   ]
  },
  {
   "cell_type": "code",
   "execution_count": 8,
   "id": "DaJgTPL5rjSr",
   "metadata": {
    "id": "DaJgTPL5rjSr"
   },
   "outputs": [
    {
     "name": "stdout",
     "output_type": "stream",
     "text": [
      "91\n"
     ]
    }
   ],
   "source": [
    "def mcCarthy(n: int):\n",
    "    if n > 100:\n",
    "        return n-10\n",
    "    elif n <= 100:\n",
    "        return mcCarthy(mcCarthy(n+11))\n",
    "    return None\n",
    "print(mcCarthy())"
   ]
  },
  {
   "cell_type": "code",
   "execution_count": 3,
   "id": "NBgptqtXrlnR",
   "metadata": {
    "id": "NBgptqtXrlnR"
   },
   "outputs": [],
   "source": [
    "assert mcCarthy(91) == 91\n",
    "assert mcCarthy(101) == 91\n",
    "assert mcCarthy(102) == 92\n",
    "assert mcCarthy(104) == 94"
   ]
  },
  {
   "cell_type": "markdown",
   "id": "g0RAJOR2r1h8",
   "metadata": {
    "id": "g0RAJOR2r1h8"
   },
   "source": [
    "### Explications"
   ]
  },
  {
   "cell_type": "markdown",
   "id": "Zz15jFT2r3q5",
   "metadata": {
    "id": "Zz15jFT2r3q5"
   },
   "source": [
    "La fonction prend un entier n. Si n est supérieur à 100, la fonction renvoie n - 10 sans continuer la récursion. il s'agit ici du cas de base qui stop la récursion. Une deuxième condition s'applique si n est inférieur ou égal à 100, la fonction s'appelle récursivement deux fois, d'abord avec n + 11, puis en prenant le résultat de cet appel pour le passer dans un second appel. "
   ]
  },
  {
   "cell_type": "markdown",
   "id": "Eznl-QKzrrYJ",
   "metadata": {
    "id": "Eznl-QKzrrYJ"
   },
   "source": [
    "### Exercise 4.1\n",
    "Quels sont les nombres de McCarthy pour: 1, 15, 79, 99, 100, 101, 200 ?"
   ]
  },
  {
   "cell_type": "markdown",
   "id": "QrHhXyn2ruSd",
   "metadata": {
    "id": "QrHhXyn2ruSd"
   },
   "source": [
    "Pour 1, 15, 79, 99, 100, 101, le nombre de McCarthy est 91.\n",
    "Pour 200, ce nombre est 190"
   ]
  },
  {
   "cell_type": "markdown",
   "id": "5gtvWXPtPqEV",
   "metadata": {
    "id": "5gtvWXPtPqEV"
   },
   "source": [
    "## Exercice 5 - (<font color='#db60cf'>Bonus</font>) Complexité algorithmique de Fibonacci récursif\n",
    "On définit l'*algorithme de Fibonacci récursif* comme suit :"
   ]
  },
  {
   "cell_type": "code",
   "execution_count": null,
   "id": "xkC4gzDnTK4r",
   "metadata": {
    "id": "xkC4gzDnTK4r"
   },
   "outputs": [],
   "source": [
    "def fibonacci_recursive(n):\n",
    "    if n <= 1:\n",
    "        return n\n",
    "    else:\n",
    "        result1 = fibonacci_recursive(n-1,)\n",
    "        result2 = fibonacci_recursive(n-2,)\n",
    "        return result1 + result2  # Summation counts for 1 in the complexity"
   ]
  },
  {
   "cell_type": "markdown",
   "id": "J4iX_XyFT4hO",
   "metadata": {
    "id": "J4iX_XyFT4hO"
   },
   "source": [
    "Soit $T(n)$ la complexité temporelle de la fonction Fibonacci lorsqu'elle est appelée avec un $n\\in \\mathbb{N}$. Il vient de l'implémentation que $T(0)=T(1)=1$ et $$T(n)=T(n-1)+T(n-2)+1$$ pour tout $n>1$.\n",
    "\n",
    "En admettant que pour tout $n>2$, $T(n-2) \\approx T(n-1)$ (en réalité, $T(n-2)=O(T(n-1)$), exprimer $T(n)$ en fonction de $T(n-1)$.\n",
    "Exprimer alors $T(n-1)$ en fonction de $T(n-2)$, puis $T(n-2)$ en fonction de $T(n-3)$. Enfin, exprimer $T(n)$ en fonction de $T(n-3)$.\n",
    "\n",
    "Démontrer par récurrence une expression de $T(n)$ en fonction de $n$. L'implémenter dans la cellule contenant `def T(n)`."
   ]
  },
  {
   "cell_type": "markdown",
   "id": "CUvBdl-PgmG_",
   "metadata": {
    "id": "CUvBdl-PgmG_"
   },
   "source": [
    "<< A REMPLIR PAR L'ETUDIANT >>"
   ]
  },
  {
   "cell_type": "code",
   "execution_count": null,
   "id": "UTDY-5feNAiG",
   "metadata": {
    "id": "UTDY-5feNAiG"
   },
   "outputs": [],
   "source": [
    "# Rendering latex equations with a package installed by magic cell\n",
    "%pip install latexify-py==0.2.0"
   ]
  },
  {
   "cell_type": "code",
   "execution_count": null,
   "id": "pCK16d1hN3Ui",
   "metadata": {
    "id": "pCK16d1hN3Ui"
   },
   "outputs": [],
   "source": [
    "import latexify\n",
    "\n",
    "@latexify.function\n",
    "def T(n):\n",
    "    # A CORRIGER\n",
    "    return n\n",
    "\n",
    "T"
   ]
  },
  {
   "cell_type": "markdown",
   "id": "LcwOXBJZpGQR",
   "metadata": {
    "id": "LcwOXBJZpGQR"
   },
   "source": [
    "Ajouter une ligne à `fibonacci_recursive` pour que le troisième subplot (voir ci-après) montre les valeurs appropriées :"
   ]
  },
  {
   "cell_type": "code",
   "execution_count": null,
   "id": "ppHNZ46CpOjJ",
   "metadata": {
    "id": "ppHNZ46CpOjJ"
   },
   "outputs": [],
   "source": [
    "def fibonacci_recursive(n):\n",
    "    if n <= 1:\n",
    "        return n\n",
    "    else:\n",
    "        result1 = fibonacci_recursive(n-1,)\n",
    "        result2 = fibonacci_recursive(n-2,)\n",
    "        # A COMPLETER\n",
    "        return result1 + result2"
   ]
  },
  {
   "cell_type": "markdown",
   "id": "xfNgKVySr883",
   "metadata": {
    "id": "xfNgKVySr883"
   },
   "source": [
    "### Explications"
   ]
  },
  {
   "cell_type": "markdown",
   "id": "AmrXdRw8sAT-",
   "metadata": {
    "id": "AmrXdRw8sAT-"
   },
   "source": [
    "<< A REMPLIR PAR L'ETUDIANT >>"
   ]
  },
  {
   "cell_type": "code",
   "execution_count": 2,
   "id": "MRx_3l-yeW6o",
   "metadata": {
    "id": "MRx_3l-yeW6o"
   },
   "outputs": [
    {
     "ename": "NameError",
     "evalue": "name 'fibonacci_recursive' is not defined",
     "output_type": "error",
     "traceback": [
      "\u001b[1;31m---------------------------------------------------------------------------\u001b[0m",
      "\u001b[1;31mNameError\u001b[0m                                 Traceback (most recent call last)",
      "Input \u001b[1;32mIn [2]\u001b[0m, in \u001b[0;36m<cell line: 22>\u001b[1;34m()\u001b[0m\n\u001b[0;32m     22\u001b[0m \u001b[38;5;28;01mfor\u001b[39;00m n \u001b[38;5;129;01min\u001b[39;00m n_values:\n\u001b[0;32m     23\u001b[0m     call_counts \u001b[38;5;241m=\u001b[39m []\n\u001b[1;32m---> 24\u001b[0m     _, execution_time \u001b[38;5;241m=\u001b[39m measure_execution_time(\u001b[43mfibonacci_recursive\u001b[49m, n)\n\u001b[0;32m     25\u001b[0m     time_complexity \u001b[38;5;241m=\u001b[39m T(n)\n\u001b[0;32m     26\u001b[0m     execution_times\u001b[38;5;241m.\u001b[39mappend(execution_time)\n",
      "\u001b[1;31mNameError\u001b[0m: name 'fibonacci_recursive' is not defined"
     ]
    }
   ],
   "source": [
    "import time\n",
    "import matplotlib.pyplot as plt\n",
    "import numpy as np\n",
    "\n",
    "\n",
    "def measure_execution_time(func, *args):\n",
    "    start_time = time.time()\n",
    "    result = func(*args)\n",
    "    end_time = time.time()\n",
    "    execution_time = end_time - start_time\n",
    "    return result, execution_time\n",
    "\n",
    "# Generate values for n\n",
    "n_values = np.arange(1, 30)\n",
    "\n",
    "# Lists to store results\n",
    "execution_times = []\n",
    "time_complexity_values = []\n",
    "recursive_calls = []\n",
    "\n",
    "# Measure execution time, compute time complexity, and count recursive calls for each n\n",
    "for n in n_values:\n",
    "    call_counts = []\n",
    "    _, execution_time = measure_execution_time(fibonacci_recursive, n)\n",
    "    time_complexity = T(n)\n",
    "    execution_times.append(execution_time)\n",
    "    time_complexity_values.append(time_complexity)\n",
    "    recursive_calls.append(np.sum(call_counts))\n",
    "\n",
    "plt.figure(figsize=(15, 5))\n",
    "\n",
    "plt.subplot(1, 3, 1)\n",
    "plt.plot(n_values, execution_times, label='Execution Time')\n",
    "plt.xlabel('Input Size (n)')\n",
    "plt.ylabel('Execution Time (s)')\n",
    "plt.title('Algorithm Execution Time')\n",
    "\n",
    "plt.subplot(1, 3, 2)\n",
    "plt.plot(n_values, time_complexity_values, label=r'$' + T._latex + '$', color='red', linestyle='dashed')\n",
    "plt.xlabel('Input Size (n)')\n",
    "plt.ylabel('Time Complexity')\n",
    "plt.legend()\n",
    "plt.title('Time Complexity Function')\n",
    "\n",
    "plt.subplot(1, 3, 3)\n",
    "plt.plot(n_values, recursive_calls, label='Recursive Calls')\n",
    "plt.xlabel('Input Size (n)')\n",
    "plt.ylabel('Number of Recursive Calls')\n",
    "plt.title('Number of Recursive Calls')\n",
    "\n",
    "plt.tight_layout()\n",
    "plt.show()"
   ]
  },
  {
   "cell_type": "markdown",
   "id": "b_Hshwulo8i0",
   "metadata": {
    "id": "b_Hshwulo8i0"
   },
   "source": [
    "Que montrent ces courbes ?"
   ]
  },
  {
   "cell_type": "markdown",
   "id": "n17qZF9Msq99",
   "metadata": {
    "id": "n17qZF9Msq99"
   },
   "source": [
    "<< A REMPLIR PAR L'ETUDIANT >>"
   ]
  }
 ],
 "metadata": {
  "colab": {
   "provenance": []
  },
  "kernelspec": {
   "display_name": "Python 3 (ipykernel)",
   "language": "python",
   "name": "python3"
  },
  "language_info": {
   "codemirror_mode": {
    "name": "ipython",
    "version": 3
   },
   "file_extension": ".py",
   "mimetype": "text/x-python",
   "name": "python",
   "nbconvert_exporter": "python",
   "pygments_lexer": "ipython3",
   "version": "3.9.12"
  }
 },
 "nbformat": 4,
 "nbformat_minor": 5
}
