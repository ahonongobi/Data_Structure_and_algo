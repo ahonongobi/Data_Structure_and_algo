{
 "cells": [
  {
   "cell_type": "markdown",
   "id": "f51eae32",
   "metadata": {},
   "source": [
    "**Team (Travail ensemble fifty-fifty)**:\n",
    "\n",
    "**Ahonon Gobi Parfait** \n",
    "\n",
    "**Pellisier Mathias**\n",
    "\n"
   ]
  },
  {
   "cell_type": "markdown",
   "id": "3753f8ac-fd3a-4817-9c73-7772af832027",
   "metadata": {
    "id": "3753f8ac-fd3a-4817-9c73-7772af832027"
   },
   "source": [
    "# Serie 12\n",
    "Ce document contient les différents exercices à réaliser. Veuillez compléter et rendre ces exercices pour la semaine prochaine.\n",
    "\n",
    "Pour chaque exercice:\n",
    "* implémentez ce qui est demandé\n",
    "* commentez votre code\n",
    "* expliquez **en français ou English** ce que vous avez codé dans la cellule correspondante\n",
    "\n",
    "\n",
    "Dans vos explications à chacun des exercices, indiquez un pourcentage subjectif d'investissement de chaque membre du groupe. Des interrogations aléatoires en classe pourront être réalisées pour vérifier votre contribution/compréhension.\n",
    "\n",
    "\n",
    "Les tentatives infructueuses, les explications, commentaires et analyses des échecs rapportent des points. Ne rendez pas copie-blanche, même si votre fonction n'est pas correcte."
   ]
  },
  {
   "cell_type": "markdown",
   "id": "3deab0e8",
   "metadata": {
    "id": "3deab0e8"
   },
   "source": [
    "## Exercice 1\n",
    "Soit G, un graphe connexe, à arêtes pondérées. Un arbre couvrant de poids minimal (minimum spanning tree, MST) de G est un sous-graphe de G qui satisfait les propriétés suivantes:\n",
    "\n",
    "* C'est un arbre, c'est-à-dire qu'il est connecté et n'a pas de cycles.\n",
    "* Il est couvrant, c'est-à-dire qu'il contient tous les sommets de G.\n",
    "* Il a un poids total des arêtes minimal parmi tous les arbres possibles.\n",
    "\n",
    "\n",
    "Implémentez l'algorithme de Prim vu en cours pour calculer l'arbre couvrant de poids minimal (MST). L'algorithme de Prim est décrit par le pseudo-code suivant:\n",
    "\n"
   ]
  },
  {
   "cell_type": "markdown",
   "id": "NRTysU2Trf6s",
   "metadata": {
    "id": "NRTysU2Trf6s"
   },
   "source": [
    "```\n",
    "Choisissez un sommet arbitraire s;\n",
    "Marquez s comme visité;\n",
    "Repeat n-1 times {\n",
    "\tSoit {u, v} une arête avec le plus petit poids parmi toutes les arêtes\n",
    "    où u est un sommet visité et v ne l'est pas;\n",
    "\tMarquez v comme visité;\n",
    "\tAjoutez {u, v} dans l'arbre;\n",
    "}\n",
    "```"
   ]
  },
  {
   "cell_type": "code",
   "execution_count": 19,
   "id": "b4c5dde5",
   "metadata": {
    "ExecuteTime": {
     "end_time": "2024-12-15T13:01:49.550768Z",
     "start_time": "2024-12-15T13:01:49.541542Z"
    },
    "id": "b4c5dde5"
   },
   "outputs": [],
   "source": [
    "# Représente un sommet.\n",
    "class Vertex:\n",
    "    def __init__(self, name, payload = None):\n",
    "        self.name = name\n",
    "        self.payload = payload\n",
    "        self.edges = []\n",
    "\n",
    "    def connect(self, other_vertex, weight):\n",
    "        edge = Edge(self, other_vertex, weight)\n",
    "        self.edges.append(edge)\n",
    "        other_vertex.edges.append(edge)\n",
    "\n",
    "    def __str__(self):\n",
    "        return f\"({self.name}: {self.payload})\"\n",
    "\n",
    "    # Peut être étendue selon vos besoins pour l'algorithme de Prim.\n",
    "\n",
    "# Représente une arête, connectant deux sommets.\n",
    "class Edge:\n",
    "    def __init__(self, left_vertex, right_vertex, weight):\n",
    "        self.left_vertex = left_vertex\n",
    "        self.right_vertex = right_vertex\n",
    "        self.weight = weight\n",
    "        self.part_of_mst = False\n",
    "\n",
    "    # Marque cette arête comme faisant partie de l'arbre couvrant de poids minimal.\n",
    "    def mark_as_part_of_mst(self):\n",
    "        self.part_of_mst = True\n",
    "\n",
    "    # Ne marque plus cette arête comme faisant partie de l'arbre couvrant de poids minimal.\n",
    "    def unmark_as_part_of_mst(self):\n",
    "        self.part_of_mst = False\n",
    "\n",
    "    # Indique si l'arête fait partie de l'arbre couvrant de poids minimal.\n",
    "    def is_part_of_mst(self):\n",
    "        return self.part_of_mst\n",
    "\n",
    "    def __str__(self):\n",
    "        return f\"{self.left_vertex} <=> {self.right_vertex} (weight: {self.weight})\"\n",
    "\n",
    "    # Peut être étendue selon vos besoins pour l'algorithme de Prim.\n",
    "    # Ajout pour permettre la comparaison basée sur le poids\n",
    "    def __lt__(self, other):\n",
    "        return self.weight < other.weight"
   ]
  },
  {
   "cell_type": "code",
   "execution_count": 20,
   "id": "18721b26",
   "metadata": {
    "ExecuteTime": {
     "end_time": "2024-12-15T13:01:49.565674Z",
     "start_time": "2024-12-15T13:01:49.552191Z"
    },
    "id": "18721b26"
   },
   "outputs": [],
   "source": [
    "# Exécute l'algorithme de Prim sur une liste de sommets.\n",
    "from heapq import heappush, heappop\n",
    "\n",
    "# Retourne le poids de l'arbre couvrant de poids minimal.\n",
    "def prim_algorithm(vertices: list[Vertex]) -> int:\n",
    "    if not vertices:\n",
    "        return 0\n",
    "\n",
    "    visited = set()\n",
    "    mst_weight = 0\n",
    "    min_heap = []\n",
    "\n",
    "    start_vertex = vertices[0]\n",
    "    visited.add(start_vertex)\n",
    "\n",
    "    for edge in start_vertex.edges:\n",
    "        heappush(min_heap, (edge.weight, edge))\n",
    "\n",
    "    while min_heap:\n",
    "        weight, edge = heappop(min_heap)\n",
    "\n",
    "        if edge.left_vertex in visited and edge.right_vertex in visited:\n",
    "            continue  # Ignore les arêtes qui connectent uniquement des sommets déjà visités\n",
    "\n",
    "        mst_weight += weight\n",
    "        edge.mark_as_part_of_mst()\n",
    "\n",
    "        # Déterminer le sommet non visité\n",
    "        next_vertex = (\n",
    "            edge.right_vertex if edge.left_vertex in visited else edge.left_vertex\n",
    "        )\n",
    "\n",
    "        visited.add(next_vertex)\n",
    "\n",
    "        # Ajouter les nouvelles arêtes du sommet au tas\n",
    "        for next_edge in next_vertex.edges:\n",
    "            if next_edge.left_vertex not in visited or next_edge.right_vertex not in visited:\n",
    "                heappush(min_heap, (next_edge.weight, next_edge))\n",
    "\n",
    "        # Debugging: Afficher l'état actuel\n",
    "        print(f\"Selected edge: {edge}, current MST weight: {mst_weight}\")\n",
    "\n",
    "    return mst_weight\n"
   ]
  },
  {
   "cell_type": "code",
   "execution_count": 21,
   "id": "a4f88c4d",
   "metadata": {
    "ExecuteTime": {
     "end_time": "2024-12-15T13:01:49.573395Z",
     "start_time": "2024-12-15T13:01:49.567261Z"
    },
    "id": "a4f88c4d"
   },
   "outputs": [
    {
     "name": "stdout",
     "output_type": "stream",
     "text": [
      "Selected edge: (u0: None) <=> (u3: None) (weight: 3), current MST weight: 3\n",
      "Selected edge: (u2: None) <=> (u3: None) (weight: 2), current MST weight: 5\n",
      "Selected edge: (u1: None) <=> (u2: None) (weight: 3), current MST weight: 8\n",
      "Selected edge: (u3: None) <=> (u4: None) (weight: 5), current MST weight: 13\n"
     ]
    }
   ],
   "source": [
    "# Il s'agit du graphe illustré en début de série\n",
    "u0 = Vertex(\"u0\")\n",
    "u1 = Vertex(\"u1\")\n",
    "u2 = Vertex(\"u2\")\n",
    "u3 = Vertex(\"u3\")\n",
    "u4 = Vertex(\"u4\")\n",
    "\n",
    "u0.connect(u1, 4)\n",
    "u0.connect(u2, 4)\n",
    "u0.connect(u3, 3)\n",
    "u0.connect(u4, 6)\n",
    "u1.connect(u2, 3)\n",
    "u1.connect(u4, 7)\n",
    "u2.connect(u3, 2)\n",
    "u3.connect(u4, 5)\n",
    "\n",
    "mst_weight = prim_algorithm([u0, u1, u2, u3, u4])\n",
    "assert mst_weight == 13"
   ]
  },
  {
   "cell_type": "code",
   "execution_count": 22,
   "id": "f7b27915",
   "metadata": {
    "ExecuteTime": {
     "end_time": "2024-12-15T13:01:49.584750Z",
     "start_time": "2024-12-15T13:01:49.574969Z"
    },
    "id": "f7b27915"
   },
   "outputs": [
    {
     "name": "stdout",
     "output_type": "stream",
     "text": [
      "Selected edge: (A: None) <=> (B: None) (weight: 2), current MST weight: 2\n",
      "Selected edge: (A: None) <=> (C: None) (weight: 3), current MST weight: 5\n",
      "Selected edge: (C: None) <=> (E: None) (weight: 1), current MST weight: 6\n",
      "Selected edge: (A: None) <=> (D: None) (weight: 3), current MST weight: 9\n",
      "Selected edge: (C: None) <=> (F: None) (weight: 6), current MST weight: 15\n",
      "Selected edge: (F: None) <=> (G: None) (weight: 9), current MST weight: 24\n"
     ]
    }
   ],
   "source": [
    "# Graphe et arbre couvrant de poids minimal sur: https://www.youtube.com/watch?v=cplfcGZmX7I\n",
    "a = Vertex(\"A\")\n",
    "b = Vertex(\"B\")\n",
    "c = Vertex(\"C\")\n",
    "d = Vertex(\"D\")\n",
    "e = Vertex(\"E\")\n",
    "f = Vertex(\"F\")\n",
    "g = Vertex(\"G\")\n",
    "\n",
    "a.connect(b, 2)\n",
    "a.connect(c, 3)\n",
    "a.connect(d, 3)\n",
    "b.connect(c, 4)\n",
    "b.connect(e, 3)\n",
    "c.connect(d, 5)\n",
    "c.connect(e, 1)\n",
    "c.connect(f, 6)\n",
    "d.connect(f, 7)\n",
    "e.connect(f, 8)\n",
    "f.connect(g, 9)\n",
    "\n",
    "mst_weight = prim_algorithm([a, b, c, d, e, f, g])\n",
    "assert mst_weight == 24"
   ]
  },
  {
   "cell_type": "markdown",
   "id": "8e6bc074",
   "metadata": {
    "id": "8e6bc074"
   },
   "source": [
    "### Explications"
   ]
  },
  {
   "cell_type": "markdown",
   "id": "a80ba31b",
   "metadata": {
    "id": "a80ba31b"
   },
   "source": [
    "Le code implémente l'algorithme de Prim en Python en utilisant les classes `Vertex` et `Edge` :\n",
    "\n",
    "### Classes\n",
    "- **Vertex** : Représente un sommet dans le graphe.\n",
    "  - Attributs : `name` (nom du sommet), `payload` (données supplémentaires associées au sommet), et `edges` (liste des arêtes connectées à ce sommet).\n",
    "  - Méthodes :\n",
    "    - `connect` : Connecte ce sommet à un autre sommet avec un poids spécifié.\n",
    "  \n",
    "- **Edge** : Représente une arête entre deux sommets.\n",
    "  - Attributs : `left_vertex` et `right_vertex` (les deux sommets connectés), `weight` (poids de l'arête), et `part_of_mst` (indique si l'arête fait partie du MST).\n",
    "  - Méthodes :\n",
    "    - `mark_as_part_of_mst` : Marque l'arête comme faisant partie du MST.\n",
    "    - `unmark_as_part_of_mst` : Supprime l'arête du MST.\n",
    "    - `__lt__` : Permet la comparaison des arêtes par poids, nécessaire pour le tas min.\n",
    "\n",
    "### Fonction `prim_algorithm`\n",
    "La fonction `prim_algorithm` implémente l'algorithme de Prim. Voici les étapes clés :\n",
    "1. **Initialisation** :\n",
    "   - Le premier sommet est choisi comme sommet de départ.\n",
    "   - Un tas (min-heap) est utilisé pour gérer les arêtes par ordre de poids.\n",
    "   - Tous les sommets connectés au sommet de départ sont ajoutés au tas.\n",
    "\n",
    "2. **Sélection des arêtes** :\n",
    "   - Tant que le tas n'est pas vide, l'arête de poids minimal est extraite.\n",
    "   - Si l'arête relie un sommet non visité, elle est ajoutée au MST et le sommet est marqué comme visité.\n",
    "   - Les nouvelles arêtes connectées au sommet visité sont ajoutées au tas.\n",
    "\n",
    "3. **Retour** :\n",
    "   - Le poids total du MST est retourné à la fin de l'algorithme."
   ]
  },
  {
   "cell_type": "markdown",
   "id": "e13865ea",
   "metadata": {
    "id": "e13865ea"
   },
   "source": [
    "### Exercice 1.1\n",
    "\n",
    "Quelle est la complexité de votre implémentation de l'algorithme de Prim?"
   ]
  },
  {
   "cell_type": "markdown",
   "id": "638abb3c",
   "metadata": {
    "id": "638abb3c"
   },
   "source": [
    "## Complexité de l'algorithme de Prim\n",
    "\n",
    "La complexité de l'algorithme de Prim dépend de la structure de données utilisée pour gérer le tas min. Avec un tas binaire, la complexité de l'algorithme est la suivante :\n",
    "\n",
    "- **Temps** : $(O(E \\log E))$, où $(E)$ est le nombre d'arêtes dans le graphe. Cela est dû au fait que chaque arête est ajoutée et extraite du tas une seule fois. L'opération d'extraction et d'insertion dans un tas binaire prend $(O(\\log E))$.\n",
    "- **Espace** : $(O(V + E))$, où $(V)$ est le nombre de sommets et $(E)$ le nombre d'arêtes, car nous devons stocker tous les sommets, les arêtes et le tas min."
   ]
  },
  {
   "cell_type": "markdown",
   "id": "e028b7cc",
   "metadata": {
    "id": "e028b7cc"
   },
   "source": [
    "### Exercice 1.2\n",
    "\n",
    "\n",
    "Vous devez tester votre implémentation en utilisant le fichier de données d'entrée fourni appelé `sda_graph.txt`. Le format du fichier d'entrée est le suivant:\n",
    "\n",
    "```\n",
    "Name_Of_City_k, State[Long,Lat] Population\n",
    "distance_from_k-1 distance_from_k-2 …\n",
    "distance_from_2 distance_from_1\n",
    "Name_Of_AnotherCity ...\n",
    "...\n",
    "*End of file\n",
    "```\n",
    "\n",
    "\n",
    "Par exemple, Yakima a 49826 habitants, elle est à 1513 km de Yankton et à 2410 km de Youngstown.\n",
    "\n",
    "Vous devez concevoir et mettre en œuvre une classe `City` selon les principes suivants:\n",
    "1. Des tableaux unidimensionnels pour maintenir le nom, l'état, la latitude, la longitude et la population de chaque ville.\n",
    "2. Un tableau à 2 dimensions pour maintenir les distances par paires entre les villes.\n",
    "\n",
    "Vous êtes libre de choisir une conception différente si cela facilite votre implémentation, la rend plus efficace, etc. Les poids du graphique sont donnés par les distances entre chaque ville dans le fichier d'entrée.\n",
    "\n",
    "L'output de l'algorithme MST doit être un fichier texte nommé `MST.out. Il doit énumérer les routes dans le MST résultant. Le format attendu de la sortie est le suivant :\n",
    "\n",
    "```\n",
    "...\n",
    "Yankton SD, Sioux City IA\n",
    "Saginaw MI, Traverse City MI\n",
    "Traverse City MI, Sault Sainte Marie MI\n",
    "\n",
    "Cost: 424242\n",
    "```\n",
    "\n",
    "La dernière ligne du fichier `MST.out` doit être son coût total. Inclure le fichier `MST.out` dans l'archive envoyée comme solution pour ce TP."
   ]
  },
  {
   "cell_type": "code",
   "execution_count": 23,
   "id": "1c38d3a8f1990558",
   "metadata": {
    "ExecuteTime": {
     "end_time": "2024-12-15T13:01:49.629251Z",
     "start_time": "2024-12-15T13:01:49.625597Z"
    },
    "collapsed": false
   },
   "outputs": [
    {
     "name": "stdout",
     "output_type": "stream",
     "text": [
      "MST computed and written to MST.out\n"
     ]
    }
   ],
   "source": [
    "\n",
    "from heapq import heappush, heappop\n",
    "\n",
    "class City:\n",
    "    def __init__(self, name, state, longitude, latitude, population):\n",
    "        self.name = name\n",
    "        self.state = state\n",
    "        self.longitude = longitude\n",
    "        self.latitude = latitude\n",
    "        self.population = population\n",
    "\n",
    "def read_cities_from_file(filename):\n",
    "    cities = []\n",
    "    distances = []\n",
    "    \n",
    "    with open(filename, 'r', encoding='utf-8') as f:\n",
    "        lines = f.read().strip().split('\\n')\n",
    "    \n",
    "    # Le fichier se termine par \"*End of file\"\n",
    "    # On s'arrête juste avant cette ligne\n",
    "    end_index = 0\n",
    "    for i, line in enumerate(lines):\n",
    "        if line.strip() == \"*End of file\":\n",
    "            end_index = i\n",
    "            break\n",
    "\n",
    "    # Name_Of_City_k, State[Long,Lat] Population\n",
    "    # Suivie de lignes décrivant les distances par rapport aux villes déjà lues.\n",
    "\n",
    "    \n",
    "\n",
    "    i = 0\n",
    "    while i < end_index:\n",
    "        line = lines[i].strip()\n",
    "        if not line:\n",
    "            i += 1\n",
    "            continue\n",
    "        # Extraction d'une ligne de ville :\n",
    "        comma_index = line.find(',')\n",
    "        city_name = line[:comma_index].strip()\n",
    "        \n",
    "        # La suite : \" WA[46.60207,-120.5059] 49826\"\n",
    "        remainder = line[comma_index+1:].strip()  # \"WA[46.60207,-120.5059] 49826\"\n",
    "        \n",
    "        # Extraire l'état, la longitude, latitude et population\n",
    "        # Trouver le premier espace pour séparer l'état des coordonnées\n",
    "        space_index = remainder.find(' ')\n",
    "        state_part = remainder[:space_index].strip()  # \"WA[46.60207,-120.5059]\"\n",
    "        pop_part = remainder[space_index:].strip()    # \"49826\"\n",
    "\n",
    "        # Extraire l'état et les coordonnées\n",
    "        # Format de state_part: \"WA[46.60207,-120.5059]\"\n",
    "        bracket_start = state_part.find('[')\n",
    "        state = state_part[:bracket_start].strip()\n",
    "        coords = state_part[bracket_start:].strip('[]') \n",
    "        long_str, lat_str = coords.split(',')\n",
    "        longitude = float(long_str)\n",
    "        latitude = float(lat_str)\n",
    "        population = int(pop_part)\n",
    "\n",
    "        city = City(city_name, state, longitude, latitude, population)\n",
    "        city_index = len(cities)\n",
    "        cities.append(city)\n",
    "\n",
    "        # Maintenant, lire les distances par rapport aux villes déjà lues\n",
    "        # Selon l’exemple : \n",
    "        # \"distance_from_k-1 distance_from_k-2 …\"\n",
    "    \n",
    "        \n",
    "        # S’il y a k villes après lecture de celle-ci, elle devrait avoir k-1 distances.\n",
    "        if city_index > 0:\n",
    "            i += 1\n",
    "            dist_line = lines[i].strip()\n",
    "            city_distances = dist_line.split()\n",
    "            city_distances = list(map(int, city_distances))\n",
    "            # On a city_index = k, on devrait avoir k distances par rapport aux villes précédentes ?\n",
    "            distances.append(city_distances)\n",
    "        else:\n",
    "            # Pour la première ville, pas de distances à lire\n",
    "            distances.append([])\n",
    "\n",
    "        i += 1\n",
    "\n",
    "    # Maintenant, on a un tableaux distances qui contient pour chaque ville (à partir de la seconde),\n",
    "    # les distances vers les villes précédentes.\n",
    "    # On doit le transformer en une matrice NxN.\n",
    "    n = len(cities)\n",
    "    dist_matrix = [[0]*n for _ in range(n)]\n",
    "    \n",
    "    # distances[i] contient les distances de la ville i vers [0..i-1]\n",
    "    # Il faut compléter symétriquement\n",
    "    for i in range(n):\n",
    "        for j in range(i):\n",
    "            d = distances[i][j] if j < len(distances[i]) else distances[j][i]\n",
    "            dist_matrix[i][j] = d\n",
    "            dist_matrix[j][i] = d\n",
    "\n",
    "    return cities, dist_matrix\n",
    "\n",
    "def prim_with_matrix(dist_matrix):\n",
    "    # Appliquer Prim sur une matrice NxN complète\n",
    "    n = len(dist_matrix)\n",
    "    if n == 0:\n",
    "        return [], 0\n",
    "\n",
    "    in_mst = [False]*n\n",
    "    edge_count = 0\n",
    "    in_mst[0] = True\n",
    "    pq = []\n",
    "    total_cost = 0\n",
    "    mst_edges = []\n",
    "\n",
    "    # Ajouter les arêtes du sommet 0\n",
    "    for v in range(1, n):\n",
    "        heappush(pq, (dist_matrix[0][v], 0, v))\n",
    "\n",
    "    while pq and edge_count < n-1:\n",
    "        w, u, v = heappop(pq)\n",
    "        if not in_mst[v]:\n",
    "            in_mst[v] = True\n",
    "            mst_edges.append((u, v))\n",
    "            total_cost += w\n",
    "            edge_count += 1\n",
    "            # Ajouter les nouvelles arêtes de v\n",
    "            for x in range(n):\n",
    "                if not in_mst[x]:\n",
    "                    heappush(pq, (dist_matrix[v][x], v, x))\n",
    "    \n",
    "    return mst_edges, total_cost\n",
    "\n",
    "def write_mst_output(filename, cities, mst_edges, total_cost):\n",
    "    with open(filename, 'w', encoding='utf-8') as f:\n",
    "        for (u,v) in mst_edges:\n",
    "            city_u = cities[u]\n",
    "            city_v = cities[v]\n",
    "            # Format: \"Yankton SD, Sioux City IA\"\n",
    "            f.write(f\"{city_u.name} {city_u.state}, {city_v.name} {city_v.state}\\n\")\n",
    "        f.write(f\"\\nCost: {total_cost}\\n\")\n",
    "\n",
    "\n",
    "if __name__ == \"__main__\":\n",
    "    # Lecture des données\n",
    "    cities, dist_matrix = read_cities_from_file(\"sda_graph.txt\")\n",
    "    # Calcul du MST\n",
    "    mst_edges, total_cost = prim_with_matrix(dist_matrix)\n",
    "    # Écriture du MST\n",
    "    write_mst_output(\"MST.out\", cities, mst_edges, total_cost)\n",
    "    print(\"MST computed and written to MST.out\")\n"
   ]
  },
  {
   "cell_type": "markdown",
   "id": "f8622175",
   "metadata": {
    "id": "f8622175"
   },
   "source": [
    "### Explications"
   ]
  },
  {
   "cell_type": "markdown",
   "id": "c283286d1616c770",
   "metadata": {
    "ExecuteTime": {
     "end_time": "2024-12-15T13:01:49.638437Z",
     "start_time": "2024-12-15T13:01:49.635954Z"
    },
    "collapsed": false
   },
   "source": [
    "\n",
    "\n",
    "### Explication de la solution\n",
    "\n",
    "La solution implémente l’algorithme de Prim sur un ensemble de villes décrites dans le fichier `sda_graph.txt`.\n",
    "\n",
    "1. **Lecture du fichier** :  \n",
    "   On lit chaque ville (nom, état, coordonnées, population) puis on récupère les distances entre cette ville et les villes précédentes. Ces informations sont stockées dans :\n",
    "   - Un tableau de `City` pour les métadonnées (nom, état, etc.).\n",
    "   - Une matrice `dist_matrix` pour les distances entre toutes les paires de villes.\n",
    "\n",
    "2. **Calcul du MST (Prim)** :  \n",
    "   À partir de la matrice de distances, on applique Prim pour trouver l’arbre couvrant de poids minimal.  \n",
    "   L’algorithme sélectionne à chaque étape l’arête la moins coûteuse reliant un sommet déjà inclus dans le MST à un sommet non encore inclus, jusqu’à ce que tous les sommets soient visités.\n",
    "\n",
    "3. **Résultat (`MST.out`)** :  \n",
    "   On écrit dans `MST.out` les routes sélectionnées (paires de villes) et le coût total du MST.\n",
    "\n"
   ]
  },
  {
   "cell_type": "markdown",
   "id": "kZ6ffWI4shsy",
   "metadata": {
    "id": "kZ6ffWI4shsy"
   },
   "source": [
    "## Exercice 2"
   ]
  },
  {
   "cell_type": "markdown",
   "id": "PAflhHAksnd9",
   "metadata": {
    "id": "PAflhHAksnd9"
   },
   "source": [
    "🎄✨ Résolvez https://adventofcode.com/2023/day/11. Nommez l'algorithme que vous utiliserez et discutez de sa complexité. ✨🎄"
   ]
  },
  {
   "cell_type": "code",
   "execution_count": 24,
   "id": "A4cpdiRZsjdU",
   "metadata": {
    "ExecuteTime": {
     "end_time": "2024-12-15T13:01:49.646345Z",
     "start_time": "2024-12-15T13:01:49.640618Z"
    },
    "id": "A4cpdiRZsjdU"
   },
   "outputs": [
    {
     "name": "stdout",
     "output_type": "stream",
     "text": [
      "0\n"
     ]
    }
   ],
   "source": [
    "# A COMPLETER AVEC VOTRE CONCEPTION\n",
    "\n",
    "class Universe:\n",
    "    def __init__(self, grid):\n",
    "        \"\"\"\n",
    "        Initialise l'univers à partir de la grille initiale.\n",
    "        grid: liste de chaînes, chacune représentant une ligne du puzzle initial.\n",
    "        \"\"\"\n",
    "        self.original_grid = grid\n",
    "        self.expanded_grid = None\n",
    "        self.galaxies = []  # liste de (r, c)\n",
    "    \n",
    "    def find_empty_lines_columns(self):\n",
    "        \"\"\"\n",
    "        Identifie les lignes et colonnes sans galaxies dans original_grid.\n",
    "        Retourne deux listes :\n",
    "        - empty_rows: indices des lignes sans '#'\n",
    "        - empty_cols: indices des colonnes sans '#'\n",
    "        \"\"\"\n",
    "        # Notre TODO: Parcourir la grille et déterminer quelles lignes et colonnes sont vides.\n",
    "        empty_rows = []\n",
    "        empty_cols = []\n",
    "        return empty_rows, empty_cols\n",
    "    \n",
    "    def expand_universe(self, empty_rows, empty_cols):\n",
    "        \"\"\"\n",
    "        Construit expanded_grid à partir de original_grid en doublant\n",
    "        les lignes et les colonnes identifiées comme vides.\n",
    "        \"\"\"\n",
    "        # Notre TODO: Construire self.expanded_grid\n",
    "        self.expanded_grid = []\n",
    "        # Exemple de logique (à adapter):\n",
    "        # Pour chaque ligne dans original_grid:\n",
    "        #   - construire une nouvelle ligne avec les colonnes dupliquées si nécessaire\n",
    "        #   - si la ligne est vide, la dupliquer également juste après.\n",
    "        pass\n",
    "    \n",
    "    def find_galaxies(self):\n",
    "        \"\"\"\n",
    "        Parcourt expanded_grid pour trouver les galaxies '#' et\n",
    "        stocke leurs coordonnées dans self.galaxies.\n",
    "        \"\"\"\n",
    "        # Notre TODO: Remplir self.galaxies avec (r,c) pour chaque '#'\n",
    "        pass\n",
    "    \n",
    "    def bfs_from(self, start):\n",
    "        \"\"\"\n",
    "        Effectue un BFS à partir de la position start (r,c) dans expanded_grid.\n",
    "        Retourne un dictionnaire { (r,c): distance } ou un tableau 2D de distances.\n",
    "        \"\"\"\n",
    "        # TODO: Implémenter un BFS standard sur une grille.\n",
    "        from collections import deque\n",
    "        distances = {}\n",
    "        queue = deque()\n",
    "        \n",
    "        # Initialisation\n",
    "        queue.append(start)\n",
    "        distances[start] = 0\n",
    "        \n",
    "        # Mouvement possible : haut, bas, gauche, droite\n",
    "        directions = [(1,0),(-1,0),(0,1),(0,-1)]\n",
    "        \n",
    "        while queue:\n",
    "            r, c = queue.popleft()\n",
    "            for dr, dc in directions:\n",
    "                nr, nc = r+dr, c+dc\n",
    "                if self.is_valid_cell(nr, nc) and (nr, nc) not in distances:\n",
    "                    distances[(nr, nc)] = distances[(r, c)] + 1\n",
    "                    queue.append((nr, nc))\n",
    "        \n",
    "        return distances\n",
    "    \n",
    "    def is_valid_cell(self, r, c):\n",
    "        \"\"\"\n",
    "        Vérifie si la position (r, c) est dans les limites de expanded_grid et n'est pas un obstacle.\n",
    "        Ici, pas d'obstacles autres que le fait de rester dans la grille, \n",
    "        puisque '#' (galaxie) et '.' (vide) sont tous accessibles.\n",
    "        \"\"\"\n",
    "        if 0 <= r < len(self.expanded_grid) and 0 <= c < len(self.expanded_grid[0]):\n",
    "            return True\n",
    "        return False\n",
    "    \n",
    "    def compute_all_pairs_distances(self):\n",
    "        \"\"\"\n",
    "        Calcule la distance minimale entre chaque paire de galaxies.\n",
    "        Retourne une matrice distance_matrix[i][j] = distance entre galaxie i et galaxie j.\n",
    "        \"\"\"\n",
    "        G = len(self.galaxies)\n",
    "        distance_matrix = [[0]*G for _ in range(G)]\n",
    "        \n",
    "        for i in range(G):\n",
    "            start_galaxy = self.galaxies[i]\n",
    "            distances = self.bfs_from(start_galaxy)\n",
    "            for j in range(G):\n",
    "                if i != j:\n",
    "                    dist_to_j = distances.get(self.galaxies[j], None)\n",
    "                    distance_matrix[i][j] = dist_to_j if dist_to_j is not None else float('inf')\n",
    "        \n",
    "        return distance_matrix\n",
    "    \n",
    "    def compute_sum_of_distances(self, distance_matrix):\n",
    "        \"\"\"\n",
    "        Calcule la somme des distances pour chaque paire distincte (i,j), i < j.\n",
    "        \"\"\"\n",
    "        G = len(distance_matrix)\n",
    "        total = 0\n",
    "        for i in range(G):\n",
    "            for j in range(i+1, G):\n",
    "                total += distance_matrix[i][j]\n",
    "        return total\n",
    "\n",
    "\n",
    "# Fonction principale pour résoudre le puzzle\n",
    "def solve():\n",
    "    # Lecture de la grille d’entrée\n",
    "    grid = [\n",
    "        \"....#....\",\n",
    "        \"...###...\",\n",
    "        \"....#....\",\n",
    "        \".........\",\n",
    "        \"....#....\",\n",
    "        \"...###...\",\n",
    "        \"....#....\"\n",
    "    ]  # Exemple de grille, à remplacer par la grille réelle\n",
    "\n",
    "    # 1. Créer l'univers\n",
    "    universe = Universe(grid)\n",
    "\n",
    "    # 2. Trouver les lignes et colonnes vides\n",
    "    empty_rows, empty_cols = universe.find_empty_lines_columns()\n",
    "\n",
    "    # 3. Étendre l'univers\n",
    "    universe.expand_universe(empty_rows, empty_cols)\n",
    "\n",
    "    # 4. Trouver les galaxies dans la grille étendue\n",
    "    universe.find_galaxies()\n",
    "\n",
    "    # 5. Calculer la matrice des distances entre galaxies\n",
    "    distance_matrix = universe.compute_all_pairs_distances()\n",
    "\n",
    "    # 6. Calculer la somme des distances\n",
    "    total_distance = universe.compute_sum_of_distances(distance_matrix)\n",
    "\n",
    "    print(total_distance)\n",
    "\n",
    "if __name__ == \"__main__\":\n",
    "    solve()\n"
   ]
  },
  {
   "cell_type": "markdown",
   "id": "ER-MZKKztOCf",
   "metadata": {
    "id": "ER-MZKKztOCf"
   },
   "source": [
    "### Explications"
   ]
  },
  {
   "cell_type": "markdown",
   "id": "RSkS_yOatP3H",
   "metadata": {
    "id": "RSkS_yOatP3H"
   },
   "source": [
    " \n",
    "La solution lit la grille, identifie les lignes et colonnes sans galaxies, puis génère une nouvelle grille agrandie. Elle localise toutes les galaxies et calcule les plus courts chemins entre chaque paire de galaxies à l’aide d’un parcours en largeur (BFS). Enfin, elle somme toutes ces distances et affiche le résultat.\n",
    "\n",
    "\n",
    "**Discussion sur la complexité :**  \n",
    "L’algorithme effectue un parcours en largeur (BFS) pour chaque galaxie afin de déterminer les distances aux autres galaxies. Sur une grille de taille N×M et G galaxies, chaque BFS est O(N×M), et répété G fois, donnant O(G×N×M). À cela s’ajoute la détection des lignes/colonnes vides et la construction de la grille étendue, également en O(N×M). Enfin, le calcul de la somme finale des distances est O(G²), ce qui est généralement négligeable par rapport au coût global du BFS. En résumé, la complexité est essentiellement O(G×N×M)."
   ]
  }
 ],
 "metadata": {
  "colab": {
   "provenance": []
  },
  "interpreter": {
   "hash": "4d627b3ea71e790ed7d9c294cc76e400708b53c97c06f52348911b9296e7b669"
  },
  "kernelspec": {
   "display_name": "Python 3 (ipykernel)",
   "language": "python",
   "name": "python3"
  },
  "language_info": {
   "codemirror_mode": {
    "name": "ipython",
    "version": 3
   },
   "file_extension": ".py",
   "mimetype": "text/x-python",
   "name": "python",
   "nbconvert_exporter": "python",
   "pygments_lexer": "ipython3",
   "version": "3.9.7"
  }
 },
 "nbformat": 4,
 "nbformat_minor": 5
}
