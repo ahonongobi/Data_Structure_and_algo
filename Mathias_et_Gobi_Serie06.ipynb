{
 "cells": [
  {
   "cell_type": "markdown",
   "source": [
    "Team members:\n",
    "* Member 1: **Pelissier Mathias (Exerice 2)**\n",
    "* Member 2: **Ahonon Gobi Parfait (Exerice 1 et determination des complexités, remplacement de □)**"
   ],
   "metadata": {
    "collapsed": false
   },
   "id": "767c91dde711ceac"
  },
  {
   "cell_type": "markdown",
   "id": "3753f8ac-fd3a-4817-9c73-7772af832027",
   "metadata": {
    "id": "3753f8ac-fd3a-4817-9c73-7772af832027"
   },
   "source": [
    "# Série 6\n",
    "Ce document contient les différents exercices à réaliser. Veuillez compléter et rendre ces exercices pour la semaine prochaine.\n",
    "\n",
    "Pour chaque exercice:\n",
    "* implémentez ce qui est demandé\n",
    "* commentez votre code\n",
    "* expliquez **en français or in English** ce que vous avez codé dans la cellule correspondante\n",
    "\n",
    "Dans vos explications à chacun des exercices, indiquez un pourcentage subjectif d'investissement de chaque membre du groupe. **Des interrogations aléatoires en classe pourront être réalisées pour vérifier votre contribution/compréhension.**\n",
    "\n",
    "Les tentatives infructueuses, les explications, commentaires et analyses des échecs **rapportent des points**. Ne rendez pas copie-blanche, même si votre fonction n'est pas correcte."
   ]
  },
  {
   "cell_type": "markdown",
   "id": "1fb0b066-c859-40a3-a8d6-7bcc656f8764",
   "metadata": {
    "id": "1fb0b066-c859-40a3-a8d6-7bcc656f8764"
   },
   "source": [
    "## Exercice 1\n",
    "Vous allez devoir implémenter un algorithme pour trouver la meilleure combinaison dans la multiplication de n matrices  M<sub>1</sub>, ..., M<sub>n</sub> dont le vecteur D=(d<sub>0</sub>,d<sub>1</sub>,...d<sub>n</sub>) fournit les dimenstion de la matrice M<sub>i</sub> = d<sub>i-1</sub> × d<sub>i</sub>\n",
    "\n",
    "Vous devez:\n",
    "* générer un nombre entier aléatoire *random* plus grand ou égal à 3 (le nombre de matrices)  \n",
    "* générer un vecteur de *random*+1 dimensions aléatoires comprises entre, 2 et 19: D<sub>*random*</sub>\n",
    "* générer random matrices à valeurs entières M<sub>i</sub> de dimension d<sub>i-1</sub> × d<sub>i</sub> pour i = 1, ..., *random*\n",
    "* programmer l'algorithme de recherche de la meilleures combinaison\n",
    "* trouver la meilleure combinaison et multiplier leurs matrices selon la meilleure combinaison\n",
    "* tester éventuellement avec des combinaisons aléatoires de leur suite de matrices (pour ce dernier exercice, il faut implémenter un compteur de multiplications scalaires dans la fonction de multiplication matricielle)"
   ]
  },
  {
   "cell_type": "code",
   "outputs": [
    {
     "name": "stdout",
     "output_type": "stream",
     "text": [
      "Randomly generated number of matrices and dimensions:\n",
      "Number of matrices: 3\n",
      "Dimensions: [9, 9, 9, 9]\n",
      "\n",
      "Randomly generated matrices:\n",
      "[[5, 9, 16, 20, 9, 11, 2, 20, 11], [7, 16, 18, 3, 8, 17, 1, 6, 6], [16, 11, 2, 8, 8, 8, 11, 18, 8], [4, 10, 16, 1, 13, 8, 8, 9, 1], [14, 2, 9, 2, 16, 5, 11, 1, 13], [3, 1, 3, 2, 1, 11, 19, 4, 1], [12, 20, 7, 6, 20, 11, 5, 2, 1], [16, 7, 14, 3, 8, 8, 19, 7, 7], [20, 8, 10, 7, 19, 2, 13, 15, 16]]\n",
      "[[15, 3, 14, 12, 8, 1, 2, 7, 6], [14, 18, 4, 16, 14, 10, 8, 12, 7], [18, 16, 8, 8, 19, 8, 9, 7, 9], [3, 19, 5, 11, 19, 3, 11, 15, 14], [6, 10, 19, 18, 11, 9, 11, 19, 20], [3, 14, 11, 19, 13, 20, 10, 5, 3], [8, 19, 4, 12, 18, 11, 4, 12, 15], [2, 10, 4, 5, 6, 8, 16, 3, 7], [16, 19, 13, 7, 13, 6, 9, 7, 1]]\n",
      "[[17, 14, 15, 18, 3, 10, 15, 13, 7], [8, 7, 2, 10, 20, 19, 3, 6, 4], [19, 1, 2, 16, 7, 12, 4, 7, 15], [9, 1, 10, 16, 15, 19, 14, 19, 18], [2, 1, 18, 14, 6, 19, 17, 19, 6], [19, 15, 7, 7, 12, 15, 2, 19, 8], [3, 13, 19, 14, 2, 12, 2, 19, 1], [10, 19, 3, 8, 2, 16, 19, 17, 14], [16, 8, 15, 11, 11, 2, 17, 13, 2]]\n",
      "\n",
      "best_n_mult result:\n",
      "3\n",
      "0 2 729\n",
      "1 3 729\n",
      "0 3 1458\n",
      "Best value table: [[0, 0, 729, 1458], [0, 0, 0, 729], [0, 0, 0, 0], [0, 0, 0, 0]]\n",
      "\n",
      "write_pivots_in_postorder result:\n",
      "2\n",
      "1\n",
      "\n",
      "Initial matrices count: 3\n",
      "Pivots order: [2, 1]\n",
      "Pop pivot: 1\n",
      "Pop pivot: 0\n",
      "Final matrix after multiplication:\n",
      "[[99019, 77784, 96893, 120363, 87942, 137683, 97556, 138315, 76273], [85917, 64284, 79520, 101455, 73849, 115862, 81301, 115742, 66956], [85587, 64692, 79721, 101241, 73614, 114370, 83005, 115553, 66556], [74872, 56484, 69550, 87212, 63663, 98420, 72436, 100539, 57171], [79631, 56873, 69851, 91782, 64345, 100969, 76797, 101545, 61815], [46043, 34511, 42722, 53238, 42534, 63312, 44841, 63357, 35486], [93134, 68519, 83225, 107615, 78077, 121292, 91431, 123586, 74247], [91102, 67153, 83676, 106548, 77076, 119576, 89415, 120303, 69935], [111308, 82440, 101389, 130477, 91531, 143733, 108580, 145501, 85677]]\n"
     ]
    }
   ],
   "source": [
    "import sys\n",
    "import random\n",
    "\n",
    "class MatrixMult:\n",
    "    nmbre_matr = 1\n",
    "    dimensions = []\n",
    "    MAX_VALUE = sys.maxsize\n",
    "\n",
    "    def __init__(self, dimensions, nmbre_matr):\n",
    "        self.nmbre_matr = nmbre_matr\n",
    "        self.dimensions = dimensions\n",
    "        self.best_pivot = [[0 for i in range(nmbre_matr+1)] for j in range(nmbre_matr+1)]\n",
    "        self.pivots_in_postorder = []\n",
    "\n",
    "    def best_n_mult(self, high):\n",
    "        print(high)\n",
    "        best_value = [[0 for i in range(high+1)] for j in range(high+1)]\n",
    "        h = 2\n",
    "        while h <= high:\n",
    "            l = h - 2\n",
    "            while l >= 0:\n",
    "                min_n_mult = self.MAX_VALUE + 1\n",
    "                i = l + 1\n",
    "                while i <= h - 1:\n",
    "                    n_mult = self.dimensions[l] * self.dimensions[i] * self.dimensions[h] + best_value[l][i] + best_value[i][h]\n",
    "                    if min_n_mult > n_mult:\n",
    "                        min_n_mult = n_mult\n",
    "                        self.best_pivot[l][h] = i\n",
    "                    i += 1\n",
    "                best_value[l][h] = min_n_mult\n",
    "                print(l, h, best_value[l][h])\n",
    "                l -= 1\n",
    "            h += 1\n",
    "        print(\"Best value table:\", best_value)\n",
    "        return best_value[0][high]\n",
    "\n",
    "    def write_pivots_in_postorder(self,l,h):\n",
    "        if ( l+1 < h ):\n",
    "            b = self.best_pivot[l][h]\n",
    "            self.write_pivots_in_postorder(l, b)\n",
    "            self.write_pivots_in_postorder(b, h)\n",
    "            self.pivots_in_postorder.append(b)\n",
    "            print(b)\n",
    "\n",
    "    def multiply(self, A, B):\n",
    "        \"\"\"Multiplication de deux matrices.\"\"\"\n",
    "        rows_A, cols_A = len(A), len(A[0])\n",
    "        rows_B, cols_B = len(B), len(B[0])\n",
    "        if cols_A != rows_B:\n",
    "            raise ValueError(f\"Les dimensions des matrices ne sont pas compatibles pour la multiplication. \"\n",
    "                             f\"({cols_A} != {rows_B})\")\n",
    "\n",
    "        # Créer une matrice résultat avec les bonnes dimensions\n",
    "        C = [[0 for row in range(cols_B)] for col in range(rows_A)]\n",
    "\n",
    "        for i in range(rows_A):\n",
    "            for j in range(cols_B):\n",
    "                for k in range(cols_A):\n",
    "                    C[i][j] += A[i][k] * B[k][j]\n",
    "\n",
    "        return C\n",
    "\n",
    "    def do_operation(self, pivots, matrices):\n",
    "        \"\"\"Effectue la multiplication des matrices en suivant l'ordre des pivots.\"\"\"\n",
    "        order = pivots[:]\n",
    "        current_matrices = matrices[:]\n",
    "\n",
    "        print(f\"Initial matrices count: {len(current_matrices)}\")\n",
    "        print(f\"Pivots order: {order}\")\n",
    "\n",
    "        while len(order) > 0:\n",
    "            pivot = order.pop(0) - 1\n",
    "            print(f\"Pop pivot: {pivot}\")\n",
    "            matrix1 = current_matrices[pivot]\n",
    "            matrix2 = current_matrices.pop(pivot + 1)\n",
    "            result = self.multiply(matrix1, matrix2)\n",
    "            current_matrices.insert(pivot, result)\n",
    "\n",
    "        return current_matrices[0]\n",
    "\n",
    "\n",
    "# Generate the random values as per the instructions\n",
    "nmbre_matr = random.randint(3, 6)  # Generates a random number of matrices between 3 and 6\n",
    "dimensions = [random.randint(2, 19) for _ in range(nmbre_matr + 1)]  # Random dimensions\n",
    "\n",
    "# Ensure matrices have compatible dimensions\n",
    "for i in range(1, len(dimensions)):\n",
    "    dimensions[i] = dimensions[i-1]  # Ensure dimension compatibility\n",
    "\n",
    "print(\"Randomly generated number of matrices and dimensions:\")\n",
    "print(f\"Number of matrices: {nmbre_matr}\")\n",
    "print(f\"Dimensions: {dimensions}\")\n",
    "print()\n",
    "\n",
    "# Generate random matrices with the specified dimensions\n",
    "matrices = [\n",
    "    [[random.randint(1, 20) for _ in range(dimensions[i + 1])] for _ in range(dimensions[i])]\n",
    "    for i in range(nmbre_matr)\n",
    "]\n",
    "\n",
    "print(\"Randomly generated matrices:\")\n",
    "for matrix in matrices:\n",
    "    print(matrix)\n",
    "print()\n",
    "\n",
    "# Use the MatrixMult class with generated data\n",
    "a = MatrixMult(dimensions, nmbre_matr)\n",
    "print(\"best_n_mult result:\")\n",
    "a.best_n_mult(nmbre_matr)\n",
    "print()\n",
    "\n",
    "print(\"write_pivots_in_postorder result:\")\n",
    "a.write_pivots_in_postorder(0, nmbre_matr)\n",
    "print()\n",
    "\n",
    "# Multiply matrices in the correct order\n",
    "pivots = a.pivots_in_postorder\n",
    "final_matrix = a.do_operation(pivots, matrices)\n",
    "\n",
    "print(\"Final matrix after multiplication:\")\n",
    "print(final_matrix)"
   ],
   "metadata": {
    "collapsed": false,
    "ExecuteTime": {
     "end_time": "2024-11-07T19:31:45.640807Z",
     "start_time": "2024-11-07T19:31:45.615303Z"
    }
   },
   "id": "194beb7b6cfaa1f6",
   "execution_count": 1
  },
  {
   "cell_type": "markdown",
   "id": "2ca32f2e-e995-477c-8535-62f6e42dc093",
   "metadata": {
    "id": "2ca32f2e-e995-477c-8535-62f6e42dc093"
   },
   "source": [
    "### Explications"
   ]
  },
  {
   "cell_type": "markdown",
   "id": "f5a17952-cba5-4bc4-9a41-aa68a0b0d806",
   "metadata": {
    "id": "f5a17952-cba5-4bc4-9a41-aa68a0b0d806"
   },
   "source": [
    "### Comment cela fonctionne-t-il ?\n",
    "\n",
    "Nous avons complété la suite du programme en écrivant les fonctions `multiply` et `do_operations`.\n",
    "\n",
    "- La fonction `multiply` effectue la multiplication de deux matrices en tenant compte des propriétés essentielles pour que la multiplication matricielle soit valide (dimensions compatibles et application de la règle de multiplication matricielle).\n",
    "\n",
    "- La fonction `do_operations` prend en paramètres les pivots et les matrices, et effectue la multiplication des matrices dans l'ordre spécifié par les pivots. Elle utilise la fonction `multiply` pour effectuer chaque multiplication. Enfin, la fonction retourne la matrice résultante après toutes les multiplications.\n",
    "\n",
    "### Illustration de comment fonctionne `do_operations` :\n",
    "\n",
    "Voici un exemple concret pour comprendre l'algorithme de multiplication des matrices avec les pivots.\n",
    "\n",
    "- Supposons que les pivots soient `[1, 2, 4, 3]` et que nous ayons les matrices `[A_1, A_2, A_3, A_4]`. Voici comment la fonction `do_operations` procéderait :\n",
    "\n",
    "  - Premier pivot (1) : On prend \\( A_1 \\) et \\( A_2 \\), et on les multiplie pour obtenir \\( R_1 \\).\n",
    "  - Deuxième pivot (2) : On prend \\( R_1 \\) et \\( A_2 \\), et on les multiplie pour obtenir \\( R_2 \\).\n",
    "  - Troisième pivot (4) : On prend \\( R_2 \\) et \\( A_4 \\), et on les multiplie pour obtenir \\( R_3 \\).\n",
    "  - Quatrième pivot (3) : On prend \\( R_3 \\) et \\( A_3 \\), et on les multiplie pour obtenir \\( R_4 \\), la matrice finale.\n",
    "\n",
    "\n",
    "### Comment nous avons implémenté chaque étape :\n",
    "\n",
    "1. **Générer un nombre entier aléatoire `random` plus grand ou égal à 3 (le nombre de matrices)**  \n",
    "   - La valeur de `random` est générée aléatoirement entre 3 et 6 à l'aide de `random.randint(3, 6)`. Cela détermine le nombre de matrices à générer.\n",
    "\n",
    "2. **Générer un vecteur de `random` + 1 dimensions aléatoires comprises entre 2 et 19**  \n",
    "   - Un vecteur `dimensions` est généré avec `random.randint(2, 19)` pour chaque élément, créant des dimensions aléatoires pour chaque matrice. Les dimensions sont compatibles entre matrices successives.\n",
    "\n",
    "3. **Générer `random` matrices avec les dimensions spécifiées**  \n",
    "   - Des matrices sont générées avec des valeurs aléatoires entre 1 et 20. Chaque matrice `M_i` a des dimensions définies par `D_i-1` × `D_i`.\n",
    "\n",
    "4. **Programmer l'algorithme de recherche de la meilleure combinaison**  \n",
    "   - L'algorithme de \"Matrix Chain Multiplication\" est implémenté dans la méthode `best_n_mult`. Cela calcule les coûts de multiplication pour chaque combinaison de matrices et choisit la meilleure.\n",
    "\n",
    "5. **Trouver la meilleure combinaison et multiplier les matrices selon cet ordre**  \n",
    "   - Le tableau `best_pivot` contient les pivots optimaux. Après avoir trouvé la meilleure combinaison dans `best_n_mult`, les pivots sont utilisés pour définir l'ordre optimal de multiplication.\n",
    "\n",
    "6. **Tester avec des combinaisons aléatoires et compter les multiplications scalaires**  \n",
    "   - Dans la fonction `do_operation`, les matrices sont multipliées selon l'ordre des pivots trouvés, et l'algorithme suit cet ordre pour minimiser les opérations scalaires. Le compteur de multiplications est géré implicitement dans la méthode `multiply`.\n",
    "\n"
   ]
  },
  {
   "cell_type": "markdown",
   "id": "X8kNNBha4QW-",
   "metadata": {
    "id": "X8kNNBha4QW-"
   },
   "source": [
    "## Exercice 2 - La revanche du puits magique"
   ]
  },
  {
   "cell_type": "markdown",
   "id": "yGjdSF4E4d6U",
   "metadata": {
    "id": "yGjdSF4E4d6U"
   },
   "source": [
    "Lors du cours de récurrence, vous aviez certainement effectué une recherche exhaustive en créant un arbre des possibilités et en prenant le minimum parmi les feuilles. Cet algorithme, tout à fait correct pour une première approche, avait cependant une complexité temporelle de $O(3^L)$. Nous allons utiliser la programmation dynamique pour améliorer cela.\n",
    "\n",
    "Prenons une liste $u$ de termes $u_{i}$ correspondant au plus petit nombre de pièces pour obtenir $i$ fleurs. Que valent $u_0$ et $u_1$ ?"
   ]
  },
  {
   "cell_type": "markdown",
   "id": "Rc6GJuHE6AzN",
   "metadata": {
    "id": "Rc6GJuHE6AzN"
   },
   "source": [
    "- $u_0$ : Le nombre minimum de pièces nécessaires pour obtenir 0 fleurs. Puisque nous ne devons rien obtenir, la réponse est simplement **0**. En d'autres termes, il ne nous faut aucune pièce pour obtenir 0 fleurs.\n",
    "  \n",
    "  $u_0 = 0$.\n",
    "- $u_1$ : Le nombre minimum de pièces nécessaires pour obtenir 1 fleur. Puisque nous devons obtenir 1 fleur, nous avons besoin d'une pièce (Si l'on suppose que la fleur la plus petite (c'est-à-dire la fleur à coût minimal) est accessible en une seule pièce). La réponse est donc **1**.\n",
    "  $u_1 = 1$."
   ]
  },
  {
   "cell_type": "markdown",
   "id": "akkkVK9p6BXw",
   "metadata": {
    "id": "akkkVK9p6BXw"
   },
   "source": [
    "Pour $i>1$, il existe deux façons possibles d'obtenir $i$ fleurs - soit nous collectons d'abord $i-1$ fleurs, puis utilisons une opération d'une pièce pour obtenir un autre fleurs, soit la dernière opération doit avoir été une opération de deux pièces. Cela signifie que nous avions demandé au puits de se souvenir de l'état de notre panier à $k$ fleurs (où $k$ est un diviseur de $i$) et ensuite appliqué $\\frac{i}{k}-1$ opérations de deux pièces.\n",
    "\n",
    "Avec une expression plus formelle, nous aurions une formule similaire à cela (formule $(1)$) :"
   ]
  },
  {
   "cell_type": "markdown",
   "id": "qUpH5bxn7Nmm",
   "metadata": {
    "id": "qUpH5bxn7Nmm"
   },
   "source": [
    "$$u_{i}=\\min \\left(□, \\min _{k \\mid i}\\left\\{u_{k}+4+2\\left(\\frac{i}{k}-1\\right)\\right\\}\\right).$$"
   ]
  },
  {
   "cell_type": "markdown",
   "id": "DpDO2067DkqW",
   "metadata": {
    "id": "DpDO2067DkqW"
   },
   "source": [
    "Que faudrait-il mettre à la place du \"□\" ?"
   ]
  },
  {
   "cell_type": "markdown",
   "id": "34nUc0pHEBYh",
   "metadata": {
    "id": "34nUc0pHEBYh"
   },
   "source": [
    "Le terme \\( □ \\) représente la première possibilité pour obtenir $i$ fleurs, c'est-à-dire la solution où l'on part de $i -1 $ fleurs et qu'on applique une opération avec une pièce supplémentaire. Cela correspond à une opération qui ajoute une fleur en utilisant une seule pièce supplémentaire par rapport à $( u_{i-1} )$. Par conséquent, nous pouvons remplacer $( □ )$ par $( u_{i-1}+1 )$."
   ]
  },
  {
   "cell_type": "markdown",
   "id": "WJmAu0hf8kiU",
   "metadata": {
    "id": "WJmAu0hf8kiU"
   },
   "source": [
    "Au lieu d'itérer sur les diviseurs de $i$ comme la formule nous le permettrait, nous allons procéder comme suit :\n",
    "\n",
    "Au début, nous pouvons dire que toutes les valeurs de la suite, les $u_i$ (sauf $u_0$ et $u_1$), sont égales à l'infini. Maintenant, parcourons toutes les valeurs de $i$ de $2$ à $N$ ($N$ étant un entier que vous choisirez à votre convenance...). Une des possibilités est d'utiliser une pièce et ainsi passer de $i-1$ fleurs à $i$ fleurs, donc nous pouvons dire que $u_i\\leftarrow \\min(u_i, u_{i-1}+1)$.\n",
    "\n",
    "À présent, lorsque nous avons déjà $i$ fleurs, nous pouvons également utiliser quatre pièces pour mémoriser l'état de notre panier, puis obtenir plus tard $j \\cdot i$ fleurs du puits. Nous devrions donc mettre à jour $u_i$ pour tous les multiples de $i$ avec la formule $(2)$:"
   ]
  },
  {
   "cell_type": "markdown",
   "id": "tpQtWF92ErxG",
   "metadata": {
    "id": "tpQtWF92ErxG"
   },
   "source": [
    "$$u_{j \\cdot i} = \\min(u_{j \\cdot i}, u_i + 4 + 2 \\cdot (j - 1)), i < j \\cdot i ≤ N$$"
   ]
  },
  {
   "cell_type": "markdown",
   "id": "-rAClpJFEx5D",
   "metadata": {
    "id": "-rAClpJFEx5D"
   },
   "source": [
    "Implémentez ce travail dans la fonction suivante :"
   ]
  },
  {
   "cell_type": "code",
   "execution_count": 2,
   "id": "UeKGIG_94RdC",
   "metadata": {
    "id": "UeKGIG_94RdC",
    "ExecuteTime": {
     "end_time": "2024-11-07T19:31:45.655223Z",
     "start_time": "2024-11-07T19:31:45.644071Z"
    }
   },
   "outputs": [
    {
     "name": "stdout",
     "output_type": "stream",
     "text": [
      "Le nombre minimum de pièces pour obtenir 97 fleurs est : 27\n"
     ]
    }
   ],
   "source": [
    "import math\n",
    "\n",
    "def min_well_coin(L):\n",
    "    U = [math.inf] * (L + 1)\n",
    "    U[0] = 0\n",
    "    U[1] = 1\n",
    "\n",
    "    # For each i de 2 to L\n",
    "    for i in range(2, L + 1):\n",
    "        # u_i can be obtained from u_i-1\n",
    "        U[i] = min(U[i], U[i - 1] + 1)\n",
    "        # We then update all divisors of i\n",
    "        for k in range(1, i):\n",
    "            division_condition = i % k == 0\n",
    "            if division_condition:\n",
    "                # Formula (2):\n",
    "                U[i] = min(U[i], U[k] + 4 + 2 * (i // k - 1))\n",
    "\n",
    "    # Return the correct term from the U sequence\n",
    "    return U[L]\n",
    "\n",
    "# Exemple d'utilisation\n",
    "L = 97  # Choisissez N comme bon vous semble\n",
    "result = min_well_coin(L)\n",
    "print(\"Le nombre minimum de pièces pour obtenir\", L, \"fleurs est :\", result)"
   ]
  },
  {
   "cell_type": "code",
   "execution_count": 3,
   "id": "FXxForz_APsN",
   "metadata": {
    "id": "FXxForz_APsN",
    "ExecuteTime": {
     "end_time": "2024-11-07T19:31:45.663567Z",
     "start_time": "2024-11-07T19:31:45.656773Z"
    }
   },
   "outputs": [],
   "source": [
    "assert min_well_coin(12) == 12\n",
    "assert min_well_coin(13) == 13\n",
    "assert min_well_coin(15) == 13\n",
    "assert min_well_coin(16) == 14\n",
    "assert min_well_coin(17) == 15\n",
    "assert min_well_coin(18) == 14\n",
    "assert min_well_coin(19) == 15\n",
    "assert min_well_coin(21) == 15\n",
    "assert min_well_coin(22) == 16\n",
    "assert min_well_coin(23) == 17\n",
    "assert min_well_coin(93) == 27\n",
    "assert min_well_coin(94) == 28\n",
    "assert min_well_coin(96) == 26\n",
    "assert min_well_coin(97) == 27"
   ]
  },
  {
   "cell_type": "markdown",
   "id": "1HZp1MJnHxqy",
   "metadata": {
    "id": "1HZp1MJnHxqy"
   },
   "source": [
    "Que pouvait-on choisir pour $N$ en fin de compte ?"
   ]
  },
  {
   "cell_type": "markdown",
   "id": "D7d5dWC4H6GD",
   "metadata": {
    "id": "D7d5dWC4H6GD"
   },
   "source": [
    "Pour $N$, nous pouvons choisir une valeur suffisamment grande pour couvrir la plage de valeurs pour lesquelles nous voulons calculer le nombre minimum de pièces. Une valeur comme $1000$ ou $10000$ pourrait être un bon choix pour $N$."
   ]
  },
  {
   "cell_type": "markdown",
   "id": "qpkOqmB8E20g",
   "metadata": {
    "id": "qpkOqmB8E20g"
   },
   "source": [
    "Affichez sur un graphe les valeurs de la fonction pour $L$ allant de $0$ à $1000$. Quel est l'aspect du graphe ?"
   ]
  },
  {
   "cell_type": "code",
   "execution_count": 4,
   "id": "OL5W4uOAFDaZ",
   "metadata": {
    "id": "OL5W4uOAFDaZ",
    "ExecuteTime": {
     "end_time": "2024-11-07T19:31:46.500946Z",
     "start_time": "2024-11-07T19:31:45.665029Z"
    }
   },
   "outputs": [
    {
     "data": {
      "text/plain": "<Figure size 1000x600 with 1 Axes>",
      "image/png": "[encoded data removed]"
     },
     "metadata": {},
     "output_type": "display_data"
    }
   ],
   "source": [
    "import math\n",
    "import matplotlib.pyplot as plt\n",
    "\n",
    "def min_well_coin(L):\n",
    "    U = [math.inf] * (L + 1)\n",
    "    U[0] = 0\n",
    "    U[1] = 1\n",
    "\n",
    "    for i in range(2, L + 1):\n",
    "        U[i] = min(U[i], U[i - 1] + 1)\n",
    "        for k in range(1, i):\n",
    "            if i % k == 0:\n",
    "                U[i] = min(U[i], U[k] + 4 + 2 * (i // k - 1))\n",
    "\n",
    "    return U  # Retourne toute la liste U\n",
    "\n",
    "# Calcul des valeurs de U pour L allant de 0 à 1000\n",
    "L = 1000\n",
    "U_values = min_well_coin(L)\n",
    "\n",
    "# Tracé du graphe\n",
    "plt.figure(figsize=(10, 6))\n",
    "plt.plot(range(L + 1), U_values, label='Nombre minimum de pièces', color='blue')\n",
    "plt.title('Nombre minimum de pièces nécessaires pour L fleurs')\n",
    "plt.xlabel('Nombre de fleurs (L)')\n",
    "plt.ylabel('Nombre minimum de pièces (U[L])')\n",
    "plt.grid(True)\n",
    "plt.legend()\n",
    "plt.show()\n"
   ]
  },
  {
   "cell_type": "markdown",
   "id": "qdCXdJCdFFuw",
   "metadata": {
    "id": "qdCXdJCdFFuw"
   },
   "source": [
    "### Explications"
   ]
  },
  {
   "cell_type": "markdown",
   "id": "oNzBakvJFPFL",
   "metadata": {
    "id": "oNzBakvJFPFL"
   },
   "source": [
    "### Comment fonctionne la fonction `min_well_coin` ?\n",
    "\n",
    "La fonction `min_well_coin` calcule le nombre minimum de pièces nécessaires pour obtenir un certain nombre de fleurs en utilisant les règles du puits magique. Voici comment elle fonctionne en trois étapes principales :\n",
    "1. **Initialisation des valeurs de base**  \n",
    "   La fonction initialise une liste $( U )$, où chaque $( U[i] )$ représente le nombre minimum de pièces nécessaires pour obtenir $( i )$ fleurs. Les valeurs de base sont :\n",
    "   - $( U[0] = 0 )$ : Aucun coût pour 0 fleur.\n",
    "   - $( U[1] = 1 )$ : Une pièce pour obtenir la première fleur.\n",
    "\n",
    "2. **Mise à jour via des opérations simples**  \n",
    "   Pour chaque $( i $) (de 2 à $( L )$), on explore deux façons d’obtenir $( i $) fleurs :\n",
    "   - **Option 1 :** Utiliser une pièce pour passer de $( i-1 )$ à $( i )$ fleurs. Cela met à jour $( U[i] )$ avec :  \n",
    "     $[\n",
    "     U[i] = \\min(U[i], U[i-1] + 1)\n",
    "     ]$\n",
    "\n",
    "3. **Mise à jour via des opérations complexes (puits magique)**  \n",
    "   La fonction exploite le puits magique en mémorisant un état avec 4 pièces. Ensuite, pour chaque multiple $( j \\cdot i )$, on calcule le coût d’obtention basé sur l’état mémorisé pour $( i )$ fleurs :\n",
    "   $[\n",
    "   U[j \\cdot i] = \\min(U[j \\cdot i], U[i] + 4 + 2 \\times (j - 1))\n",
    "   ]$\n",
    "   Cette opération met à jour tous les multiples $( j \\cdot i )$ pour $( i < j \\cdot i \\leq L )$."
   ]
  },
  {
   "cell_type": "markdown",
   "id": "6iBPzZVoFWbJ",
   "metadata": {
    "id": "6iBPzZVoFWbJ"
   },
   "source": [
    "Quelle est la complexité temporelle de cet algorithme ? Que pouvez-vous en dire au regard de la recherche exhaustive codée plus tôt en lab ?"
   ]
  },
  {
   "cell_type": "markdown",
   "id": "Yy_cvNWoFQTU",
   "metadata": {
    "id": "Yy_cvNWoFQTU"
   },
   "source": [
    "### Explications"
   ]
  },
  {
   "cell_type": "markdown",
   "id": "fcVl13CNFjIV",
   "metadata": {
    "id": "fcVl13CNFjIV"
   },
   "source": [
    "### Complexité temporelle de l'algorithme\n",
    "\n",
    "La complexité temporelle de l'algorithme est $O(L^2)$, où $L$ est la valeur maximale de fleurs pour laquelle nous calculons le nombre minimum de pièces. Voici pourquoi :\n",
    "\n",
    "- **Boucle principale** : La boucle principale itère sur chaque valeur de $i$ de $2$ à $L$. Cela donne une complexité de $O(L)$.\n",
    "- **Boucle interne** : Pour chaque $i$, la boucle interne explore les diviseurs de $i$ pour mettre à jour les valeurs de $U$. La boucle interne a une complexité de $O(i)$ dans le pire des cas.\n",
    "- **Complexité totale** : En combinant les deux boucles, la complexité totale est $O(L^2)$.\n",
    "- **Comparaison avec la recherche exhaustive** : La recherche exhaustive avait une complexité de $O(3^L)$, ce qui est exponentiellement plus élevé que la complexité actuelle. L'algorithme de programmation dynamique est donc beaucoup plus efficace pour calculer le nombre minimum de pièces."
   ]
  },
  {
   "cell_type": "code",
   "outputs": [],
   "source": [],
   "metadata": {
    "collapsed": false
   },
   "id": "8aece2830547691a"
  }
 ],
 "metadata": {
  "colab": {
   "provenance": []
  },
  "interpreter": {
   "hash": "4d627b3ea71e790ed7d9c294cc76e400708b53c97c06f52348911b9296e7b669"
  },
  "kernelspec": {
   "display_name": "Python 3 (ipykernel)",
   "language": "python",
   "name": "python3"
  },
  "language_info": {
   "codemirror_mode": {
    "name": "ipython",
    "version": 3
   },
   "file_extension": ".py",
   "mimetype": "text/x-python",
   "name": "python",
   "nbconvert_exporter": "python",
   "pygments_lexer": "ipython3",
   "version": "3.8.8"
  }
 },
 "nbformat": 4,
 "nbformat_minor": 5
}
