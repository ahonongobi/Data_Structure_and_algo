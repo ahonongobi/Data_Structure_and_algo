{
 "cells": [
  {
   "cell_type": "markdown",
   "source": [
    "Team members (JMCS):\n",
    "* Member 1: **Pelissier Mathias (Exerice 3)**\n",
    "* Member 2: **Ahonon Gobi Parfait (Exerice 1 et 2)**"
   ],
   "metadata": {
    "collapsed": false
   },
   "id": "ad28b10078498e23"
  },
  {
   "cell_type": "markdown",
   "id": "3753f8ac-fd3a-4817-9c73-7772af832027",
   "metadata": {
    "id": "3753f8ac-fd3a-4817-9c73-7772af832027"
   },
   "source": [
    "# Série 5\n",
    "Ce document contient les différents exercices à réaliser. Veuillez compléter et rendre ces exercices dans deux semaines.\n",
    "\n",
    "Pour chaque exercice:\n",
    "* implémentez ce qui est demandé\n",
    "* commentez votre code\n",
    "* expliquez **en français ou en anglais** ce que vous avez codé dans la cellule correspondante\n",
    "\n",
    "\n",
    "Dans vos explications à chacun des exercices, indiquez un pourcentage subjectif d'investissement de chaque membre du groupe. **Des interrogations aléatoires en classe pourront être réalisées pour vérifier votre contribution/compréhension.**"
   ]
  },
  {
   "cell_type": "markdown",
   "id": "1fb0b066-c859-40a3-a8d6-7bcc656f8764",
   "metadata": {
    "id": "1fb0b066-c859-40a3-a8d6-7bcc656f8764"
   },
   "source": [
    "## Exercice 1\n",
    "Ecrivez un programme qui interprête une liste d'instructions en RPN (Reverse Polish Notation).\n",
    "* Si l'instruction est un entier, ajoutez-la au sommet de la pile.\n",
    "* Les opérations + - * / déclenchent un `pop()` des deux derniers nombres de la pile et un `push()` du résultat de l'opération entre ces deux nombres.\n",
    "\n",
    "Exemples:\n",
    "\n",
    "- ```1 4 - 3 *``` donne comme résultat ```-9```\n",
    "\n",
    "- ```3 4 * 6 / 1 2 +``` donne comme résultat ```2 3```\n",
    "\n",
    "Votre solution doit utiliser une pile que vous avez implémentée. Elle doit utiliser une liste (tableau) de taille fixe sans pour autant hériter de `List`. Il faut utiliser les fonctions (que vous devez implémenter) suivantes:"
   ]
  },
  {
   "cell_type": "code",
   "execution_count": 43,
   "id": "f7d53256-24f6-4c2c-860f-2b0577daf6db",
   "metadata": {
    "id": "f7d53256-24f6-4c2c-860f-2b0577daf6db",
    "ExecuteTime": {
     "end_time": "2024-11-04T09:01:19.041205Z",
     "start_time": "2024-11-04T09:01:19.031115Z"
    }
   },
   "outputs": [],
   "source": [
    "class MyStack:\n",
    "    def __init__(self, size: int):\n",
    "        self.stack = [None]*size # tableau de taille fixe\n",
    "        self.top = -1 # indice du sommet de la pile (self.top représente l'indice du sommet de la pile, i.e la position du dernier élément ajouté.\n",
    "        self.max_size = size # taille maximale de la pile\n",
    "        \n",
    "\n",
    "    def print(self):\n",
    "        # Affiche le contenu de la pile\n",
    "        for i in range(self.top+1): # On parcourt les éléments de la pile (de 0 à top)\n",
    "            print(self.stack[i], end=\" \") # On affiche les éléments de la pile\n",
    "\n",
    "    def size(self):\n",
    "        # Affiche la taille de la pile\n",
    "        return self.top+1 # On retourne la taille de la pile (le sommet de la pile + 1)\n",
    "\n",
    "    def is_empty(self):\n",
    "        # Retourne True si la pile est vide, False sinon\n",
    "        return self.top == -1 # On vérifie si le sommet de la pile est à -1 (pile vide  car aucun élément n'a été ajouté)\n",
    "\n",
    "    def push(self, o: int): # Throws FullStackException\n",
    "        # Ajoute un élément à la pile\n",
    "        if self.top >= self.max_size-1: # On vérifie si la pile est pleine (le sommet de la pile est à la dernière position du tableau)\n",
    "            raise FullStackException(\"La pile est pleine\")\n",
    "        self.top += 1 # On incrémente le sommet de la pile pour indiquer qu'on ajoute un élément\n",
    "        self.stack[self.top] = o # On ajoute l'élément à la pile à la position du sommet de la pile\n",
    "\n",
    "    def pop(self): # Throws VoidStackException\n",
    "        # Supprime et retourne l'élément au sommet de la pile\n",
    "        if self.is_empty():\n",
    "            raise VoidStackException(\"La pile est vide\") # On vérifie si la pile est vide\n",
    "        value = self.stack[self.top] # On récupère l'élément au sommet de la pile\n",
    "        self.stack[self.top] = None # On supprime l'élément au sommet de la pile\n",
    "        self.top -= 1 # On décrémente le sommet de la pile pour indiquer que l'élément a été sup\n",
    "        return value # On retourne l'élément supprimé de la pile (au sommet de la pile)\n",
    "\n",
    "class Error(Exception):\n",
    "    pass # Base error class, already raised in relevant methods\n",
    "\n",
    "class FullStackException(Error):\n",
    "    pass # Specific error when the stack is full, already raised\n",
    "\n",
    "class VoidStackException(Error):\n",
    "    pass # Specific error when the stack is empty, already raised\n"
   ]
  },
  {
   "cell_type": "code",
   "execution_count": 44,
   "id": "c1fd10ee-e325-40e9-8e21-081905a50ec5",
   "metadata": {
    "id": "c1fd10ee-e325-40e9-8e21-081905a50ec5",
    "ExecuteTime": {
     "end_time": "2024-11-04T09:01:19.521658Z",
     "start_time": "2024-11-04T09:01:19.513291Z"
    }
   },
   "outputs": [
    {
     "name": "stdout",
     "output_type": "stream",
     "text": [
      "1 4 1 1 3 10 5 "
     ]
    }
   ],
   "source": [
    "s = MyStack(3)\n",
    "assert s.size() == 0\n",
    "assert s.is_empty() == True\n",
    "s.push(1)\n",
    "s.push(4)\n",
    "s.print()\n",
    "assert s.size() == 2\n",
    "assert s.is_empty() == False\n",
    "assert s.pop() == 4\n",
    "s.print()\n",
    "assert s.size() == 1\n",
    "s.push(3)\n",
    "s.push(10)\n",
    "assert s.size() == 3\n",
    "s.print()\n",
    "try:\n",
    "    s.push(12)\n",
    "    print(\"Erreur: FullStackException doit être levée durant cette opération\")\n",
    "except FullStackException:\n",
    "    pass\n",
    "except:\n",
    "    print(\"Erreur: FullStackException doit être levée durant cette opération\")\n",
    "assert s.pop() == 10\n",
    "assert s.pop() == 3\n",
    "assert s.pop() == 1\n",
    "assert s.size() == 0\n",
    "assert s.is_empty() == True\n",
    "\n",
    "s = MyStack(3)\n",
    "s.push(5)\n",
    "assert s.size() == 1\n",
    "assert s.is_empty() == False\n",
    "s.print()\n",
    "assert s.pop() == 5\n",
    "assert s.size() == 0\n",
    "assert s.is_empty() == True\n",
    "s.print()\n",
    "try:\n",
    "    s.pop()\n",
    "    print(\"Erreur: VoidStackException doit être levée durant cette opération\")\n",
    "except VoidStackException:\n",
    "    pass\n",
    "except:\n",
    "    print(\"Erreur: VoidStackException doit être levée durant cette opération\")"
   ]
  },
  {
   "cell_type": "code",
   "execution_count": 45,
   "id": "39c64d99-3c68-4a46-9ead-6ab8605a9cf6",
   "metadata": {
    "id": "39c64d99-3c68-4a46-9ead-6ab8605a9cf6",
    "ExecuteTime": {
     "end_time": "2024-11-04T09:01:20.135902Z",
     "start_time": "2024-11-04T09:01:20.128030Z"
    }
   },
   "outputs": [],
   "source": [
    "# Param:\n",
    "# entry: String[]\n",
    "def rpn(entry):\n",
    "    stack = MyStack(len(entry)) # On crée une pile de taille égale à la taille de l'entrée\n",
    "    for e in entry:\n",
    "        if e == \"+\":\n",
    "            stack.push(stack.pop() + stack.pop())  # On retire les deux derniers éléments de la pile, les additionne et pousse le résultat sur la pile.\n",
    "        elif e == \"-\": # On retire les deux derniers éléments de la pile, les soustrait et pousse le résultat sur la pile.\n",
    "            stack.push(-stack.pop() + stack.pop())\n",
    "        elif e == \"*\": # On retire les deux derniers éléments de la pile, les multiplie et pousse le résultat sur la pile.\n",
    "            stack.push(stack.pop() * stack.pop())\n",
    "        elif e == \"/\": # On retire les deux derniers éléments de la pile, les divise et pousse le résultat sur la pile.\n",
    "            stack.push(1/stack.pop() * stack.pop())\n",
    "        else: # Si l'élément n'est pas un opérateur, on le pousse sur la pile.\n",
    "            stack.push(int(e))\n",
    "    return stack\n"
   ]
  },
  {
   "cell_type": "code",
   "execution_count": 46,
   "id": "18596dc6-a912-422c-9593-2c6ed7f660c9",
   "metadata": {
    "id": "18596dc6-a912-422c-9593-2c6ed7f660c9",
    "ExecuteTime": {
     "end_time": "2024-11-04T09:01:20.611756Z",
     "start_time": "2024-11-04T09:01:20.607587Z"
    }
   },
   "outputs": [
    {
     "name": "stdout",
     "output_type": "stream",
     "text": [
      "-9 2.0 3 "
     ]
    }
   ],
   "source": [
    "s = rpn([\"1\",\"4\",\"-\",\"3\",\"*\"])\n",
    "s.print() # doit être \"-9\"\n",
    "s = rpn([\"3\",\"4\",\"*\",\"6\",\"/\",\"1\",\"2\",\"+\"])\n",
    "s.print() # doit être \"2 3\""
   ]
  },
  {
   "cell_type": "markdown",
   "id": "2ca32f2e-e995-477c-8535-62f6e42dc093",
   "metadata": {
    "id": "2ca32f2e-e995-477c-8535-62f6e42dc093"
   },
   "source": [
    "### Explications"
   ]
  },
  {
   "cell_type": "markdown",
   "id": "f5a17952-cba5-4bc4-9a41-aa68a0b0d806",
   "metadata": {
    "id": "f5a17952-cba5-4bc4-9a41-aa68a0b0d806"
   },
   "source": [
    "\n",
    "\n",
    "1.**Classe `MyStack`** :\n",
    "   - Implémente une pile avec un tableau de taille fixe. Elle contient des méthodes pour initialiser la pile, ajouter (`push`), retirer (`pop`), vérifier si elle est vide (`is_empty`), et afficher (`print`) les éléments.\n",
    "        - **Méthode `__init__(self, size: int)`** : Initialise la pile avec un tableau de taille `size`, un sommet de pile à `-1` et une taille maximale de pile `max_size`.\n",
    "        - **Méthode `print(self)`** : Affiche les éléments de la pile.\n",
    "        - **Méthode `size(self)`** : Retourne la taille de la pile.\n",
    "        - **Méthode `is_empty(self)`** : Retourne `True` si la pile est vide, `False` sinon.\n",
    "        - **Méthode `push(self, o: int)`** : Ajoute un élément `o` à la pile.\n",
    "        - **Méthode `pop(self)`** : Retire et retourne l'élément au sommet de la pile.\n",
    "                - Si la pile est vide, une exception `VoidStackException` est levée.\n",
    "\n",
    "\n",
    "2.**Fonction `rpn(entry)`** :\n",
    "   - Cette fonction prend une liste d'instructions en notation polonaise inversée. Pour chaque élément, elle ajoute des entiers à la pile ou effectue des opérations arithmétiques (`+`, `-`, `*`, `/`) en utilisant la pile pour obtenir les résultats.\n",
    "\n",
    "3.**Exécution** :\n",
    "   - En appelant `rpn([\"1\", \"4\", \"-\", \"3\", \"*\"])`, le résultat final de l'expression est stocké au sommet de la pile. On peut le récupérer avec `pop()`, donnant ici `-9`."
   ]
  },
  {
   "cell_type": "markdown",
   "id": "bd6bd0c1-822d-47dc-aff2-2a0e4d1f0bf7",
   "metadata": {
    "id": "bd6bd0c1-822d-47dc-aff2-2a0e4d1f0bf7"
   },
   "source": [
    "## Exercice 2\n",
    "Implémentez et testez une liste doublement chaînée et son itérateur. Implémentez une classe pour la liste et une autre pour son itérateur. Si cela vous aide, vous pouvez utiliser la classe `Node` du cours."
   ]
  },
  {
   "cell_type": "code",
   "outputs": [],
   "source": [
    "class Node:\n",
    "    previous_node = None\n",
    "    current_node = None\n",
    "    next_node = None\n",
    "    def __init__(self, previous_node = None, current_node = None, next_node = None):\n",
    "        self.current_node = current_node\n",
    "        self.previous_node = previous_node\n",
    "        self.next_node = next_node\n",
    "\n",
    "    def get(self):\n",
    "        return self.current_node\n",
    "\n",
    "    def set(self, node):\n",
    "        self.current_node = node\n",
    "\n",
    "    def get_next(self):\n",
    "        return self.next_node\n",
    "\n",
    "    def set_next(self, node):\n",
    "        self.next_node = node\n",
    "\n",
    "    def get_previous(self):\n",
    "        return self.previous_node\n",
    "\n",
    "    def set_previous(self, node):\n",
    "        self.previous_node = node\n"
   ],
   "metadata": {
    "collapsed": false,
    "ExecuteTime": {
     "end_time": "2024-11-04T09:01:22.404559Z",
     "start_time": "2024-11-04T09:01:22.395750Z"
    }
   },
   "id": "86c1474704ff1710",
   "execution_count": 47
  },
  {
   "cell_type": "code",
   "execution_count": 48,
   "id": "6f501f1b-c57f-4537-b843-93cc508b923b",
   "metadata": {
    "id": "6f501f1b-c57f-4537-b843-93cc508b923b",
    "ExecuteTime": {
     "end_time": "2024-11-04T09:01:22.834353Z",
     "start_time": "2024-11-04T09:01:22.819648Z"
    }
   },
   "outputs": [],
   "source": [
    "class DoublyLinkedList:\n",
    "    def __init__(self):\n",
    "        self.head = None  # premier élément de la liste\n",
    "        self.tail = None  # dernier élément de la liste\n",
    "        self.size = 0     # taille de la liste\n",
    "\n",
    "    def begin(self):\n",
    "        return DoublyLinkedIterator(self.head)\n",
    "\n",
    "    def end(self):\n",
    "        return DoublyLinkedIterator(self.tail)\n",
    "\n",
    "    def add(self, e):\n",
    "        new_node = Node(None, e, None)  # Crée un nouveau noeud avec l'élément e\n",
    "        if self.head is None:  # Si la liste est vide\n",
    "            self.head = new_node  # Le nouveau noeud est le premier élément de la liste\n",
    "            self.tail = new_node  # Le nouveau noeud est aussi le dernier élément\n",
    "        else:\n",
    "            self.tail.set_next(new_node)  # Le noeud suivant du dernier élément de la liste est le nouveau noeud\n",
    "            new_node.set_previous(self.tail)  # Met à jour le précédent du nouveau noeud\n",
    "            self.tail = new_node  # Le dernier élément de la liste est le nouveau noeud\n",
    "        self.size += 1  # On incrémente la taille de la liste\n",
    "\n",
    "    def remove(self):\n",
    "        if self.head is None:  # Si la liste est vide\n",
    "            return None  # On retourne None\n",
    "        value = self.head.get()  # On récupère la valeur du premier élément de la liste\n",
    "        self.head = self.head.get_next()  # On met à jour le premier élément de la liste\n",
    "        if self.head is not None:  # Si la liste n'est pas vide\n",
    "            self.head.set_previous(None)  # On met à jour le noeud précédent du premier élément de la liste\n",
    "        else:\n",
    "            self.tail = None  # La liste est vide maintenant\n",
    "        self.size -= 1  # On décrémente la taille de la liste\n",
    "        return value  # On retourne la valeur du premier élément de la liste\n",
    "\n",
    "    def is_empty(self):\n",
    "        return self.size == 0  # On retourne True si la taille de la liste est 0, False sinon\n",
    "\n",
    "\n",
    "class DoublyLinkedIterator:\n",
    "    def __init__(self, node=None):\n",
    "        self.current = node  # élément actuellement itéré\n",
    "\n",
    "    def set(self, e):\n",
    "        if self.current is not None:  # Si l'élément actuellement itéré n'est pas None\n",
    "            self.current.set(e)  # On met à jour la valeur de l'élément actuellement itéré\n",
    "\n",
    "    def get(self):\n",
    "        if self.current is not None:  # Si l'élément actuellement itéré n'est pas None\n",
    "            return self.current.get()  # On retourne la valeur de l'élément actuellement itéré\n",
    "        return None  # Sinon, on retourne None\n",
    "\n",
    "    def increment(self):\n",
    "        if self.current is not None:  # Si l'élément actuellement itéré n'est pas None\n",
    "            self.current = self.current.get_next()  # On passe à l'élément suivant\n",
    "        return self  # On retourne l'itérateur\n",
    "\n",
    "    def decrement(self):\n",
    "        if self.current is not None:  # Si l'élément actuellement itéré n'est pas None\n",
    "            self.current = self.current.get_previous()  # On passe à l'élément précédent\n",
    "        return self  # On retourne l'itérateur\n",
    "\n",
    "    def equals(self, o):\n",
    "        return self.current == o.current  # On retourne True si l'élément actuellement itéré est le même pour les deux itérateurs, False sinon\n",
    "        "
   ]
  },
  {
   "cell_type": "code",
   "execution_count": 49,
   "id": "44b9dcda-5039-4731-902e-9ed1d09634b4",
   "metadata": {
    "id": "44b9dcda-5039-4731-902e-9ed1d09634b4",
    "ExecuteTime": {
     "end_time": "2024-11-04T09:01:23.194825Z",
     "start_time": "2024-11-04T09:01:23.187208Z"
    }
   },
   "outputs": [],
   "source": [
    "dll = DoublyLinkedList()\n",
    "assert dll.is_empty() == True\n",
    "dll.add(3)\n",
    "assert dll.begin().get() == 3\n",
    "assert dll.is_empty() == False\n",
    "dll.add(10)\n",
    "dll.add(9)\n",
    "assert dll.end().get() == 9\n",
    "\n",
    "it = dll.begin()\n",
    "assert it.get() == 3\n",
    "it = it.increment()\n",
    "assert it.get() == 10\n",
    "it = it.decrement()\n",
    "assert it.equals(dll.begin()) == True\n",
    "it.set(4)\n",
    "assert it.get() == 4\n",
    "\n",
    "assert dll.remove() == 4\n",
    "assert dll.begin().get() == 10\n",
    "assert dll.remove() == 10\n",
    "assert dll.remove() == 9\n",
    "assert dll.is_empty() == True"
   ]
  },
  {
   "cell_type": "markdown",
   "id": "85d504c1-3064-4df1-8d3d-f8703c9b64ee",
   "metadata": {
    "id": "85d504c1-3064-4df1-8d3d-f8703c9b64ee"
   },
   "source": [
    "### Explications"
   ]
  },
  {
   "cell_type": "markdown",
   "id": "55dd4727-de5d-4c43-81f8-6009efda9846",
   "metadata": {
    "id": "55dd4727-de5d-4c43-81f8-6009efda9846"
   },
   "source": [
    "1. **Classe `Node`** :\n",
    "   - Représente un élément de la liste doublement chaînée. Chaque nœud contient des pointeurs vers le nœud précédent et le nœud suivant, ainsi qu'une valeur.\n",
    "\n",
    "2. **Classe `DoublyLinkedList`** :\n",
    "   - Gère la liste. Elle garde la trace de l'élément `head` (début) et de l'élément `tail` (fin) ainsi que de la taille de la liste.\n",
    "   - **Méthodes** :\n",
    "     - `begin()` et `end()` retournent un itérateur au début ou à la fin de la liste.\n",
    "     - `add(e)` ajoute un nouvel élément à la fin de la liste.\n",
    "     - `remove()` supprime le premier élément de la liste.\n",
    "     - `is_empty()` vérifie si la liste est vide.\n",
    "\n",
    "3. **Classe `DoublyLinkedIterator`** :\n",
    "   - Permet d'itérer à travers les éléments de la liste.\n",
    "   - **Méthodes** :\n",
    "     - `set(e)` modifie la valeur de l'élément actuellement pointé par l'itérateur.\n",
    "     - `get()` retourne la valeur de l'élément actuel.\n",
    "     - `increment()` et `decrement()` avancent ou reculent dans la liste.\n",
    "     - `equals(o)` vérifie si deux itérateurs pointent vers le même élément.\n"
   ]
  },
  {
   "cell_type": "markdown",
   "id": "16b3e22e-7071-40f1-a581-acbbf60cb96f",
   "metadata": {
    "id": "16b3e22e-7071-40f1-a581-acbbf60cb96f"
   },
   "source": [
    "## Exercice 3\n",
    "Implémentez et testez une classe qui crée et rempli la liste doublement chaînée créée dans l'exercice 2 avec _n_ nombres aléatoires entre _0_ et _2n_. Utilisez l'implémentation de l'itérateur de l'exercice 2 pour:\n",
    "* itérer dans la liste et afficher chaque élément\n",
    "* afficher le premier élément de la liste et la position de la première occurence de X dans la liste:\n",
    "  *  le cas où X n’est pas présent dans la liste doit être géré avec une exception dédiée `ItemNotFound`\n",
    "* itérer la liste à l'envers (du dernier au premier élément) et afficher chaque élément dans l'ordre d'itération\n",
    "* retirer chaque occurrence de X de la liste (elle peut contenir des éléments à double)\n",
    "  * le cas où X n’est pas présent dans la liste doit être géré avec une exception dédiée `ItemNotFound`"
   ]
  },
  {
   "cell_type": "code",
   "execution_count": 50,
   "id": "3919b194-357b-41dd-88f5-2c7fdf61ac27",
   "metadata": {
    "id": "3919b194-357b-41dd-88f5-2c7fdf61ac27",
    "ExecuteTime": {
     "end_time": "2024-11-04T09:01:25.144048Z",
     "start_time": "2024-11-04T09:01:25.132959Z"
    }
   },
   "outputs": [],
   "source": [
    "import random as rd\n",
    "\n",
    "class TestLinkedList:\n",
    "    list = None\n",
    "\n",
    "    def __init__(self, n):\n",
    "        self.list = DoublyLinkedList()\n",
    "        for c in range(n):\n",
    "            self.list.add(rd.randint(0, 2*n))\n",
    "\n",
    "    def print_list_forwards(self):\n",
    "        iterator = self.list.begin()\n",
    "        while iterator.get() != None:\n",
    "            print(iterator.get())\n",
    "            iterator = iterator.increment() #attribution d'une nouvelle instance de l'iterateur à iterator\n",
    "\n",
    "    def first_element(self):\n",
    "        iterator = self.list.begin()\n",
    "        print(iterator.get())\n",
    "\n",
    "    def first_occurence(self, x):\n",
    "        index = 0 #index utilisé pour la position\n",
    "        iterator = self.list.begin()\n",
    "        while iterator.get() != None: #temps que l'itérateur n'arrive pas en tête de liste\n",
    "            if iterator.get() == x:\n",
    "                return index\n",
    "            iterator = iterator.increment()\n",
    "            index +=1\n",
    "        return ItemNotFound(\"Item not in list\")\n",
    "\n",
    "    def print_list_backwards(self):\n",
    "        iterator = self.list.end()\n",
    "        while iterator.get() != None:\n",
    "            print(iterator.get())\n",
    "            iterator = iterator.decrement()\n",
    "\n",
    "            #retirer chaque occurrence de X de la liste (elle peut contenir des éléments à double)\n",
    "    def remove_element(self, x):\n",
    "        newList = DoublyLinkedList() #nouvelle liste qui sera retourner en fin d'éxecution de la méthode sans X\n",
    "        iterator = self.list.begin()\n",
    "        index = 0\n",
    "        while iterator.get() != None:\n",
    "            if iterator.get() != x:\n",
    "                newList.add(x)\n",
    "                iterator = iterator.increment()\n",
    "            else:\n",
    "                index += 1\n",
    "                iterator = iterator.increment()\n",
    "\n",
    "        if index == 0 :\n",
    "            return ItemNotFound(\"Item not in list\")\n",
    "        return newList\n",
    "\n",
    "class ItemNotFound(Exception):\n",
    "     def __init__(self, message):\n",
    "       print(message)\n"
   ]
  },
  {
   "cell_type": "code",
   "source": [
    "# Quelques tests à titre indicatif\n",
    "n = 5\n",
    "test = TestLinkedList(n)\n",
    "test.print_list_forwards()\n",
    "print()\n",
    "test.first_element()\n",
    "print()\n",
    "print(\"Must be the first element of the list (index = 0)\")\n",
    "test.first_occurence(test.list.begin().get())\n",
    "test.first_occurence(test.list.end().get())\n",
    "\n",
    "try:\n",
    "    test.first_occurence(n*2+1)\n",
    "    print(\"Error: ItemNotFound exception must be raised\")\n",
    "except ItemNotFound:\n",
    "    pass\n",
    "except:\n",
    "    print(\"Error: ItemNotFound exception must be raised\")\n",
    "\n",
    "test.print_list_backwards()\n",
    "print()\n",
    "test.remove_element(test.list.begin().get())\n",
    "test.print_list_forwards()\n",
    "test.remove_element(test.list.end().get())\n",
    "test.print_list_forwards()\n",
    "\n",
    "try:\n",
    "    test.remove_element(n*2+1)\n",
    "    print(\"Error: ItemNotFound exception must be raised\")\n",
    "except ItemNotFound:\n",
    "    pass\n",
    "except:\n",
    "    print(\"Error: ItemNotFound exception must be raised\")"
   ],
   "metadata": {
    "id": "k-tbRqHDOzjV",
    "ExecuteTime": {
     "end_time": "2024-11-04T09:01:25.665209Z",
     "start_time": "2024-11-04T09:01:25.654427Z"
    }
   },
   "id": "k-tbRqHDOzjV",
   "execution_count": 51,
   "outputs": [
    {
     "name": "stdout",
     "output_type": "stream",
     "text": [
      "0\n",
      "7\n",
      "2\n",
      "6\n",
      "1\n",
      "\n",
      "0\n",
      "\n",
      "Must be the first element of the list (index = 0)\n",
      "Item not in list\n",
      "Error: ItemNotFound exception must be raised\n",
      "1\n",
      "6\n",
      "2\n",
      "7\n",
      "0\n",
      "\n",
      "0\n",
      "7\n",
      "2\n",
      "6\n",
      "1\n",
      "0\n",
      "7\n",
      "2\n",
      "6\n",
      "1\n",
      "Item not in list\n",
      "Error: ItemNotFound exception must be raised\n"
     ]
    }
   ]
  },
  {
   "cell_type": "markdown",
   "id": "bf53aa4c-b468-420f-a136-7a48c7615308",
   "metadata": {
    "id": "bf53aa4c-b468-420f-a136-7a48c7615308"
   },
   "source": [
    "### Explications"
   ]
  },
  {
   "cell_type": "markdown",
   "id": "4208091b-7d07-4182-ac98-df7591e97a7e",
   "metadata": {
    "id": "4208091b-7d07-4182-ac98-df7591e97a7e"
   },
   "source": [
    "Attribut list : Cet attribut est une instance de DoublyLinkedList, qui sera utilisée pour effectuer des opérations sur la liste.\n",
    "\n",
    "Méthode init(self, n) : Ce constructeur initialise une instance de DoublyLinkedList et y ajoute n éléments aléatoires compris entre 0 et 2 * n en\n",
    "\n",
    "Méthode print_list_forwards(self) : Cette méthode parcourt la liste du début vers la fin et affiche chaque élément. Elle utilise un itérateur (iterator) pour traverser la liste en appelant increment() à chaque étape, ce qui avance l'itérateur vers le nœud suivant. À chaque itération, iterator.get() est appelé pour obtenir la valeur actuelle de l'élément.\n",
    "\n",
    "Méthode first_element(self) : Cette méthode affiche le premier élément de la liste. Elle utilise un itérateur positionné au début de la liste (grâce à self.list.begin()) et affiche l'élément actuel avec iterator.get().\n",
    "\n",
    "Méthode first_occurence(self, x) : Cette méthode recherche la première occurrence de l'élément x dans la liste. Elle utilise un itérateur pour parcourir la liste et un index pour suivre la position courante. Si x est trouvé, elle retourne l'index de la première occurrence. Si x n'est pas dans la liste, elle lève une exception ItemNotFound avec un message indiquant que l'élément n'est pas présent.\n",
    "\n",
    "Méthode print_list_backwards(self) : Cette méthode parcourt la liste de la fin vers le début et affiche chaque élément. Elle initialise un itérateur à la fin de la liste (self.list.end()) et utilise decrement() pour reculer à chaque étape.\n",
    "\n",
    "Méthode remove_element(self, x) : Cette méthode retire toutes les occurrences de l'élément x de la liste. Elle crée une nouvelle liste newList qui contiendra tous les éléments de la liste d'origine, sauf x. Elle parcourt la liste avec un itérateur et ajoute les éléments différents de x dans newList. Si x n'est pas trouvé dans la liste, elle lève une exception ItemNotFound. Elle retourne newList, qui est une version de la liste d'origine sans les occurrences de x.\n",
    "\n",
    "Classe ItemNotFound : C'est une classe d'exception personnalisée qui hérite de Exception. Elle affiche un message d'erreur lorsque l'élément recherché n'est pas trouvé dans la liste."
   ]
  },
  {
   "cell_type": "code",
   "outputs": [],
   "source": [],
   "metadata": {
    "collapsed": false
   },
   "id": "7bd5562fe11d2605"
  }
 ],
 "metadata": {
  "kernelspec": {
   "display_name": "Python 3 (ipykernel)",
   "language": "python",
   "name": "python3"
  },
  "language_info": {
   "codemirror_mode": {
    "name": "ipython",
    "version": 3
   },
   "file_extension": ".py",
   "mimetype": "text/x-python",
   "name": "python",
   "nbconvert_exporter": "python",
   "pygments_lexer": "ipython3",
   "version": "3.8.8"
  },
  "colab": {
   "provenance": []
  }
 },
 "nbformat": 4,
 "nbformat_minor": 5
}
