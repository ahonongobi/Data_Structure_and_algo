{
 "cells": [
  {
   "cell_type": "markdown",
   "source": [
    "Team members:\n",
    "* Member 1: **Mathias**\n",
    "* Member 2: **Ahonon Gobi Parfait**"
   ],
   "metadata": {
    "collapsed": false
   },
   "id": "695c92ff928a292"
  },
  {
   "cell_type": "markdown",
   "id": "9aec3600-4aba-4aca-8b31-fafd437386b0",
   "metadata": {
    "id": "9aec3600-4aba-4aca-8b31-fafd437386b0"
   },
   "source": [
    "# Série 1\n",
    "Ce document contient les différents exercices à réaliser. Veuillez compléter et rendre ces exercices pour la semaine prochaine.\n",
    "\n",
    "Pour chaque exercice:\n",
    "* implémentez ce qui est demandé\n",
    "* commentez votre code\n",
    "* expliquez **en français** ce que vous avez codé dans la cellule correspondante\n",
    "\n",
    "Dans vos explications à chacun des exercices, indiquez un pourcentage subjectif d'investissement de chaque membre du groupe. **Des interrogations aléatoires en classe pourront être réalisées pour vérifier votre contribution/compréhension.**"
   ]
  },
  {
   "cell_type": "markdown",
   "id": "c048d1b5-ae84-420b-ad75-54022ad3d823",
   "metadata": {
    "id": "c048d1b5-ae84-420b-ad75-54022ad3d823"
   },
   "source": [
    "## Exercice 1\n",
    "Le PGCD (plus grand commun diviseur) est le plus grand nombre entier qui divise simultanément deux autres nombres entiers.\n",
    "\n",
    "Implémentez l'algorithme d'Euclide permettant de calculer le PGCD de deux nombres entiers. Vous trouverez plus d'informations concernant l'algorithme d'Euclide en cliquant sur ce [lien](https://en.wikipedia.org/wiki/Greatest_common_divisor#Euclid's_algorithm)."
   ]
  },
  {
   "cell_type": "code",
   "execution_count": 9,
   "id": "530b3d63-e9ed-4be6-ba5b-e814dd41e0da",
   "metadata": {
    "id": "530b3d63-e9ed-4be6-ba5b-e814dd41e0da",
    "ExecuteTime": {
     "end_time": "2024-09-25T12:30:50.946256Z",
     "start_time": "2024-09-25T12:30:50.943687Z"
    }
   },
   "outputs": [],
   "source": [
    "def gcd(n: int, m: int):\n",
    "    result = 0\n",
    "    while m != 0:\n",
    "        n, m = m, n%m # n = m, m = n%m so we can get the remainder of the division of n by m\n",
    "        result = n # the gcd is the last value of n\n",
    "    return result"
   ]
  },
  {
   "cell_type": "code",
   "execution_count": 10,
   "id": "102485ed-c85e-44f3-ae2f-9023bdffc948",
   "metadata": {
    "id": "102485ed-c85e-44f3-ae2f-9023bdffc948",
    "ExecuteTime": {
     "end_time": "2024-09-25T12:30:51.966873Z",
     "start_time": "2024-09-25T12:30:51.963976Z"
    }
   },
   "outputs": [],
   "source": [
    "assert gcd(9,6) == 3\n",
    "assert gcd(24,32) == 8\n",
    "assert gcd(18,18) == 18\n",
    "assert not gcd(10,15) == 10\n",
    "assert not gcd(12,9) == 4\n",
    "assert not gcd(14,14) == 34"
   ]
  },
  {
   "cell_type": "markdown",
   "id": "a16a16c3-0418-4825-af9c-86694192e9f5",
   "metadata": {
    "id": "a16a16c3-0418-4825-af9c-86694192e9f5"
   },
   "source": [
    "### Explications"
   ]
  },
  {
   "cell_type": "markdown",
   "id": "cae476f0-400c-4ef8-b018-4afa60982a5a",
   "metadata": {
    "id": "cae476f0-400c-4ef8-b018-4afa60982a5a"
   },
   "source": [
    "L'algorithme d'Euclide est un algorithme permettant de calculer le PGCD de deux nombres entiers. Il repose sur le fait que le PGCD de deux nombres est égal au PGCD du plus petit des deux nombres et du reste de la division du plus grand par le plus petit. On répète cette opération jusqu'à ce que le reste soit égal à 0. Le PGCD est alors le dernier reste non nul.\n",
    "\n",
    "Donc, dans le code nous avons une boucle while qui s'arrête lorsque m est égal à 0. Dans cette boucle, on échange les valeurs de n et m et on affecte à n le reste de la division de n par m. Une fois la boucle terminée, on affecte à result la valeur de n qui est le PGCD des deux nombres."
   ]
  },
  {
   "cell_type": "markdown",
   "id": "f4caa6ca-084e-45ea-bf26-9ce9ea4c4667",
   "metadata": {
    "id": "f4caa6ca-084e-45ea-bf26-9ce9ea4c4667"
   },
   "source": [
    "## Exercice 2\n",
    "Implémentez une manière de calculer $x^n$ en utilisant la méthode de dichotomie."
   ]
  },
  {
   "cell_type": "code",
   "execution_count": 11,
   "id": "d76d206b-89e0-44f4-bf0d-10f223950c2a",
   "metadata": {
    "id": "d76d206b-89e0-44f4-bf0d-10f223950c2a",
    "ExecuteTime": {
     "end_time": "2024-09-25T12:30:56.374642Z",
     "start_time": "2024-09-25T12:30:56.370573Z"
    }
   },
   "outputs": [
    {
     "data": {
      "text/plain": "8"
     },
     "execution_count": 11,
     "metadata": {},
     "output_type": "execute_result"
    }
   ],
   "source": [
    "def powdi(x: int, n: int):\n",
    "    if n== 0:\n",
    "        return  1 # Cas de base : x^0 = 1\n",
    "    if n % 2 == 0:\n",
    "        return (x*x) ** (n//2) # Si n est pair, x^n = (x^2)^(n/2)\n",
    "    else:\n",
    "        return x * (x*x) ** (n//2) # Si n est impair, x^n = x * (x^2)^(n/2)\n",
    "powdi(2,3)"
   ]
  },
  {
   "cell_type": "code",
   "execution_count": 12,
   "id": "f3963a0f-8fda-4321-ab94-8856103945c9",
   "metadata": {
    "id": "f3963a0f-8fda-4321-ab94-8856103945c9",
    "ExecuteTime": {
     "end_time": "2024-09-25T12:30:59.389549Z",
     "start_time": "2024-09-25T12:30:59.386486Z"
    }
   },
   "outputs": [],
   "source": [
    "assert powdi(2,3) == 8\n",
    "assert powdi(4,2) == 16\n",
    "assert powdi(2,2) == 4\n",
    "assert powdi(4,0) == 1\n",
    "assert powdi(2,1) == 2\n",
    "assert not powdi(5,2) == 10\n",
    "assert not powdi(3,7) == 10\n",
    "assert not powdi(3,3) == 10"
   ]
  },
  {
   "cell_type": "markdown",
   "id": "4f21166a-1dff-44fe-87fa-97721ca66713",
   "metadata": {
    "id": "4f21166a-1dff-44fe-87fa-97721ca66713"
   },
   "source": [
    "### Explications"
   ]
  },
  {
   "cell_type": "markdown",
   "id": "2ea0051d-e11f-4c78-a560-1ead461b83a4",
   "metadata": {
    "id": "2ea0051d-e11f-4c78-a560-1ead461b83a4"
   },
   "source": [
    "1. Si $n=0$, on retourne 1 car $x^0 = 1$.\n",
    "2. Si $n$ est pair, on retourne $(x^2)^{n/2}$.\n",
    "3. Si $n$ est impair, on retourne $x * (x^2)^{n/2}$.\n",
    "4. On répète les étapes 2 et 3 jusqu'à ce que $n=0$.\n",
    "5. On retourne le résultat."
   ]
  },
  {
   "cell_type": "markdown",
   "id": "5ed1f459-7bd3-48dc-ac2b-e149c6df6c7f",
   "metadata": {
    "id": "5ed1f459-7bd3-48dc-ac2b-e149c6df6c7f"
   },
   "source": [
    "## Exercice 3\n",
    "La suite de Fibonacci est une suite de nombres entiers dans laquelle chaque nombre $f_{n+2}$ correspond à la somme des deux nombres qui le précèdent, $f_{n+1}+f_{n}$.\n",
    "\n",
    "Implémentez l'algorithme de Fibonacci en utilisant la multiplication matricielle."
   ]
  },
  {
   "cell_type": "markdown",
   "source": [
    "## Our implementation:"
   ],
   "metadata": {
    "collapsed": false
   },
   "id": "998dbe011b2f57b0"
  },
  {
   "cell_type": "code",
   "outputs": [
    {
     "data": {
      "text/plain": "21"
     },
     "execution_count": 15,
     "metadata": {},
     "output_type": "execute_result"
    }
   ],
   "source": [
    "def fibo(n: int):\n",
    "    result = 0\n",
    "    if n == 0:\n",
    "        return 0\n",
    "    elif n == 1:\n",
    "        return 1\n",
    "    else:\n",
    "        A = [[1, 1], [1, 0]]\n",
    "        B = [[1], [0]]\n",
    "        for i in range(2, n+1):\n",
    "            C = [[0], [0]]\n",
    "            for j in range(2):\n",
    "                for k in range(2):\n",
    "                    C[j][0] += A[j][k] * B[k][0]\n",
    "            B = C\n",
    "        result = B[0][0]\n",
    "\n",
    "    return result\n",
    "fibo(8)"
   ],
   "metadata": {
    "collapsed": false,
    "ExecuteTime": {
     "end_time": "2024-09-25T12:32:04.704775Z",
     "start_time": "2024-09-25T12:32:04.699240Z"
    }
   },
   "id": "4f90c3341f016ccb",
   "execution_count": 15
  },
  {
   "cell_type": "code",
   "execution_count": 6,
   "id": "c2865af5-764e-494a-9749-851fdf39cd63",
   "metadata": {
    "id": "c2865af5-764e-494a-9749-851fdf39cd63",
    "ExecuteTime": {
     "end_time": "2024-09-25T12:28:23.033374Z",
     "start_time": "2024-09-25T12:28:22.904535Z"
    }
   },
   "outputs": [],
   "source": [
    "import numpy as np\n",
    "\n",
    "def fibo(n: int):\n",
    "    f0f1 = np.array([[0],[1]])\n",
    "    # A COMPLETER\n",
    "    A = np.array([[0,1],\n",
    "                  [1,1]])\n",
    "    Apower_n = np.linalg.matrix_power(A, n) # utiliser powdi est preferable !!!\n",
    "    print(Apower_n)\n",
    "    return (Apower_n @ f0f1)[0]"
   ]
  },
  {
   "cell_type": "code",
   "source": [
    "fibo(9)"
   ],
   "metadata": {
    "colab": {
     "base_uri": "https://localhost:8080/"
    },
    "id": "frkDf9GqJ2KD",
    "outputId": "c04f3216-826c-422a-a481-8c55dff8f247",
    "ExecuteTime": {
     "end_time": "2024-09-25T12:28:41.051022Z",
     "start_time": "2024-09-25T12:28:41.046845Z"
    }
   },
   "id": "frkDf9GqJ2KD",
   "execution_count": 8,
   "outputs": [
    {
     "name": "stdout",
     "output_type": "stream",
     "text": [
      "[[21 34]\n",
      " [34 55]]\n"
     ]
    },
    {
     "data": {
      "text/plain": "array([34])"
     },
     "execution_count": 8,
     "metadata": {},
     "output_type": "execute_result"
    }
   ]
  },
  {
   "cell_type": "code",
   "source": [
    "def powdi(x: int, n: int):\n",
    "    # A COMPLETER\n",
    "    if n == 0:\n",
    "        return np.identity(2)\n",
    "    if n == 1:\n",
    "        return x\n",
    "    if n % 2 == 0:\n",
    "        return powdi(x, n/2) @ powdi(x, n/2)\n",
    "    if n % 2 != 0:\n",
    "        return x @ powdi(x, n//2) @ powdi(x, n//2)\n",
    "    return None"
   ],
   "metadata": {
    "id": "Uy7QHUeHHBMB",
    "ExecuteTime": {
     "end_time": "2024-09-25T12:31:28.538235Z",
     "start_time": "2024-09-25T12:31:28.534752Z"
    }
   },
   "id": "Uy7QHUeHHBMB",
   "execution_count": 13,
   "outputs": []
  },
  {
   "cell_type": "code",
   "source": [
    "powdi(np.array([[0,1],[1,1]]), 8)"
   ],
   "metadata": {
    "colab": {
     "base_uri": "https://localhost:8080/"
    },
    "id": "YRNKIzdzJrki",
    "outputId": "d36e8d0f-782b-45ed-d601-39291b83506b",
    "ExecuteTime": {
     "end_time": "2024-09-25T12:31:29.220230Z",
     "start_time": "2024-09-25T12:31:29.214008Z"
    }
   },
   "id": "YRNKIzdzJrki",
   "execution_count": 14,
   "outputs": [
    {
     "data": {
      "text/plain": "array([[13, 21],\n       [21, 34]])"
     },
     "execution_count": 14,
     "metadata": {},
     "output_type": "execute_result"
    }
   ]
  },
  {
   "cell_type": "code",
   "execution_count": null,
   "id": "75ca81ec-27df-45a1-9464-57e73c08aef7",
   "metadata": {
    "id": "75ca81ec-27df-45a1-9464-57e73c08aef7",
    "colab": {
     "base_uri": "https://localhost:8080/"
    },
    "outputId": "4d18b918-d398-49e4-aa32-cb37c9278c73"
   },
   "outputs": [
    {
     "output_type": "stream",
     "name": "stdout",
     "text": [
      "[[13 21]\n",
      " [21 34]]\n",
      "[[34 55]\n",
      " [55 89]]\n",
      "[[1 0]\n",
      " [0 1]]\n",
      "[[0 1]\n",
      " [1 1]]\n",
      "[[3 5]\n",
      " [5 8]]\n"
     ]
    }
   ],
   "source": [
    "assert fibo(8) == 21\n",
    "assert fibo(10) == 55\n",
    "assert fibo(0) == 0\n",
    "assert fibo(1) == 1\n",
    "assert not fibo(5) == 10"
   ]
  },
  {
   "cell_type": "markdown",
   "id": "3f47e9dc-52a3-419a-b944-55a7a0d0a4e7",
   "metadata": {
    "id": "3f47e9dc-52a3-419a-b944-55a7a0d0a4e7"
   },
   "source": [
    "### Explications"
   ]
  },
  {
   "cell_type": "markdown",
   "id": "00cd736a-f752-461e-8540-4bf6e9193b4d",
   "metadata": {
    "id": "00cd736a-f752-461e-8540-4bf6e9193b4d"
   },
   "source": [
    "L'algorithme de Fibonacci en utilisant la multiplication matricielle repose sur le fait que la suite de Fibonacci peut être représentée par une matrice $A$ telle que $\\left[\\begin{array}{c}\n",
    "f_{n+1} \\\\\n",
    "f_{n}\n",
    "\\end{array}\\right] = A \\left[\\begin{array}{c} f_{n} \\\\ f_{n-1} \\end{array}\\right]$. On peut alors calculer $f_n$ en multipliant $A$ par $\\left[\\begin{array}{c} f_{n-1} \\\\ f_{n-2} \\end{array}\\right]$ et en répétant l'opération jusqu'à $n$. \n",
    "\n",
    "Illustration de la méthode pour $n=4$:\n",
    "* $f_4 = f_3 + f_2$\n",
    "* $f_3 = f_2 + f_1$\n",
    "* $f_2 = f_1 + f_0$\n",
    "* $f_1 = f_0 + f_{-1}$\n",
    "* $f_0 = 0$\n",
    "* $f_{-1} = 0$\n",
    "* $f_1 = 1$\n",
    "* $f_2 = 1$\n",
    "* $f_3 = 2$\n",
    "* $f_4 = 3$\n",
    "\n",
    "On peut alors représenter les équations par une matrice $A = \\left[\\begin{array}{cc} 1 & 1 \\\\ 1 & 0 \\end{array}\\right]$ et $B = \\left[\\begin{array}{c} f_{n+1} \\\\ f_{n} \\end{array}\\right]$. On peut alors calculer $f_n$ en multipliant $A$ par $B$ et en répétant l'opération jusqu'à $n$.\n",
    "\n",
    "\n",
    "\n",
    "Voyons les étapes avec un cas spécifique, comme `fibo(4)` :\n",
    "\n",
    "### Cas de `fibo(4)` : \n",
    "\n",
    "#### Initialisation :\n",
    "- $n = 4$\n",
    "- Le vecteur $B$ est initialisé comme $\\begin{pmatrix} 1 \\\\ 0 \\end{pmatrix}$, ce qui correspond à $f_1 = 1$ et $f_0 = 0$.\n",
    "- La matrice $A$ est $\\begin{pmatrix} 1 & 1 \\\\ 1 & 0 \\end{pmatrix}$, qui est la matrice de transformation utilisée pour la suite de Fibonacci.\n",
    "\n",
    "#### Itérations dans la boucle `for` :\n",
    "1. **Itération 1 ($i = 2$)** :\n",
    "   - On calcule $C = A \\times B$ :\n",
    "     $\\[\n",
    "     C[0][0] = A[0][0] \\times B[0][0] + A[0][1] \\times B[1][0] = 1 \\times 1 + 1 \\times 0 = 1\n",
    "     \\]$\n",
    "     $\\[\n",
    "     C[1][0] = A[1][0] \\times B[0][0] + A[1][1] \\times B[1][0] = 1 \\times 1 + 0 \\times 0 = 1\n",
    "     \\]$\n",
    "   - Le vecteur $C$ devient $\\begin{pmatrix} 1 \\\\ 1 \\end{pmatrix}$, ce qui correspond à $f_2 = 1$.\n",
    "\n",
    "2. **Itération 2 ($i = 3$)** :\n",
    "   - On calcule $C = A \\times B$ :\n",
    "     $\\[\n",
    "     C[0][0] = A[0][0] \\times B[0][0] + A[0][1] \\times B[1][0] = 1 \\times 1 + 1 \\times 1 = 2\n",
    "     \\]$\n",
    "     $\\[\n",
    "     C[1][0] = A[1][0] \\times B[0][0] + A[1][1] \\times B[1][0] = 1 \\times 1 + 0 \\times 1 = 1\n",
    "     \\]$\n",
    "   - Le vecteur $C$ devient $\\begin{pmatrix} 2 \\\\ 1 \\end{pmatrix}$, ce qui correspond à $f_3 = 2$.\n",
    "\n",
    "3. **Itération 3 ($i = 4$)** :\n",
    "   - On calcule $C = A \\times B$ :\n",
    "     $\\[\n",
    "     C[0][0] = A[0][0] \\times B[0][0] + A[0][1] \\times B[1][0] = 1 \\times 2 + 1 \\times 1 = 3\n",
    "     \\]$\n",
    "    $\\[\n",
    "     C[1][0] = A[1][0] \\times B[0][0] + A[1][1] \\times B[1][0] = 1 \\times 2 + 0 \\times 1 = 2\n",
    "     \\]$\n",
    "   - Le vecteur $C$ devient $\\begin{pmatrix} 3 \\\\ 2 \\end{pmatrix}$, ce qui correspond à $f_4 = 3$.\n",
    "\n",
    "#### Résultat final :\n",
    "- Après la dernière itération, $B[0][0] = 3$ est le 4ème nombre de Fibonacci.\n"
   ]
  },
  {
   "cell_type": "markdown",
   "id": "6d41402d-e2b8-4067-a41d-c2220cfdb932",
   "metadata": {
    "id": "6d41402d-e2b8-4067-a41d-c2220cfdb932"
   },
   "source": [
    "### Exercice 3.1\n",
    "$(1)$ Montrez qu'il existe une matrice $A$ reliant $\\left[\\begin{array}{c}\n",
    "f_n \\\\\n",
    "f_{n+1}\n",
    "\\end{array}\\right]$ à $\\left[\\begin{array}{c}\n",
    "f_{n+1} \\\\\n",
    "f_{n+2}\n",
    "\\end{array}\\right]$ pour tout $n\\in \\mathbb{N}$.\n",
    "\n",
    "$(2)$ Trouvez alors une expression de $\\left[\\begin{array}{c}\n",
    "f_n \\\\\n",
    "f_{n+1}\n",
    "\\end{array}\\right]$ selon $A$ et  $\\left[\\begin{array}{c}\n",
    "f_0 \\\\\n",
    "f_{1}\n",
    "\\end{array}\\right]$ ."
   ]
  },
  {
   "cell_type": "markdown",
   "id": "b97c8f6e-1cb0-4205-b767-15a90d302f42",
   "metadata": {
    "id": "b97c8f6e-1cb0-4205-b767-15a90d302f42"
   },
   "source": [
    "### Exercice 3.1\n",
    "\n",
    "$(1)$ Démontrez qu'il existe une matrice $A$ reliant \n",
    "$$\n",
    "\\begin{pmatrix}\n",
    "f_n \\\\\n",
    "f_{n+1}\n",
    "\\end{pmatrix}\n",
    "$$\n",
    "à \n",
    "$$\n",
    "\\begin{pmatrix}\n",
    "f_{n+1} \\\\\n",
    "f_{n+2}\n",
    "\\end{pmatrix}\n",
    "$$\n",
    "pour tout $n \\in \\mathbb{N}$.\n",
    "\n",
    "**Solution :** \n",
    "\n",
    "Nous savons que la suite de Fibonacci est définie par la relation de récurrence :\n",
    "$$\n",
    "f_{n+2} = f_{n+1} + f_n\n",
    "$$\n",
    "Cela signifie que nous pouvons exprimer le vecteur \n",
    "$$\n",
    "\\begin{pmatrix} f_{n+1} \\\\ f_{n+2} \\end{pmatrix}\n",
    "$$\n",
    "comme une combinaison linéaire du vecteur \n",
    "$$\n",
    "\\begin{pmatrix} f_n \\\\ f_{n+1} \\end{pmatrix}\n",
    "$$\n",
    "à l'aide de la matrice suivante :\n",
    "$$\n",
    "A = \\begin{pmatrix} 0 & 1 \\\\ 1 & 1 \\end{pmatrix}\n",
    "$$\n",
    "En effet, en appliquant cette matrice à \n",
    "$$\n",
    "\\begin{pmatrix} f_n \\\\ f_{n+1} \\end{pmatrix}\n",
    "$$\n",
    "nous obtenons :\n",
    "$$\n",
    "A \\cdot \\begin{pmatrix} f_n \\\\ f_{n+1} \\end{pmatrix} = \\begin{pmatrix} 0 & 1 \\\\ 1 & 1 \\end{pmatrix} \\cdot \\begin{pmatrix} f_n \\\\ f_{n+1} \\end{pmatrix} = \\begin{pmatrix} f_{n+1} \\\\ f_n + f_{n+1} \\end{pmatrix} = \\begin{pmatrix} f_{n+1} \\\\ f_{n+2} \\end{pmatrix}\n",
    "$$\n",
    "\n",
    "Cela prouve qu'il existe bien une matrice $A$ reliant \n",
    "$$\n",
    "\\begin{pmatrix} f_n \\\\ f_{n+1} \\end{pmatrix}\n",
    "$$\n",
    "à \n",
    "$$\n",
    "\\begin{pmatrix} f_{n+1} \\\\ f_{n+2} \\end{pmatrix}\n",
    "$$\n",
    "pour tout $n \\in \\mathbb{N}$.\n",
    "\n",
    "$(2)$ Exprimez alors \n",
    "$$\n",
    "\\begin{pmatrix} f_n \\\\ f_{n+1} \\end{pmatrix}\n",
    "$$\n",
    "selon $A$ et \n",
    "$$\n",
    "\\begin{pmatrix} f_0 \\\\ f_1 \\end{pmatrix}.\n",
    "$$\n",
    "\n",
    "**Solution :** \n",
    "\n",
    "Nous savons que la matrice $A$ permet de relier deux vecteurs consécutifs de la suite de Fibonacci. Par conséquent, pour exprimer \n",
    "$$\n",
    "\\begin{pmatrix} f_n \\\\ f_{n+1} \\end{pmatrix}\n",
    "$$\n",
    "en fonction de \n",
    "$$\n",
    "\\begin{pmatrix} f_0 \\\\ f_1 \\end{pmatrix}\n",
    "$$\n",
    "il suffit de multiplier la matrice $A$ de manière itérative $n$ fois :\n",
    "$$\n",
    "\\begin{pmatrix} f_n \\\\ f_{n+1} \\end{pmatrix} = A^n \\cdot \\begin{pmatrix} f_0 \\\\ f_1 \\end{pmatrix}\n",
    "$$\n",
    "où\n",
    "$$\n",
    "A = \\begin{pmatrix} 0 & 1 \\\\ 1 & 1 \\end{pmatrix}\n",
    "$$\n",
    "et\n",
    "$$\n",
    "\\begin{pmatrix} f_0 \\\\ f_1 \\end{pmatrix} = \\begin{pmatrix} 0 \\\\ 1 \\end{pmatrix}\n",
    "$$\n",
    "\n",
    "Ainsi, pour un entier $n$, nous pouvons obtenir le vecteur \n",
    "$$\n",
    "\\begin{pmatrix} f_n \\\\ f_{n+1} \\end{pmatrix}\n",
    "$$\n",
    "en appliquant $A^n$ au vecteur initial \n",
    "$$\n",
    "\\begin{pmatrix} f_0 \\\\ f_1 \\end{pmatrix}\n",
    "$$\n"
   ]
  },
  {
   "cell_type": "markdown",
   "source": [
    "### Exercice 3.2 - (<font color='#db60cf'>Bonus</font>) Une formule analytique pour $f_n$\n",
    "Que peut-on dire de $A$ ? Déterminez ses valeurs propres et ses sous-espaces propres associés."
   ],
   "metadata": {
    "id": "H4AmpMoXgwvm"
   },
   "id": "H4AmpMoXgwvm"
  },
  {
   "cell_type": "markdown",
   "source": [
    "<< A REMPLIR PAR L'ETUDIANT >>"
   ],
   "metadata": {
    "id": "v8KEN04Ki9Vu"
   },
   "id": "v8KEN04Ki9Vu"
  },
  {
   "cell_type": "markdown",
   "source": [
    "En utilisant $(2)$, en déduire une forme analytique de $f_n$."
   ],
   "metadata": {
    "id": "PZjl6-cZi_kO"
   },
   "id": "PZjl6-cZi_kO"
  },
  {
   "cell_type": "markdown",
   "source": [
    "<< A REMPLIR PAR L'ETUDIANT >>"
   ],
   "metadata": {
    "id": "2pv0qd4JjBfy"
   },
   "id": "2pv0qd4JjBfy"
  },
  {
   "cell_type": "markdown",
   "id": "07be6c36-643f-4951-b68c-8b792565eda7",
   "metadata": {
    "id": "07be6c36-643f-4951-b68c-8b792565eda7"
   },
   "source": [
    "## Exercice 4\n",
    "Implémentez et testez les 3 versions de l'algorithme calculant la sous-suite de somme maximale, c'est-à-dire:\n",
    "* 3 boucles imbriquées\n",
    "* 2 boucles imbriquées\n",
    "* une seule boucle (Kadane)"
   ]
  },
  {
   "cell_type": "code",
   "execution_count": 25,
   "id": "d882174a-af35-4cc5-9b63-80afab0c5500",
   "metadata": {
    "id": "d882174a-af35-4cc5-9b63-80afab0c5500",
    "ExecuteTime": {
     "end_time": "2024-09-25T16:23:53.980889Z",
     "start_time": "2024-09-25T16:23:53.974736Z"
    }
   },
   "outputs": [
    {
     "data": {
      "text/plain": "7"
     },
     "execution_count": 25,
     "metadata": {},
     "output_type": "execute_result"
    }
   ],
   "source": [
    "def maxSub3(m):\n",
    "    maxSum = 0 # initialiser la somme maximale à 0\n",
    "    n = len(m) # obtenir la taille de la liste\n",
    "    for i in range(n): # parcourir la liste\n",
    "        for j in range(i, n): # parcourir la liste à partir de l'indice i\n",
    "            currentSum = 0 # initialiser la somme courante à 0\n",
    "            for k in range(i, j+1): # parcourir la liste de i à j\n",
    "                currentSum += m[k] # ajouter l'élément k à la somme courante\n",
    "            maxSum = max(maxSum, currentSum) # mettre à jour la somme maximale\n",
    "    return maxSum\n",
    "\n",
    "def maxSub2(m):\n",
    "    maxSum = 0\n",
    "    n = len(m)\n",
    "    for i in range(n): \n",
    "        currentSum = 0\n",
    "        for j in range(i, n):\n",
    "            currentSum += m[j]\n",
    "            maxSum = max(maxSum, currentSum)\n",
    "    return maxSum\n",
    "\n",
    "def maxSub1(m):\n",
    "    maxSum = 0\n",
    "    currentSum = 0\n",
    "\n",
    "    for x in m:  # Boucle unique pour parcourir les éléments\n",
    "        currentSum = max(x, currentSum + x)\n",
    "        maxSum = max(maxSum, currentSum)\n",
    "    return maxSum"
   ]
  },
  {
   "cell_type": "code",
   "execution_count": 26,
   "id": "a9b9bc16-b296-408b-a5f9-1a486cd77ebd",
   "metadata": {
    "id": "a9b9bc16-b296-408b-a5f9-1a486cd77ebd",
    "ExecuteTime": {
     "end_time": "2024-09-25T16:23:55.426278Z",
     "start_time": "2024-09-25T16:23:55.422277Z"
    }
   },
   "outputs": [],
   "source": [
    "assert maxSub3([4,3,-10,2]) == 7\n",
    "assert maxSub3([4,3,-10,2,8]) == 10\n",
    "assert not maxSub3([4,3,-10,2,8]) == -10\n",
    "\n",
    "assert maxSub2([4,3,-10,2]) == 7\n",
    "assert maxSub2([4,3,-10,2,8]) == 10\n",
    "assert not maxSub2([4,3,-10,2,8]) == -10\n",
    "\n",
    "assert maxSub1([4,3,-10,2]) == 7\n",
    "assert maxSub1([4,3,-10,2,8]) == 10\n",
    "assert not maxSub1([4,3,-10,2,8]) == -10"
   ]
  },
  {
   "cell_type": "markdown",
   "id": "e43f328f-cec8-4d5d-bb25-0abcd8a184fb",
   "metadata": {
    "id": "e43f328f-cec8-4d5d-bb25-0abcd8a184fb"
   },
   "source": [
    "### Explications"
   ]
  },
  {
   "cell_type": "markdown",
   "id": "9ea3d8b5-a91c-4aa7-ad87-35fe32043114",
   "metadata": {
    "id": "9ea3d8b5-a91c-4aa7-ad87-35fe32043114"
   },
   "source": [
    "1. **`maxSub3(m)`** :\n",
    "   - Utilise trois boucles imbriquées. La somme des sous-suites est calculée avec une boucle interne, en ajoutant chaque élément de la sous-suite à `currentSum`. Ensuite, `maxSum` est mis à jour si `currentSum` est plus grand.\n",
    "\n",
    "2. **`maxSub2(m)`** :\n",
    "   - Utilise deux boucles imbriquées. La première boucle fixe le début de la sous-suite. La seconde boucle calcule la somme de la sous-suite en ajoutant successivement les éléments. `maxSum` est mis à jour pour chaque sous-suite.\n",
    "\n",
    "3. **`maxSub1(m)`** :\n",
    "   - Utilise l'algorithme de Kadane avec une seule boucle. La variable `currentSum` maintient la somme de la sous-suite courante, et `maxSum` est mis à jour si `currentSum` est plus grand.\n",
    "\n",
    "Prenons l'exemple `[-1, 2, 5, 1]`.\n",
    "\n",
    "L'objectif est de trouver la sous-séquence (une série d'éléments consécutifs dans la liste) qui a la somme maximale. Voici comment ça marche avec trois boucles imbriquées :\n",
    "\n",
    "### Tableau : `[-1, 2, 5, 1]`\n",
    "\n",
    "1. **Boucle externe (i)** : Sélectionne le point de départ de la sous-séquence.\n",
    "2. **Boucle intermédiaire (j)** : Sélectionne le point de fin de la sous-séquence.\n",
    "3. **Boucle interne (k)** : Calcule la somme de tous les éléments entre les indices \\( i \\) et \\( j \\).\n",
    "\n",
    "### Étape par étape :\n",
    "\n",
    "1. **i = 0 (on commence au premier élément -1)** :\n",
    "    - j = 0 → sous-séquence : `[-1]` → somme = -1\n",
    "    - j = 1 → sous-séquence : `[-1, 2]` → somme = 1\n",
    "    - j = 2 → sous-séquence : `[-1, 2, 5]` → somme = 6\n",
    "    - j = 3 → sous-séquence : `[-1, 2, 5, 1]` → somme = 7 (nouveau max)\n",
    "\n",
    "2. **i = 1 (on commence au deuxième élément 2)** :\n",
    "    - j = 1 → sous-séquence : `[2]` → somme = 2\n",
    "    - j = 2 → sous-séquence : `[2, 5]` → somme = 7 (max reste 7)\n",
    "    - j = 3 → sous-séquence : `[2, 5, 1]` → somme = 8 (nouveau max)\n",
    "\n",
    "3. **i = 2 (on commence au troisième élément 5)** :\n",
    "    - j = 2 → sous-séquence : `[5]` → somme = 5\n",
    "    - j = 3 → sous-séquence : `[5, 1]` → somme = 6\n",
    "\n",
    "4. **i = 3 (on commence au dernier élément 1)** :\n",
    "    - j = 3 → sous-séquence : `[1]` → somme = 1\n",
    "\n",
    "### Conclusion :\n",
    "\n",
    "Le maxSum final est 8, qui correspond à la sous-séquence `[2, 5, 1]`."
   ]
  },
  {
   "cell_type": "code",
   "execution_count": null,
   "id": "8a7df467-85f8-4484-9050-1cc3eb25783e",
   "metadata": {
    "id": "8a7df467-85f8-4484-9050-1cc3eb25783e"
   },
   "outputs": [],
   "source": []
  }
 ],
 "metadata": {
  "kernelspec": {
   "display_name": "Python",
   "language": "python",
   "name": "python3"
  },
  "language_info": {
   "codemirror_mode": {
    "name": "ipython",
    "version": 3
   },
   "file_extension": ".py",
   "mimetype": "text/x-python",
   "name": "python",
   "nbconvert_exporter": "python",
   "pygments_lexer": "ipython3",
   "version": "3.8.10"
  },
  "colab": {
   "provenance": []
  }
 },
 "nbformat": 4,
 "nbformat_minor": 5
}
