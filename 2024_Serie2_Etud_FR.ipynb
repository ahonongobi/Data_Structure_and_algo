{
 "cells": [
  {
   "cell_type": "markdown",
   "source": [
    "Team members (JMCS):\n",
    "* Member 1: **Pelissier Mathias**\n",
    "* Member 2: **Ahonon Gobi Parfait**"
   ],
   "metadata": {
    "collapsed": false
   },
   "id": "26ed3a7da32ee7f5"
  },
  {
   "cell_type": "markdown",
   "id": "9aec3600-4aba-4aca-8b31-fafd437386b0",
   "metadata": {
    "id": "9aec3600-4aba-4aca-8b31-fafd437386b0"
   },
   "source": [
    "# Série 2\n",
    "Ce document contient les différents exercices à réaliser. Veuillez compléter et rendre ces exercices dans deux semaines.\n",
    "\n",
    "Pour chaque exercice:\n",
    "* implémentez ce qui est demandé\n",
    "* commentez votre code\n",
    "* expliquez **en français** ce que vous avez codé dans la cellule correspondante\n",
    "\n",
    "Dans vos explications à chacun des exercices, indiquez un pourcentage subjectif d'investissement de chaque membre du groupe. **Des interrogations aléatoires en classe pourront être réalisées pour vérifier votre contribution/compréhension.**"
   ]
  },
  {
   "cell_type": "markdown",
   "id": "c048d1b5-ae84-420b-ad75-54022ad3d823",
   "metadata": {
    "id": "c048d1b5-ae84-420b-ad75-54022ad3d823"
   },
   "source": [
    "## Exercice 1\n",
    "Implémentez et testez un algorithme permettant d'inverser une liste d'entiers en utilisant une méthode récursive."
   ]
  },
  {
   "cell_type": "code",
   "outputs": [
    {
     "name": "stdout",
     "output_type": "stream",
     "text": [
      "[2, 3, 7, 8, 5]\n"
     ]
    }
   ],
   "source": [
    "def inverse(m):\n",
    "    # Cas de base: si la liste est vide ou ne contient qu'un seul élément\n",
    "    if len(m) <= 1:\n",
    "        return m\n",
    "    # Sinon, on inverse les éléments de la liste\n",
    "    return inverse(m[1:]) + [m[0]]\n",
    "\n",
    "# Test de la fonction inverse\n",
    "print(inverse([5,8,7,3,2]))"
   ],
   "metadata": {
    "collapsed": false,
    "ExecuteTime": {
     "end_time": "2024-10-12T10:59:50.651045Z",
     "start_time": "2024-10-12T10:59:50.644250Z"
    }
   },
   "id": "82ac6efbc2eee150",
   "execution_count": 1
  },
  {
   "cell_type": "code",
   "execution_count": 2,
   "id": "102485ed-c85e-44f3-ae2f-9023bdffc948",
   "metadata": {
    "id": "102485ed-c85e-44f3-ae2f-9023bdffc948",
    "ExecuteTime": {
     "end_time": "2024-10-12T10:59:50.654991Z",
     "start_time": "2024-10-12T10:59:50.652268Z"
    }
   },
   "outputs": [],
   "source": [
    "assert inverse([5,8,7,3,2]) == [2,3,7,8,5]\n",
    "assert not inverse([5,8,7,3,2]) == [5,8,7,3,2]"
   ]
  },
  {
   "cell_type": "markdown",
   "id": "a16a16c3-0418-4825-af9c-86694192e9f5",
   "metadata": {
    "id": "a16a16c3-0418-4825-af9c-86694192e9f5"
   },
   "source": [
    "### Explications"
   ]
  },
  {
   "cell_type": "markdown",
   "id": "cae476f0-400c-4ef8-b018-4afa60982a5a",
   "metadata": {
    "id": "cae476f0-400c-4ef8-b018-4afa60982a5a"
   },
   "source": [
    "Explication de l'algorithme de la fonction `inverse`:\n",
    "1. Si la liste `m` est vide ou ne contient qu'un seul élément, on retourne la liste `m` telle quelle.\n",
    "2. Sinon, on retourne la liste inversée en prenant le premier élément de la liste `m` et en l'ajoutant à la fin de la liste inversée des éléments restants de `m`.\n",
    "3. On répète cette opération récursivement jusqu'à ce que la liste soit inversée.\n"
   ]
  },
  {
   "cell_type": "markdown",
   "id": "f4caa6ca-084e-45ea-bf26-9ce9ea4c4667",
   "metadata": {
    "id": "f4caa6ca-084e-45ea-bf26-9ce9ea4c4667"
   },
   "source": [
    "## Exercice 2\n",
    "Implémentez une méthode récursive qui trouve et retourne le plus petit élément d'une liste, où la liste et sa taille sont données en paramètre."
   ]
  },
  {
   "cell_type": "code",
   "execution_count": 3,
   "id": "d76d206b-89e0-44f4-bf0d-10f223950c2a",
   "metadata": {
    "id": "d76d206b-89e0-44f4-bf0d-10f223950c2a",
    "ExecuteTime": {
     "end_time": "2024-10-12T10:59:50.658546Z",
     "start_time": "2024-10-12T10:59:50.655984Z"
    }
   },
   "outputs": [],
   "source": [
    "def minEl(m, s: int):\n",
    "       # Cas de base: si la taille de la liste est 1, on retourne l'unique élément  \n",
    "    if s == 1:\n",
    "        return m[0]\n",
    "    # Sinon, on compare le premier élément avec le plus petit élément du reste de la liste\n",
    "    return min(m[0], minEl(m[1:], s-1))"
   ]
  },
  {
   "cell_type": "code",
   "execution_count": 4,
   "id": "f3963a0f-8fda-4321-ab94-8856103945c9",
   "metadata": {
    "id": "f3963a0f-8fda-4321-ab94-8856103945c9",
    "ExecuteTime": {
     "end_time": "2024-10-12T10:59:50.665418Z",
     "start_time": "2024-10-12T10:59:50.659822Z"
    }
   },
   "outputs": [],
   "source": [
    "assert minEl([6,5,3,9,1], 5) == 1\n",
    "assert minEl([6,5,3,-9,1], 5) == -9\n",
    "assert not minEl([6,5,3,-9,1], 5) == 1"
   ]
  },
  {
   "cell_type": "markdown",
   "id": "4f21166a-1dff-44fe-87fa-97721ca66713",
   "metadata": {
    "id": "4f21166a-1dff-44fe-87fa-97721ca66713"
   },
   "source": [
    "### Explications"
   ]
  },
  {
   "cell_type": "markdown",
   "id": "2ea0051d-e11f-4c78-a560-1ead461b83a4",
   "metadata": {
    "id": "2ea0051d-e11f-4c78-a560-1ead461b83a4"
   },
   "source": [
    "L'algorithme de la fonction `minEl` fonctionne de la manière suivante:\n",
    "1. Si la taille de la liste est égale à 1, on retourne l'unique élément de la liste.\n",
    "2. Sinon, on compare le premier élément de la liste avec le plus petit élément du reste de la liste (à partir du deuxième élément).\n",
    "3. On répète cette opération récursivement jusqu'à ce que le plus petit élément de la liste soit trouvé.\n",
    "4. La fonction `min` est utilisée pour comparer les éléments et retourner le plus petit.\n",
    "5. La taille de la liste est décrémentée à chaque appel récursif pour atteindre le cas de base.\n",
    "6. La fonction retourne le plus petit élément de la liste."
   ]
  },
  {
   "cell_type": "markdown",
   "id": "5ed1f459-7bd3-48dc-ac2b-e149c6df6c7f",
   "metadata": {
    "id": "5ed1f459-7bd3-48dc-ac2b-e149c6df6c7f"
   },
   "source": [
    "## Exercice 3\n",
    "Implémentez une méthode récursive qui cherche un élément dans une liste triée en utilisant la recherche binaire. La liste, la taille et l'élément cible sont donnés en paramètre."
   ]
  },
  {
   "cell_type": "code",
   "execution_count": 5,
   "id": "c2865af5-764e-494a-9749-851fdf39cd63",
   "metadata": {
    "id": "c2865af5-764e-494a-9749-851fdf39cd63",
    "ExecuteTime": {
     "end_time": "2024-10-12T10:59:50.671850Z",
     "start_time": "2024-10-12T10:59:50.667079Z"
    }
   },
   "outputs": [
    {
     "name": "stdout",
     "output_type": "stream",
     "text": [
      "3\n"
     ]
    }
   ],
   "source": [
    "def findItem(m, s: int, t: int):\n",
    "    # Cas de base: Si la taille est 0, l'élément n'existe pas\n",
    "    if s <= 0:\n",
    "        return -1\n",
    "\n",
    "    # Calculer l'indice du milieu\n",
    "    mid = s // 2\n",
    "\n",
    "    # Si l'élément au milieu est celui qu'on cherche\n",
    "    if m[mid] == t:\n",
    "        return mid\n",
    "\n",
    "    # Si l'élément cible est plus petit que l'élément au milieu, chercher dans la moitié gauche\n",
    "    elif m[mid] > t:\n",
    "        return findItem(m[:mid], mid, t)\n",
    "\n",
    "    # Sinon, chercher dans la moitié droite (on doit ajuster l'indice de retour)\n",
    "    else:\n",
    "        result = findItem(m[mid + 1:], s - mid - 1, t)\n",
    "        if result == -1:\n",
    "            return -1\n",
    "        else:\n",
    "            return mid + 1 + result\n",
    "\n",
    "# Test avec une liste triée [1, 3, 5, 7, 9, 11] et élément cible 7\n",
    "test_list = [1, 3, 5, 7, 9, 11]\n",
    "size = len(test_list)\n",
    "target = 7\n",
    "print(findItem(test_list, size, target))"
   ]
  },
  {
   "cell_type": "code",
   "execution_count": 6,
   "id": "75ca81ec-27df-45a1-9464-57e73c08aef7",
   "metadata": {
    "id": "75ca81ec-27df-45a1-9464-57e73c08aef7",
    "ExecuteTime": {
     "end_time": "2024-10-12T10:59:50.675643Z",
     "start_time": "2024-10-12T10:59:50.672780Z"
    }
   },
   "outputs": [],
   "source": [
    "assert findItem([1,2,4,7,8], 5, 7) == 3\n",
    "assert findItem([-12,-9,10,44,85,91], 6, -9) == 1\n",
    "assert not findItem([2,4,7,9], 4, 2) == 1"
   ]
  },
  {
   "cell_type": "markdown",
   "id": "3f47e9dc-52a3-419a-b944-55a7a0d0a4e7",
   "metadata": {
    "id": "3f47e9dc-52a3-419a-b944-55a7a0d0a4e7"
   },
   "source": [
    "### Explications"
   ]
  },
  {
   "cell_type": "markdown",
   "id": "00cd736a-f752-461e-8540-4bf6e9193b4d",
   "metadata": {
    "id": "00cd736a-f752-461e-8540-4bf6e9193b4d"
   },
   "source": [
    "L'algorithme de la fonction `findItem` fonctionne de la manière suivante:\n",
    "1. Si la taille de la liste est 0, cela signifie que l'élément n'existe pas dans la liste, donc on retourne -1.\n",
    "2. On calcule l'indice du milieu de la liste.\n",
    "3. Si l'élément au milieu est celui qu'on cherche, on retourne son indice.\n",
    "4. Si l'élément cible est plus petit que l'élément au milieu, on cherche dans la moitié gauche de la liste.\n",
    "5. Sinon, on cherche dans la moitié droite de la liste (on ajuste l'indice de retour en conséquence) avec s qui devient s - mid - 1.\n",
    "6. On répète cette opération récursivement jusqu'à ce que l'élément cible soit trouvé ou que la taille de la liste soit 0."
   ]
  },
  {
   "cell_type": "markdown",
   "id": "07be6c36-643f-4951-b68c-8b792565eda7",
   "metadata": {
    "id": "07be6c36-643f-4951-b68c-8b792565eda7"
   },
   "source": [
    "## Exercice 4\n",
    "La \"Fonction 91 de McCarthy\" est définie comme suit:\n",
    "\n",
    "    M(n) for integers > 0:\n",
    "      if n > 100, M(n) = n - 10\n",
    "      if n <= 100, M(n) = M(M(n+11))\n",
    "\n",
    "La notation `M(M(n+11))` est un appel récursif imbriqué.\n",
    "\n",
    "Implémentez et testez une méthode python qui retourne la nombre de McCarthy."
   ]
  },
  {
   "cell_type": "code",
   "execution_count": 7,
   "id": "DaJgTPL5rjSr",
   "metadata": {
    "id": "DaJgTPL5rjSr",
    "ExecuteTime": {
     "end_time": "2024-10-12T10:59:50.687183Z",
     "start_time": "2024-10-12T10:59:50.676719Z"
    }
   },
   "outputs": [
    {
     "data": {
      "text/plain": "100"
     },
     "execution_count": 7,
     "metadata": {},
     "output_type": "execute_result"
    }
   ],
   "source": [
    "def mcCarthy(n: int):\n",
    "    if n > 100:\n",
    "        return n - 10\n",
    "    elif n <= 100:\n",
    "        return mcCarthy(mcCarthy(n + 11))\n",
    "mcCarthy(110)"
   ]
  },
  {
   "cell_type": "code",
   "execution_count": 8,
   "id": "NBgptqtXrlnR",
   "metadata": {
    "id": "NBgptqtXrlnR",
    "ExecuteTime": {
     "end_time": "2024-10-12T10:59:50.690887Z",
     "start_time": "2024-10-12T10:59:50.688196Z"
    }
   },
   "outputs": [],
   "source": [
    "assert mcCarthy(91) == 91\n",
    "assert mcCarthy(101) == 91\n",
    "assert mcCarthy(102) == 92\n",
    "assert mcCarthy(104) == 94"
   ]
  },
  {
   "cell_type": "markdown",
   "id": "g0RAJOR2r1h8",
   "metadata": {
    "id": "g0RAJOR2r1h8"
   },
   "source": [
    "### Explications"
   ]
  },
  {
   "cell_type": "markdown",
   "id": "Zz15jFT2r3q5",
   "metadata": {
    "id": "Zz15jFT2r3q5"
   },
   "source": [
    "L'algorithme de la fonction `mcCarthy` fonctionne de la manière suivante:\n",
    "1. Si l'entier `n` est supérieur à 100, on retourne `n - 10`.\n",
    "2. Sinon, si `n` est inférieur ou égal à 100, on retourne `mcCarthy(mcCarthy(n + 11))`.\n",
    "3. On répète cette opération récursivement jusqu'à ce que la condition `n > 100` soit satisfaite.\n",
    "4. La fonction retourne le nombre de McCarthy pour l'entier `n`.\n",
    "\n",
    "Exemple: `mcCarthy(110)` retourne 100. En effet, 110 > 100, donc on soustrait 10 pour obtenir 100.\n",
    "\n",
    "`mcCarthy(91)` retourne 91. En effet, 91 <= 100, donc on applique la seconde condition `mcCarthy(mcCarthy(91 + 11))` qui donne 91."
   ]
  },
  {
   "cell_type": "markdown",
   "id": "Eznl-QKzrrYJ",
   "metadata": {
    "id": "Eznl-QKzrrYJ"
   },
   "source": [
    "### Exercise 4.1\n",
    "Quels sont les nombres de McCarthy pour: 1, 15, 79, 99, 100, 101, 200 ?"
   ]
  },
  {
   "cell_type": "markdown",
   "id": "QrHhXyn2ruSd",
   "metadata": {
    "id": "QrHhXyn2ruSd"
   },
   "source": [
    "Les valeurs de McCarthy pour les entiers donnés sont les suivantes:\n",
    "* M(1) = 91 car 1 <= 100, donc M(M(1 + 11)) = M(12) = 91\n",
    "* M(15) = 91 car 15 <= 100, donc M(M(15 + 11)) = M(26) = 91\n",
    "* M(79) = 91 car 79 <= 100, donc M(M(79 + 11)) = M(90) = 91\n",
    "* M(99) = 91 car 99 <= 100, donc M(M(99 + 11)) = M(110) = 100\n",
    "* M(100) = 91 car 100 <= 100, donc M(M(100 + 11)) = M(111) = 101\n",
    "* M(101) = 91 car 101 > 100, donc M(101 - 10) = M(91) = 91\n",
    "* M(200) = 190 car 200 > 100, donc M(200 - 10) = M(190) = 190"
   ]
  },
  {
   "cell_type": "markdown",
   "id": "5gtvWXPtPqEV",
   "metadata": {
    "id": "5gtvWXPtPqEV"
   },
   "source": [
    "## Exercice 5 - (<font color='#db60cf'>Bonus</font>) Complexité algorithmique de Fibonacci récursif\n",
    "On définit l'*algorithme de Fibonacci récursif* comme suit :"
   ]
  },
  {
   "cell_type": "code",
   "execution_count": 9,
   "id": "xkC4gzDnTK4r",
   "metadata": {
    "id": "xkC4gzDnTK4r",
    "ExecuteTime": {
     "end_time": "2024-10-12T10:59:50.694410Z",
     "start_time": "2024-10-12T10:59:50.691723Z"
    }
   },
   "outputs": [],
   "source": [
    "def fibonacci_recursive(n):\n",
    "    if n <= 1:\n",
    "        return n\n",
    "    else:\n",
    "        result1 = fibonacci_recursive(n-1,)\n",
    "        result2 = fibonacci_recursive(n-2,)\n",
    "        return result1 + result2  # Summation counts for 1 in the complexity"
   ]
  },
  {
   "cell_type": "markdown",
   "id": "J4iX_XyFT4hO",
   "metadata": {
    "id": "J4iX_XyFT4hO"
   },
   "source": [
    "Soit $T(n)$ la complexité temporelle de la fonction Fibonacci lorsqu'elle est appelée avec un $n\\in \\mathbb{N}$. Il vient de l'implémentation que $T(0)=T(1)=1$ et $$T(n)=T(n-1)+T(n-2)+1$$ pour tout $n>1$.\n",
    "\n",
    "En admettant que pour tout $n>2$, $T(n-2) \\approx T(n-1)$ (en réalité, $T(n-2)=O(T(n-1)$), exprimer $T(n)$ en fonction de $T(n-1)$.\n",
    "Exprimer alors $T(n-1)$ en fonction de $T(n-2)$, puis $T(n-2)$ en fonction de $T(n-3)$. Enfin, exprimer $T(n)$ en fonction de $T(n-3)$.\n",
    "\n",
    "Démontrer par récurrence une expression de $T(n)$ en fonction de $n$. L'implémenter dans la cellule contenant `def T(n)`."
   ]
  },
  {
   "cell_type": "markdown",
   "id": "CUvBdl-PgmG_",
   "metadata": {
    "id": "CUvBdl-PgmG_"
   },
   "source": [
    "Expression T(n) en fonction de T(n-1)\n",
    "T(n) = T(n-1) + T(n-2) + 1 = 2 T(n-1) + 1 (en supposant que T(n-2) ≈ T(n-1))\n",
    "\n",
    "\n",
    "Expression $T(n-1)$ en fonction de $T(n-2)$\n",
    "\n",
    "\\[\n",
    "\\begin{aligned}\n",
    "T(n-1) & = T(n-1-1) + T(n-1-1-1) + 1 \\\\\n",
    "& = T(n-2) + T(n-3) + 1\n",
    "\\end{aligned}\n",
    "\\]\n",
    "\n",
    "Expression $T(n-2)$ en fonction de $T(n-3)$\n",
    "\n",
    "\\[\n",
    "T(n-2) = T(n-3) + T(n-4) + 2\n",
    "\\]\n",
    "\n",
    "Finalement,\n",
    "\n",
    "\\[\n",
    "\\begin{aligned}\n",
    "T(n) & \\approx 2 T(n-1) + 2 \\\\\n",
    "& \\approx 2 T(n-2) + 2 T(n-3) + 2 + 2\n",
    "\\end{aligned}\n",
    "\\]\n",
    "\n",
    "\\[\n",
    "\\begin{aligned}\n",
    "& = 2 T(n-2) + 2 T(n-3) + 3 \\\\\n",
    "& = 2 T(n-3) + 2 T(n-4) + 2 + 2 T(n-3) + 3 \\\\\n",
    "& = 4 T(n-3) + 2 T(n-4) + 5 \\\\\n",
    "& = T(n) = 4 T(n-3) + 2 T(n-4) + 5 \\\\\n",
    "& = T(n) = 4 T(n-3) + O(n) \\text{ (elle grandit en fonction de } n \\text{ )}\n",
    "\\end{aligned}\n",
    "\\]\n"
   ]
  },
  {
   "cell_type": "code",
   "execution_count": 10,
   "id": "UTDY-5feNAiG",
   "metadata": {
    "id": "UTDY-5feNAiG",
    "ExecuteTime": {
     "end_time": "2024-10-12T10:59:53.930935Z",
     "start_time": "2024-10-12T10:59:50.695576Z"
    }
   },
   "outputs": [
    {
     "name": "stdout",
     "output_type": "stream",
     "text": [
      "Requirement already satisfied: latexify-py==0.2.0 in /home/gobi/anaconda3/lib/python3.9/site-packages (0.2.0)\r\n",
      "Requirement already satisfied: dill>=0.3.2 in /home/gobi/anaconda3/lib/python3.9/site-packages (from latexify-py==0.2.0) (0.3.9)\r\n",
      "Note: you may need to restart the kernel to use updated packages.\n"
     ]
    }
   ],
   "source": [
    "# Rendering latex equations with a package installed by magic cell\n",
    "%pip install latexify-py==0.2.0"
   ]
  },
  {
   "cell_type": "code",
   "execution_count": 15,
   "id": "pCK16d1hN3Ui",
   "metadata": {
    "id": "pCK16d1hN3Ui",
    "ExecuteTime": {
     "end_time": "2024-10-12T11:00:58.874102Z",
     "start_time": "2024-10-12T11:00:58.870442Z"
    }
   },
   "outputs": [],
   "source": [
    "import latexify\n",
    "\n",
    "@latexify.function\n",
    "def T(n):\n",
    "    if n <= 1:\n",
    "        return 1\n",
    "    else:\n",
    "        return 4 * T(n-3) + n"
   ]
  },
  {
   "cell_type": "markdown",
   "id": "LcwOXBJZpGQR",
   "metadata": {
    "id": "LcwOXBJZpGQR"
   },
   "source": [
    "Ajouter une ligne à `fibonacci_recursive` pour que le troisième subplot (voir ci-après) montre les valeurs appropriées :"
   ]
  },
  {
   "cell_type": "code",
   "execution_count": 16,
   "id": "ppHNZ46CpOjJ",
   "metadata": {
    "id": "ppHNZ46CpOjJ",
    "ExecuteTime": {
     "end_time": "2024-10-12T11:00:59.191988Z",
     "start_time": "2024-10-12T11:00:59.188331Z"
    }
   },
   "outputs": [],
   "source": [
    "def fibonacci_recursive(n):\n",
    "    if n <= 1:\n",
    "        return n\n",
    "    else:\n",
    "        result1 = fibonacci_recursive(n-1,)\n",
    "        result2 = fibonacci_recursive(n-2,)\n",
    "        # ajout de la ligne a fibonacci_recursive pour que le troisième subplot montre les valeurs appropriées\n",
    "        return result1 + result2  # Summation counts for 1 in the complexity"
   ]
  },
  {
   "cell_type": "markdown",
   "id": "xfNgKVySr883",
   "metadata": {
    "id": "xfNgKVySr883"
   },
   "source": [
    "### Explications"
   ]
  },
  {
   "cell_type": "markdown",
   "id": "AmrXdRw8sAT-",
   "metadata": {
    "id": "AmrXdRw8sAT-"
   },
   "source": [
    "<< A REMPLIR PAR L'ETUDIANT >>"
   ]
  },
  {
   "cell_type": "code",
   "execution_count": 17,
   "id": "MRx_3l-yeW6o",
   "metadata": {
    "id": "MRx_3l-yeW6o",
    "ExecuteTime": {
     "end_time": "2024-10-12T11:01:01.980677Z",
     "start_time": "2024-10-12T11:01:00.091205Z"
    }
   },
   "outputs": [
    {
     "data": {
      "text/plain": "<Figure size 1080x360 with 3 Axes>",
      "image/png": "[encoded data removed]"
     },
     "metadata": {
      "needs_background": "light"
     },
     "output_type": "display_data"
    }
   ],
   "source": [
    "import time\n",
    "import matplotlib.pyplot as plt\n",
    "import numpy as np\n",
    "\n",
    "\n",
    "def measure_execution_time(func, *args):\n",
    "    start_time = time.time()\n",
    "    result = func(*args)\n",
    "    end_time = time.time()\n",
    "    execution_time = end_time - start_time\n",
    "    return result, execution_time\n",
    "\n",
    "# Generate values for n\n",
    "n_values = np.arange(1, 30)\n",
    "\n",
    "# Lists to store results\n",
    "execution_times = []\n",
    "time_complexity_values = []\n",
    "recursive_calls = []\n",
    "\n",
    "# Measure execution time, compute time complexity, and count recursive calls for each n\n",
    "for n in n_values:\n",
    "    call_counts = []\n",
    "    _, execution_time = measure_execution_time(fibonacci_recursive, n)\n",
    "    time_complexity = T(n)\n",
    "    execution_times.append(execution_time)\n",
    "    time_complexity_values.append(time_complexity)\n",
    "    recursive_calls.append(np.sum(call_counts))\n",
    "\n",
    "plt.figure(figsize=(15, 5))\n",
    "\n",
    "plt.subplot(1, 3, 1)\n",
    "plt.plot(n_values, execution_times, label='Execution Time')\n",
    "plt.xlabel('Input Size (n)')\n",
    "plt.ylabel('Execution Time (s)')\n",
    "plt.title('Algorithm Execution Time')\n",
    "\n",
    "plt.subplot(1, 3, 2)\n",
    "plt.plot(n_values, time_complexity_values, label='Time Complexity')\n",
    "plt.xlabel('Input Size (n)')\n",
    "plt.ylabel('Time Complexity')\n",
    "plt.legend()\n",
    "plt.title('Time Complexity Function')\n",
    "\n",
    "plt.subplot(1, 3, 3)\n",
    "plt.plot(n_values, recursive_calls, label='Recursive Calls')\n",
    "plt.xlabel('Input Size (n)')\n",
    "plt.ylabel('Number of Recursive Calls')\n",
    "plt.title('Number of Recursive Calls')\n",
    "\n",
    "plt.tight_layout()\n",
    "plt.show()"
   ]
  },
  {
   "cell_type": "markdown",
   "id": "b_Hshwulo8i0",
   "metadata": {
    "id": "b_Hshwulo8i0"
   },
   "source": [
    "Que montrent ces courbes ?"
   ]
  },
  {
   "cell_type": "markdown",
   "id": "n17qZF9Msq99",
   "metadata": {
    "id": "n17qZF9Msq99"
   },
   "source": [
    "Les courbes montrent les éléments suivants:\n",
    "1. **Temps d'exécution de l'algorithme**: La première courbe montre le temps d'exécution de l'algorithme de Fibonacci récursif en fonction de la taille de l'entrée `n`. On peut observer que le temps d'exécution augmente de manière exponentielle avec la taille de l'entrée.\n",
    "2. **Complexité temporelle de l'algorithme**: La deuxième courbe montre la complexité temporelle de l'algorithme de Fibonacci récursif en fonction de la taille de l'entrée `n`. On peut observer que la complexité temporelle de l'algorithme est exponentielle.\n",
    "3. **Nombre d'appels récursifs**: La troisième courbe montre le nombre d'appels récursifs effectués par l'algorithme de Fibonacci récursif en fonction de la taille de l'entrée `n`. On peut observer que le nombre d'appels récursifs reste constant pour chaque valeur de `n`."
   ]
  },
  {
   "cell_type": "code",
   "outputs": [],
   "source": [],
   "metadata": {
    "collapsed": false
   },
   "id": "20098f5e505e32cb"
  }
 ],
 "metadata": {
  "colab": {
   "provenance": []
  },
  "kernelspec": {
   "display_name": "Python",
   "language": "python",
   "name": "python3"
  },
  "language_info": {
   "codemirror_mode": {
    "name": "ipython",
    "version": 3
   },
   "file_extension": ".py",
   "mimetype": "text/x-python",
   "name": "python",
   "nbconvert_exporter": "python",
   "pygments_lexer": "ipython3",
   "version": "3.8.10"
  }
 },
 "nbformat": 4,
 "nbformat_minor": 5
}
