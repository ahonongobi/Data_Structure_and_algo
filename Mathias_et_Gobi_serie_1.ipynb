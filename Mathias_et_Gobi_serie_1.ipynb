{
 "cells": [
  {
   "cell_type": "markdown",
   "source": [
    "Team members (JMCS):\n",
    "* Member 1: **Pelissier Mathias**\n",
    "* Member 2: **Ahonon Gobi Parfait**"
   ],
   "metadata": {
    "collapsed": false
   },
   "id": "695c92ff928a292"
  },
  {
   "cell_type": "markdown",
   "id": "9aec3600-4aba-4aca-8b31-fafd437386b0",
   "metadata": {
    "id": "9aec3600-4aba-4aca-8b31-fafd437386b0"
   },
   "source": [
    "# Série 1\n",
    "Ce document contient les différents exercices à réaliser. Veuillez compléter et rendre ces exercices pour la semaine prochaine.\n",
    "\n",
    "Pour chaque exercice:\n",
    "* implémentez ce qui est demandé\n",
    "* commentez votre code\n",
    "* expliquez **en français** ce que vous avez codé dans la cellule correspondante\n",
    "\n",
    "Dans vos explications à chacun des exercices, indiquez un pourcentage subjectif d'investissement de chaque membre du groupe. **Des interrogations aléatoires en classe pourront être réalisées pour vérifier votre contribution/compréhension.**"
   ]
  },
  {
   "cell_type": "markdown",
   "id": "c048d1b5-ae84-420b-ad75-54022ad3d823",
   "metadata": {
    "id": "c048d1b5-ae84-420b-ad75-54022ad3d823"
   },
   "source": [
    "## Exercice 1\n",
    "Le PGCD (plus grand commun diviseur) est le plus grand nombre entier qui divise simultanément deux autres nombres entiers.\n",
    "\n",
    "Implémentez l'algorithme d'Euclide permettant de calculer le PGCD de deux nombres entiers. Vous trouverez plus d'informations concernant l'algorithme d'Euclide en cliquant sur ce [lien](https://en.wikipedia.org/wiki/Greatest_common_divisor#Euclid's_algorithm)."
   ]
  },
  {
   "cell_type": "code",
   "execution_count": null,
   "id": "530b3d63-e9ed-4be6-ba5b-e814dd41e0da",
   "metadata": {
    "id": "530b3d63-e9ed-4be6-ba5b-e814dd41e0da",
    "is_executing": true
   },
   "outputs": [],
   "source": [
    "def gcd(n: int, m: int):\n",
    "    result = 0\n",
    "    # A COMPLETER\n",
    "    while m != 0:\n",
    "        n, m = m, n%m\n",
    "        #          ^-- modulo operator!\n",
    "        result = n\n",
    "    return result"
   ]
  },
  {
   "cell_type": "code",
   "execution_count": 2,
   "id": "102485ed-c85e-44f3-ae2f-9023bdffc948",
   "metadata": {
    "id": "102485ed-c85e-44f3-ae2f-9023bdffc948",
    "ExecuteTime": {
     "end_time": "2024-10-13T10:47:44.979791Z",
     "start_time": "2024-10-13T10:47:44.975691Z"
    }
   },
   "outputs": [],
   "source": [
    "assert gcd(9,6) == 3\n",
    "assert gcd(24,32) == 8\n",
    "assert gcd(18,18) == 18\n",
    "assert not gcd(10,15) == 10\n",
    "assert not gcd(12,9) == 4\n",
    "assert not gcd(14,14) == 34"
   ]
  },
  {
   "cell_type": "markdown",
   "id": "a16a16c3-0418-4825-af9c-86694192e9f5",
   "metadata": {
    "id": "a16a16c3-0418-4825-af9c-86694192e9f5"
   },
   "source": [
    "### Explications (100% Gobi)"
   ]
  },
  {
   "cell_type": "markdown",
   "id": "cae476f0-400c-4ef8-b018-4afa60982a5a",
   "metadata": {
    "id": "cae476f0-400c-4ef8-b018-4afa60982a5a"
   },
   "source": [
    "L'algorithme d'Euclide est un algorithme permettant de calculer le PGCD de deux nombres entiers. Il repose sur le fait que le PGCD de deux nombres est égal au PGCD du plus petit des deux nombres et du reste de la division du plus grand par le plus petit. On répète cette opération jusqu'à ce que le reste soit égal à 0. Le PGCD est alors le dernier reste non nul.\n",
    "\n",
    "Donc, dans le code nous avons une boucle while qui s'arrête lorsque m est égal à 0. Dans cette boucle, on échange les valeurs de n et m et on affecte à n le reste de la division de n par m. Une fois la boucle terminée, on affecte à result la valeur de n qui est le PGCD des deux nombres.\n",
    "\n",
    "Dans l'exemple `gcd(9,6)` :\n",
    "1. n = 9, m = 6 \n",
    "2. n = 6, m = 3\n",
    "3. n = 3, m = 0\n",
    "4. return 3."
   ]
  },
  {
   "cell_type": "markdown",
   "id": "f4caa6ca-084e-45ea-bf26-9ce9ea4c4667",
   "metadata": {
    "id": "f4caa6ca-084e-45ea-bf26-9ce9ea4c4667"
   },
   "source": [
    "## Exercice 2\n",
    "Implémentez une manière de calculer $x^n$ en utilisant la méthode de dichotomie."
   ]
  },
  {
   "cell_type": "code",
   "execution_count": 27,
   "id": "d76d206b-89e0-44f4-bf0d-10f223950c2a",
   "metadata": {
    "id": "d76d206b-89e0-44f4-bf0d-10f223950c2a",
    "ExecuteTime": {
     "end_time": "2024-09-26T15:33:08.290156Z",
     "start_time": "2024-09-26T15:33:08.284195Z"
    }
   },
   "outputs": [],
   "source": [
    "def powdi(x: int, n: int):\n",
    "    # A COMPLETER\n",
    "    if n == 0:\n",
    "        return 1\n",
    "    if n == 1:\n",
    "        return x\n",
    "    if n % 2 == 0:\n",
    "        return powdi(x, n/2) * powdi(x, n/2)\n",
    "    if n % 2 != 0:\n",
    "        return x * powdi(x, n//2) * powdi(x, n//2)\n",
    "    return None"
   ]
  },
  {
   "cell_type": "code",
   "execution_count": 28,
   "id": "f3963a0f-8fda-4321-ab94-8856103945c9",
   "metadata": {
    "id": "f3963a0f-8fda-4321-ab94-8856103945c9",
    "ExecuteTime": {
     "end_time": "2024-09-26T15:33:10.192840Z",
     "start_time": "2024-09-26T15:33:10.187384Z"
    }
   },
   "outputs": [],
   "source": [
    "assert powdi(2,3) == 8\n",
    "assert powdi(4,2) == 16\n",
    "assert powdi(2,2) == 4\n",
    "assert powdi(4,0) == 1\n",
    "assert powdi(2,1) == 2\n",
    "assert not powdi(5,2) == 10\n",
    "assert not powdi(3,7) == 10\n",
    "assert not powdi(3,3) == 10"
   ]
  },
  {
   "cell_type": "markdown",
   "id": "4f21166a-1dff-44fe-87fa-97721ca66713",
   "metadata": {
    "id": "4f21166a-1dff-44fe-87fa-97721ca66713"
   },
   "source": [
    "### Explications (Premier paragraphe parlant d'un cas concret fait par Gobi, et le reste par Mathias)"
   ]
  },
  {
   "cell_type": "markdown",
   "id": "2ea0051d-e11f-4c78-a560-1ead461b83a4",
   "metadata": {
    "id": "2ea0051d-e11f-4c78-a560-1ead461b83a4"
   },
   "source": [
    "Pour expliquer ce qui se passe dans ce code, j'aime commencer par un exemple concret. Prenons `powdi(2, 8)`.\n",
    "1. `n=8` est pair, donc on a `2^8 = powdi(2, 4) * powdi(2, 4)`\n",
    "2. `n=4` est pair, donc on a `2^4 = powdi(2, 2) * powdi(2, 2)`.    \n",
    "3. `n=2` est pair, donc on a `2^2 = powdi(2, 1) * powdi(2, 1)`.\n",
    "4. `n=1` est impair, donc on retourne 2 (la base). Et donc `powdi(2,1) = 2`.\n",
    "5. Donc `powdi(2, 2) = 2 * 2 = 4`.\n",
    "6. Donc `powdi(2, 4) = 4 * 4 = 16`.\n",
    "7. Donc `powdi(2, 8) = 16 * 16 = 256`.\n",
    "8. Donc `2^8 = 256`.\n",
    "9. On retourne 256.\n",
    "\n",
    "L'algorithme de dichotomie pour le calcul de la puissance d'un nombre repose sur le fait que si `n` est pair, alors `x^n = x^(n/2) * x^(n/2)`. Si `n` est impair, alors `x^n = x * x^(n//2) * x^(n//2)`. On répète cette opération jusqu'à ce que `n` soit égal à 0 ou 1. Si `n` est égal à 0, on retourne 1. Si `n` est égal à 1, on retourne `x`. Sinon, on applique la formule récursive pour calculer `x^n`."
   ]
  },
  {
   "cell_type": "markdown",
   "id": "5ed1f459-7bd3-48dc-ac2b-e149c6df6c7f",
   "metadata": {
    "id": "5ed1f459-7bd3-48dc-ac2b-e149c6df6c7f"
   },
   "source": [
    "## Exercice 3\n",
    "La suite de Fibonacci est une suite de nombres entiers dans laquelle chaque nombre $f_{n+2}$ correspond à la somme des deux nombres qui le précèdent, $f_{n+1}+f_{n}$.\n",
    "\n",
    "Implémentez l'algorithme de Fibonacci en utilisant la multiplication matricielle."
   ]
  },
  {
   "cell_type": "code",
   "execution_count": 35,
   "id": "c2865af5-764e-494a-9749-851fdf39cd63",
   "metadata": {
    "id": "c2865af5-764e-494a-9749-851fdf39cd63",
    "ExecuteTime": {
     "end_time": "2024-09-26T16:17:34.580938Z",
     "start_time": "2024-09-26T16:17:34.577925Z"
    }
   },
   "outputs": [],
   "source": [
    "import numpy as np\n",
    "\n",
    "def fibo(n: int):\n",
    "    f0f1 = np.array([[0],[1]])\n",
    "    # A COMPLETER\n",
    "    A = np.array([[0,1],\n",
    "                  [1,1]])\n",
    "    Apower_n = np.linalg.matrix_power(A, n) # utiliser powdi est preferable !!!\n",
    "    print(Apower_n)\n",
    "    return (Apower_n @ f0f1)[0] "
   ]
  },
  {
   "cell_type": "code",
   "source": [
    "fibo(9)"
   ],
   "metadata": {
    "colab": {
     "base_uri": "https://localhost:8080/"
    },
    "id": "frkDf9GqJ2KD",
    "outputId": "c04f3216-826c-422a-a481-8c55dff8f247",
    "ExecuteTime": {
     "end_time": "2024-09-26T16:17:34.920502Z",
     "start_time": "2024-09-26T16:17:34.915405Z"
    }
   },
   "id": "frkDf9GqJ2KD",
   "execution_count": 36,
   "outputs": [
    {
     "name": "stdout",
     "output_type": "stream",
     "text": [
      "[[21 34]\n",
      " [34 55]]\n"
     ]
    },
    {
     "data": {
      "text/plain": "array([34])"
     },
     "execution_count": 36,
     "metadata": {},
     "output_type": "execute_result"
    }
   ]
  },
  {
   "cell_type": "code",
   "source": [
    "def powdi(x: int, n: int):\n",
    "    # A COMPLETER\n",
    "    if n == 0:\n",
    "        return np.identity(2)\n",
    "    if n == 1:\n",
    "        return x\n",
    "    if n % 2 == 0:\n",
    "        return powdi(x, n/2) @ powdi(x, n/2)\n",
    "    if n % 2 != 0:\n",
    "        return x @ powdi(x, n//2) @ powdi(x, n//2)\n",
    "    return None"
   ],
   "metadata": {
    "id": "Uy7QHUeHHBMB",
    "ExecuteTime": {
     "end_time": "2024-09-25T12:31:28.538235Z",
     "start_time": "2024-09-25T12:31:28.534752Z"
    }
   },
   "id": "Uy7QHUeHHBMB",
   "execution_count": 13,
   "outputs": []
  },
  {
   "cell_type": "code",
   "source": [
    "powdi(np.array([[0,1],[1,1]]), 8)"
   ],
   "metadata": {
    "colab": {
     "base_uri": "https://localhost:8080/"
    },
    "id": "YRNKIzdzJrki",
    "outputId": "d36e8d0f-782b-45ed-d601-39291b83506b",
    "ExecuteTime": {
     "end_time": "2024-09-25T12:31:29.220230Z",
     "start_time": "2024-09-25T12:31:29.214008Z"
    }
   },
   "id": "YRNKIzdzJrki",
   "execution_count": 14,
   "outputs": [
    {
     "data": {
      "text/plain": "array([[13, 21],\n       [21, 34]])"
     },
     "execution_count": 14,
     "metadata": {},
     "output_type": "execute_result"
    }
   ]
  },
  {
   "cell_type": "code",
   "execution_count": null,
   "id": "75ca81ec-27df-45a1-9464-57e73c08aef7",
   "metadata": {
    "id": "75ca81ec-27df-45a1-9464-57e73c08aef7",
    "colab": {
     "base_uri": "https://localhost:8080/"
    },
    "outputId": "4d18b918-d398-49e4-aa32-cb37c9278c73"
   },
   "outputs": [
    {
     "output_type": "stream",
     "name": "stdout",
     "text": [
      "[[13 21]\n",
      " [21 34]]\n",
      "[[34 55]\n",
      " [55 89]]\n",
      "[[1 0]\n",
      " [0 1]]\n",
      "[[0 1]\n",
      " [1 1]]\n",
      "[[3 5]\n",
      " [5 8]]\n"
     ]
    }
   ],
   "source": [
    "assert fibo(8) == 21\n",
    "assert fibo(10) == 55\n",
    "assert fibo(0) == 0\n",
    "assert fibo(1) == 1\n",
    "assert not fibo(5) == 10"
   ]
  },
  {
   "cell_type": "markdown",
   "id": "3f47e9dc-52a3-419a-b944-55a7a0d0a4e7",
   "metadata": {
    "id": "3f47e9dc-52a3-419a-b944-55a7a0d0a4e7"
   },
   "source": [
    "### Explications (50% Gobi,  et 50% Mathias, ici est fait fifty-fifty)"
   ]
  },
  {
   "cell_type": "markdown",
   "id": "00cd736a-f752-461e-8540-4bf6e9193b4d",
   "metadata": {
    "id": "00cd736a-f752-461e-8540-4bf6e9193b4d"
   },
   "source": [
    "Pour expliquer ce qui se passe dans ce code, j'aime commencer par un exemple concret. Prenons `fibo(8)`.\n",
    "1. On commence avec la matrice `f0f1 = [[0], [1]]` qui représente les valeurs initiales de la suite de Fibonacci.\n",
    "2. On définit la matrice `A = [[0, 1], [1, 1]]` qui permet de passer d'un élément de la suite au suivant.\n",
    "3. On calcule la matrice `Apower_n = A^n` en utilisant la fonction `np.linalg.matrix_power(A, n)` de numpy pour obtenir la matrice `A` élevée à la puissance `n`. Save time.\n",
    "4. On multiplie ensuite cette matrice `Apower_n` par le vecteur `f0f1` à l'aide de l'opérateur `@` (multiplication matricielle) pour obtenir le \\(n\\)-ième terme de la suite de Fibonacci. Le résultat de cette multiplication est un vecteur, et nous récupérons la première entrée du vecteur, c'est-à-dire `[0]`, qui correspond à \\( F(n) \\), le \\(n\\)-ième terme de la suite de Fibonacci.\n",
    "5. La fonction retourne cette première valeur, qui est le terme \\( F(n) \\) de la suite de Fibonacci.\n",
    "\n",
    "### Étapes de l'exécution pour `fibo(8)`\n",
    "\n",
    "1. **Initialisation** :\n",
    "   - La matrice initiale est `f0f1 = [[0], [1]]`, qui représente $( F(0) = 0 )$ et $( F(1) = 1 $).\n",
    "\n",
    "2. **Définition de la matrice $( A )$** :\n",
    "   - La matrice de transition $( A )$ est définie comme suit :\n",
    "   $[\n",
    "   A = \\begin{pmatrix} 0 & 1 \\\\ 1 & 1 \\end{pmatrix}\n",
    "   ]$\n",
    "   Cette matrice est utilisée pour calculer la suite de Fibonacci, car elle modélise la relation de récurrence $( F(n) = F(n-1) + F(n-2) )$.\n",
    "\n",
    "3. **Calcul de la puissance de la matrice $( A^n )$** :\n",
    "   - La fonction `np.linalg.matrix_power(A, n)` calcule $( A^n )$, où $( n = 8 )$ dans notre cas. Pour $( n = 8 )$, cela revient à multiplier la matrice $( A )$ par elle-même 8 fois.\n",
    "   - Le résultat de $( A^8 )$ est :\n",
    "   $[\n",
    "   A^8 = \\begin{pmatrix} 13 & 21 \\\\ 21 & 34 \\end{pmatrix}\n",
    "   ]$\n",
    "   On remaruque que Chaque élément de cette matrice par exemple contient des termes de Fibonacci. Par exemple, le $( 13 )$ correspond à $( F(7) )$ et le $( 21 )$ correspond à $( F(8) )$.\n",
    "\n",
    "4. **Multiplication matricielle** :\n",
    "   - On effectue ensuite la multiplication de $( A^n )$ avec le vecteur initial `f0f1` :\n",
    "   $[\n",
    "   \\begin{pmatrix} 13 & 21 \\\\ 21 & 34 \\end{pmatrix} \\times \\begin{pmatrix} 0 \\\\ 1 \\end{pmatrix} = \\begin{pmatrix} 21 \\\\ 34 \\end{pmatrix}\n",
    "   ]$\n",
    "   Cette multiplication donne le vecteur $( \\begin{pmatrix} F(8) \\\\ F(9) \\end{pmatrix} )$, où $( F(8) = 21 )$ et $( F(9) = 34 )$.\n",
    "\n",
    "5. **Résultat** :\n",
    "   - La fonction retourne la première valeur du vecteur résultant, c'est-à-dire $( F(8) = 21 )$.\n",
    "\n"
   ]
  },
  {
   "cell_type": "markdown",
   "id": "6d41402d-e2b8-4067-a41d-c2220cfdb932",
   "metadata": {
    "id": "6d41402d-e2b8-4067-a41d-c2220cfdb932"
   },
   "source": [
    "### Exercice 3.1 (50% Gobi,  et 50% Mathias)\n",
    "$(1)$ Montrez qu'il existe une matrice $A$ reliant $\\left[\\begin{array}{c}\n",
    "f_n \\\\\n",
    "f_{n+1}\n",
    "\\end{array}\\right]$ à $\\left[\\begin{array}{c}\n",
    "f_{n+1} \\\\\n",
    "f_{n+2}\n",
    "\\end{array}\\right]$ pour tout $n\\in \\mathbb{N}$.\n",
    "\n",
    "$(2)$ Trouvez alors une expression de $\\left[\\begin{array}{c}\n",
    "f_n \\\\\n",
    "f_{n+1}\n",
    "\\end{array}\\right]$ selon $A$ et  $\\left[\\begin{array}{c}\n",
    "f_0 \\\\\n",
    "f_{1}\n",
    "\\end{array}\\right]$ ."
   ]
  },
  {
   "cell_type": "markdown",
   "id": "b97c8f6e-1cb0-4205-b767-15a90d302f42",
   "metadata": {
    "id": "b97c8f6e-1cb0-4205-b767-15a90d302f42"
   },
   "source": [
    "\n",
    "$(1)$ Démontrez qu'il existe une matrice $A$ reliant \n",
    "$$\n",
    "\\begin{pmatrix}\n",
    "f_n \\\\\n",
    "f_{n+1}\n",
    "\\end{pmatrix}\n",
    "$$\n",
    "à \n",
    "$$\n",
    "\\begin{pmatrix}\n",
    "f_{n+1} \\\\\n",
    "f_{n+2}\n",
    "\\end{pmatrix}\n",
    "$$\n",
    "pour tout $n \\in \\mathbb{N}$.\n",
    "\n",
    "**Solution :** \n",
    "\n",
    "Nous savons que la suite de Fibonacci est définie par la relation de récurrence :\n",
    "$$\n",
    "f_{n+2} = f_{n+1} + f_n\n",
    "$$\n",
    "Cela signifie que nous pouvons exprimer le vecteur \n",
    "$$\n",
    "\\begin{pmatrix} f_{n+1} \\\\ f_{n+2} \\end{pmatrix}\n",
    "$$\n",
    "comme une combinaison linéaire du vecteur \n",
    "$$\n",
    "\\begin{pmatrix} f_n \\\\ f_{n+1} \\end{pmatrix}\n",
    "$$\n",
    "à l'aide de la matrice suivante :\n",
    "$$\n",
    "A = \\begin{pmatrix} 0 & 1 \\\\ 1 & 1 \\end{pmatrix}\n",
    "$$\n",
    "En effet, en appliquant cette matrice à \n",
    "$$\n",
    "\\begin{pmatrix} f_n \\\\ f_{n+1} \\end{pmatrix}\n",
    "$$\n",
    "nous obtenons :\n",
    "$$\n",
    "A \\cdot \\begin{pmatrix} f_n \\\\ f_{n+1} \\end{pmatrix} = \\begin{pmatrix} 0 & 1 \\\\ 1 & 1 \\end{pmatrix} \\cdot \\begin{pmatrix} f_n \\\\ f_{n+1} \\end{pmatrix} = \\begin{pmatrix} f_{n+1} \\\\ f_n + f_{n+1} \\end{pmatrix} = \\begin{pmatrix} f_{n+1} \\\\ f_{n+2} \\end{pmatrix}\n",
    "$$\n",
    "\n",
    "Cela prouve qu'il existe bien une matrice $A$ reliant \n",
    "$$\n",
    "\\begin{pmatrix} f_n \\\\ f_{n+1} \\end{pmatrix}\n",
    "$$\n",
    "à \n",
    "$$\n",
    "\\begin{pmatrix} f_{n+1} \\\\ f_{n+2} \\end{pmatrix}\n",
    "$$\n",
    "pour tout $n \\in \\mathbb{N}$.\n",
    "\n",
    "$(2)$ Exprimez alors \n",
    "$$\n",
    "\\begin{pmatrix} f_n \\\\ f_{n+1} \\end{pmatrix}\n",
    "$$\n",
    "selon $A$ et \n",
    "$$\n",
    "\\begin{pmatrix} f_0 \\\\ f_1 \\end{pmatrix}.\n",
    "$$\n",
    "\n",
    "**Solution :** \n",
    "\n",
    "Nous savons que la matrice $A$ permet de relier deux vecteurs consécutifs de la suite de Fibonacci. Par conséquent, pour exprimer \n",
    "$$\n",
    "\\begin{pmatrix} f_n \\\\ f_{n+1} \\end{pmatrix}\n",
    "$$\n",
    "en fonction de \n",
    "$$\n",
    "\\begin{pmatrix} f_0 \\\\ f_1 \\end{pmatrix}\n",
    "$$\n",
    "il suffit de multiplier la matrice $A$ de manière itérative $n$ fois :\n",
    "$$\n",
    "\\begin{pmatrix} f_n \\\\ f_{n+1} \\end{pmatrix} = A^n \\cdot \\begin{pmatrix} f_0 \\\\ f_1 \\end{pmatrix}\n",
    "$$\n",
    "où\n",
    "$$\n",
    "A = \\begin{pmatrix} 0 & 1 \\\\ 1 & 1 \\end{pmatrix}\n",
    "$$\n",
    "et\n",
    "$$\n",
    "\\begin{pmatrix} f_0 \\\\ f_1 \\end{pmatrix} = \\begin{pmatrix} 0 \\\\ 1 \\end{pmatrix}\n",
    "$$\n",
    "\n",
    "Ainsi, pour un entier $n$, nous pouvons obtenir le vecteur \n",
    "$$\n",
    "\\begin{pmatrix} f_n \\\\ f_{n+1} \\end{pmatrix}\n",
    "$$\n",
    "en appliquant $A^n$ au vecteur initial \n",
    "$$\n",
    "\\begin{pmatrix} f_0 \\\\ f_1 \\end{pmatrix}\n",
    "$$\n"
   ]
  },
  {
   "cell_type": "markdown",
   "source": [
    "### Exercice 3.2 - (<font color='#db60cf'>Bonus</font>) Une formule analytique pour $f_n$\n",
    "Que peut-on dire de $A$ ? Déterminez ses valeurs propres et ses sous-espaces propres associés.\n",
    "\n",
    "**Contribution: We did it together as well**"
   ],
   "metadata": {
    "id": "H4AmpMoXgwvm"
   },
   "id": "H4AmpMoXgwvm"
  },
  {
   "cell_type": "markdown",
   "source": [
    "\n",
    "\n",
    "Considérons la matrice $A$ suivante :\n",
    "$$\n",
    "A = \\begin{pmatrix} 0 & 1 \\\\ 1 & 1 \\end{pmatrix}\n",
    "$$\n",
    "\n",
    "#### On peut dire de $A$ qu'elle possède les propriétés suivantes:\n",
    "\n",
    "1. **Symétrie :** La matrice $A$ est symétrique, car $A = A^T$.\n",
    "\n",
    "2. **Orthogonalité :** La matrice $A$ n'est pas orthogonale, car $A^T A \\neq I$.\n",
    "\n",
    "3. **Caractère de transformation :** La matrice $A$ est utilisée dans les calculs de la suite de Fibonacci pour transformer les vecteurs de la suite. Elle permet de passer d'un vecteur de la forme $\\begin{pmatrix} f_n \\\\ f_{n+1} \\end{pmatrix}$ à un vecteur $\\begin{pmatrix} f_{n+1} \\\\ f_{n+2} \\end{pmatrix}$ en appliquant la matrice.\n",
    "\n",
    "4. **Type de matrice :** Elle est également une matrice inversible, car son déterminant est non nul $(-1)$.\n",
    "\n",
    "#### Valeurs propres et sous-espaces propres\n",
    "\n",
    "Pour déterminer les valeurs propres de $A$, nous devons résoudre le polynôme caractéristique :\n",
    "$$\n",
    "\\text{det}(A - \\lambda I) = 0\n",
    "$$\n",
    "où $I$ est la matrice identité et $\\lambda$ représente les valeurs propres.\n",
    "\n",
    "Calculons $A - \\lambda I$ :\n",
    "$$\n",
    "A - \\lambda I = \\begin{pmatrix} 0 & 1 \\\\ 1 & 1 \\end{pmatrix} - \\lambda \\begin{pmatrix} 1 & 0 \\\\ 0 & 1 \\end{pmatrix} = \\begin{pmatrix} -\\lambda & 1 \\\\ 1 & 1 - \\lambda \\end{pmatrix}\n",
    "$$\n",
    "\n",
    "Le polynôme caractéristique est :\n",
    "$$\n",
    "\\text{det}(A - \\lambda I) = \\text{det}\\begin{pmatrix} -\\lambda & 1 \\\\ 1 & 1 - \\lambda \\end{pmatrix}\n",
    "$$\n",
    "Calculons le déterminant :\n",
    "$$\n",
    "\\text{det}(A - \\lambda I) = (-\\lambda) \\cdot (1 - \\lambda) - (1 \\cdot 1) = -\\lambda + \\lambda^2 - 1\n",
    "$$\n",
    "$$\n",
    "= \\lambda^2 - \\lambda - 1\n",
    "$$\n",
    "\n",
    "Les valeurs propres sont les racines du polynôme caractéristique :\n",
    "$$\n",
    "\\lambda^2 - \\lambda - 1 = 0\n",
    "$$\n",
    "\n",
    "Résolvons cette équation quadratique :\n",
    "$$\n",
    "\\lambda = \\frac{1 \\pm \\sqrt{1 + 4}}{2} = \\frac{1 \\pm \\sqrt{5}}{2}\n",
    "$$\n",
    "\n",
    "Les valeurs propres sont :\n",
    "$$\n",
    "\\lambda_1 = \\frac{1 + \\sqrt{5}}{2} \\quad \\text{et} \\quad \\lambda_2 = \\frac{1 - \\sqrt{5}}{2}\n",
    "$$\n",
    "\n",
    "Pour chaque valeur propre, trouvons les sous-espaces propres associés. \n",
    "\n",
    "### Calcul des sous-espaces propres\n",
    "\n",
    "Un **sous-espace propre** associé à une valeur propre $ \\lambda $ est l'ensemble des vecteurs non nuls $ v $ qui satisfont l'équation suivante :\n",
    "\n",
    "$ A v = \\lambda v $\n",
    "\n",
    "Pour chaque valeur propre $ \\lambda $, nous devons résoudre le système d'équations :\n",
    "\n",
    "$ (A - \\lambda I) v = 0 $\n",
    "\n",
    "où $ I $ est la matrice identité et $ v $ est un vecteur propre.\n",
    "\n",
    "### Étape 1 : Résolution pour $ \\lambda_1 = \\frac{1 + \\sqrt{5}}{2} $\n",
    "\n",
    "1. **Calcul de $ A - \\lambda_1 I $** :\n",
    "   \n",
    "$ A - \\lambda_1 I = \\begin{pmatrix} 0 & 1 \\\\ 1 & 1 \\end{pmatrix} - \\frac{1 + \\sqrt{5}}{2} \\begin{pmatrix} 1 & 0 \\\\ 0 & 1 \\end{pmatrix} = \\begin{pmatrix} -\\frac{1 + \\sqrt{5}}{2} & 1 \\\\ 1 & 1 - \\frac{1 + \\sqrt{5}}{2} \\end{pmatrix} $\n",
    "\n",
    "2. **Système d'équations** :\n",
    "\n",
    "Le système à résoudre est :\n",
    "\n",
    "$ ( A - \\lambda_1 I ) v = 0 $\n",
    "\n",
    "Résolvant ce système, nous trouverons les vecteurs propres associés à $ \\lambda_1 $ et on a pour tout calcul bien fait:\n",
    "   $$\n",
    "   \\mathbf{v}_1 = \\begin{pmatrix} 1 \\\\ \\frac{1 + \\sqrt{5}}{2} \\end{pmatrix}\n",
    "   $$\n",
    "\n",
    "### Étape 2 : Résolution pour $ \\lambda_2 = \\frac{1 - \\sqrt{5}}{2} $\n",
    "\n",
    "1. **Calcul de $ A - \\lambda_2 I $** :\n",
    "\n",
    "$ A - \\lambda_2 I = \\begin{pmatrix} 0 & 1 \\\\ 1 & 1 \\end{pmatrix} - \\frac{1 - \\sqrt{5}}{2} \\begin{pmatrix} 1 & 0 \\\\ 0 & 1 \\end{pmatrix} = \\begin{pmatrix} -\\frac{1 - \\sqrt{5}}{2} & 1 \\\\ 1 & 1 - \\frac{1 - \\sqrt{5}}{2} \\end{pmatrix} $\n",
    "\n",
    "2. **Système d'équations** :\n",
    "\n",
    "Le système à résoudre est :\n",
    "\n",
    "$ ( A - \\lambda_2 I ) v = 0 $\n",
    "\n",
    "Résolvant ce système, on trouvera les vecteurs propres associés à $ \\lambda_2 $ et on a pour tout calcul bien fait:\n",
    "\n",
    "  $$\n",
    "   \\mathbf{v}_2 = \\begin{pmatrix} 1 \\\\ \\frac{1 - \\sqrt{5}}{2} \\end{pmatrix}\n",
    "   $$\n",
    "Eh donc: \n",
    "- Le sous-espace propre associé à $ \\lambda_1 $ est engendré par $ v_1 $.\n",
    "- Le sous-espace propre associé à $ \\lambda_2 $ est engendré par $ v_2 $.\n",
    "\n"
   ],
   "metadata": {
    "id": "v8KEN04Ki9Vu"
   },
   "id": "v8KEN04Ki9Vu"
  },
  {
   "cell_type": "markdown",
   "source": [
    "En utilisant $(2)$, en déduire une forme analytique de $f_n$."
   ],
   "metadata": {
    "id": "PZjl6-cZi_kO"
   },
   "id": "PZjl6-cZi_kO"
  },
  {
   "cell_type": "markdown",
   "source": [
    "Pour exprimer \n",
    "$$\n",
    "\\begin{pmatrix}\n",
    "f_n \\\\\n",
    "f_{n+1}\n",
    "\\end{pmatrix}\n",
    "$$\n",
    "en termes de $A$ et \n",
    "$$\n",
    "\\begin{pmatrix}\n",
    "f_0 \\\\\n",
    "f_1\n",
    "\\end{pmatrix}\n",
    "$$\n",
    "nous avons :\n",
    "$$\n",
    "\\begin{pmatrix}\n",
    "f_n \\\\\n",
    "f_{n+1}\n",
    "\\end{pmatrix}\n",
    "= A^n \\cdot \\begin{pmatrix}\n",
    "f_0 \\\\\n",
    "f_1\n",
    "\\end{pmatrix}\n",
    "$$\n",
    "\n",
    "Allons étape par étape pour effectuer les calcules:\n",
    "\n",
    "### Étape 1 : Définir les termes initiaux\n",
    "Les premiers termes de la suite de Fibonacci sont $ f_0 = 0 $ et $ f_1 = 1 $, donc le vecteur initial est :\n",
    "$$\n",
    "\\begin{pmatrix}\n",
    "f_0 \\\\\n",
    "f_1\n",
    "\\end{pmatrix} = \\begin{pmatrix}\n",
    "0 \\\\\n",
    "1\n",
    "\\end{pmatrix}\n",
    "$$\n",
    "\n",
    "### Étape 2 : Diagonaliser la matrice $ A $\n",
    "La matrice $ A $ est :\n",
    "$$\n",
    "A = \\begin{pmatrix}\n",
    "0 & 1 \\\\\n",
    "1 & 1\n",
    "\\end{pmatrix}\n",
    "$$\n",
    "Nous l'avons diagonalée avec :\n",
    "$$\n",
    "A = P D P^{-1}\n",
    "$$\n",
    "où :\n",
    "$$\n",
    "P = \\begin{pmatrix}\n",
    "1 & 1 \\\\\n",
    "\\frac{1 + \\sqrt{5}}{2} & \\frac{1 - \\sqrt{5}}{2}\n",
    "\\end{pmatrix}\n",
    "$$\n",
    "et la matrice diagonale des valeurs propres est :\n",
    "$$\n",
    "D = \\begin{pmatrix}\n",
    "\\lambda_1 & 0 \\\\\n",
    "0 & \\lambda_2\n",
    "\\end{pmatrix}\n",
    "= \\begin{pmatrix}\n",
    "\\frac{1 + \\sqrt{5}}{2} & 0 \\\\\n",
    "0 & \\frac{1 - \\sqrt{5}}{2}\n",
    "\\end{pmatrix}\n",
    "$$\n",
    "\n",
    "### Étape 3 : Calcul de $ A^n $\n",
    "Maintenant, nous allons calculer $ A^n $ en utilisant la diagonalisation :\n",
    "$$\n",
    "A^n = P D^n P^{-1}\n",
    "$$\n",
    "Où :\n",
    "$$\n",
    "D^n = \\begin{pmatrix}\n",
    "\\lambda_1^n & 0 \\\\\n",
    "0 & \\lambda_2^n\n",
    "\\end{pmatrix}\n",
    "$$\n",
    "Ainsi, nous avons :\n",
    "$$\n",
    "A^n = P \\begin{pmatrix}\n",
    "\\lambda_1^n & 0 \\\\\n",
    "0 & \\lambda_2^n\n",
    "\\end{pmatrix} P^{-1}\n",
    "$$\n",
    "\n",
    "### Étape 4 : Appliquer à $ \\begin{pmatrix} f_0 \\\\ f_1 \\end{pmatrix} $\n",
    "Maintenant, appliquons $ A^n $ au vecteur initial $ \\begin{pmatrix} f_0 \\\\ f_1 \\end{pmatrix} = \\begin{pmatrix} 0 \\\\ 1 \\end{pmatrix} $.\n",
    "\n",
    "Premièrement, calculons :\n",
    "$$\n",
    "P^{-1} = \\frac{1}{\\sqrt{5}} \\begin{pmatrix}\n",
    "\\frac{1 - \\sqrt{5}}{2} & -1 \\\\\n",
    "-\\frac{1 + \\sqrt{5}}{2} & 1\n",
    "\\end{pmatrix}\n",
    "$$\n",
    "Puis :\n",
    "$$\n",
    "P^{-1} \\begin{pmatrix} 0 \\\\ 1 \\end{pmatrix} = \\frac{1}{\\sqrt{5}} \\begin{pmatrix}\n",
    "-1 \\\\\n",
    "1\n",
    "\\end{pmatrix}\n",
    "$$\n",
    "\n",
    "En multipliant par $ D^n $, nous obtenons :\n",
    "$$\n",
    "\\begin{pmatrix}\n",
    "\\lambda_1^n & 0 \\\\\n",
    "0 & \\lambda_2^n\n",
    "\\end{pmatrix} \\cdot \\frac{1}{\\sqrt{5}} \\begin{pmatrix}\n",
    "-1 \\\\\n",
    "1\n",
    "\\end{pmatrix} = \\frac{1}{\\sqrt{5}} \\begin{pmatrix}\n",
    "-\\lambda_1^n \\\\\n",
    "\\lambda_2^n\n",
    "\\end{pmatrix}\n",
    "$$\n",
    "\n",
    "Enfin, multiplions par $ P $ :\n",
    "$$\n",
    "P \\cdot \\frac{1}{\\sqrt{5}} \\begin{pmatrix}\n",
    "-\\lambda_1^n \\\\\n",
    "\\lambda_2^n\n",
    "\\end{pmatrix} = \\frac{1}{\\sqrt{5}} \\begin{pmatrix}\n",
    "\\lambda_2^n - \\lambda_1^n \\\\\n",
    "\\frac{1 + \\sqrt{5}}{2} \\lambda_2^n - \\frac{1 - \\sqrt{5}}{2} \\lambda_1^n\n",
    "\\end{pmatrix}\n",
    "$$\n",
    "\n",
    "Le premier élément de ce vecteur est le terme $ f_n $ de la suite de Fibonacci, donc :\n",
    "$$\n",
    "f_n = \\frac{1}{\\sqrt{5}} \\left( \\lambda_1^n - \\lambda_2^n \\right)\n",
    "$$\n",
    "où $ \\lambda_1 = \\frac{1 + \\sqrt{5}}{2} $ et $ \\lambda_2 = \\frac{1 - \\sqrt{5}}{2} $.\n",
    "\n",
    "### Eh donc:\n",
    "La **formule explicite** pour le $ n $-ème terme de la suite de Fibonacci est donc donnée par :\n",
    "$$\n",
    "f_n = \\frac{1}{\\sqrt{5}} \\left( \\left( \\frac{1 + \\sqrt{5}}{2} \\right)^n - \\left( \\frac{1 - \\sqrt{5}}{2} \\right)^n \\right)\n",
    "$$\n",
    "\n"
   ],
   "metadata": {
    "id": "2pv0qd4JjBfy"
   },
   "id": "2pv0qd4JjBfy"
  },
  {
   "cell_type": "markdown",
   "id": "07be6c36-643f-4951-b68c-8b792565eda7",
   "metadata": {
    "id": "07be6c36-643f-4951-b68c-8b792565eda7"
   },
   "source": [
    "## Exercice 4 \n",
    "Implémentez et testez les 3 versions de l'algorithme calculant la sous-suite de somme maximale, c'est-à-dire:\n",
    "* 3 boucles imbriquées\n",
    "* 2 boucles imbriquées\n",
    "* une seule boucle (Kadane)"
   ]
  },
  {
   "cell_type": "code",
   "execution_count": 2,
   "id": "d882174a-af35-4cc5-9b63-80afab0c5500",
   "metadata": {
    "id": "d882174a-af35-4cc5-9b63-80afab0c5500",
    "ExecuteTime": {
     "end_time": "2024-09-29T13:39:17.538844Z",
     "start_time": "2024-09-29T13:39:17.533953Z"
    }
   },
   "outputs": [],
   "source": [
    "def maxSub3(m):\n",
    "    maxSum = 0 # initialiser la somme maximale à 0\n",
    "    n = len(m) # obtenir la taille de la liste\n",
    "    for i in range(n): # parcourir la liste\n",
    "        for j in range(i, n): # parcourir la liste à partir de l'indice i\n",
    "            currentSum = 0 # initialiser la somme courante à 0\n",
    "            for k in range(i, j+1): # parcourir la liste de i à j\n",
    "                currentSum += m[k] # ajouter l'élément k à la somme courante\n",
    "            maxSum = max(maxSum, currentSum) # mettre à jour la somme maximale\n",
    "    return maxSum\n",
    "\n",
    "def maxSub2(m):\n",
    "    maxSum = 0 # initialiser la somme maximale à 0\n",
    "    n = len(m) # obtenir la taille de la liste\n",
    "    for i in range(n):  # parcourir la liste\n",
    "        currentSum = 0 # initialiser la somme courante à 0\n",
    "        for j in range(i, n):  # parcourir la liste à partir de l'indice i\n",
    "            currentSum += m[j] # ajouter l'élément j à la somme courante\n",
    "            maxSum = max(maxSum, currentSum) # mettre à jour la somme maximale\n",
    "    return maxSum\n",
    "\n",
    "def maxSub1(m):\n",
    "    maxSum = 0\n",
    "    currentSum = 0\n",
    "\n",
    "    for x in m:  # Boucle unique pour parcourir les éléments\n",
    "        currentSum = max(x, currentSum + x) # Mettre à jour la somme courante\n",
    "        maxSum = max(maxSum, currentSum) # Mettre à jour la somme maximale and everything is done in one loop\n",
    "    return maxSum"
   ]
  },
  {
   "cell_type": "code",
   "execution_count": 3,
   "id": "a9b9bc16-b296-408b-a5f9-1a486cd77ebd",
   "metadata": {
    "id": "a9b9bc16-b296-408b-a5f9-1a486cd77ebd",
    "ExecuteTime": {
     "end_time": "2024-09-29T13:39:19.262059Z",
     "start_time": "2024-09-29T13:39:19.258089Z"
    }
   },
   "outputs": [],
   "source": [
    "assert maxSub3([4,3,-10,2]) == 7\n",
    "assert maxSub3([4,3,-10,2,8]) == 10\n",
    "assert not maxSub3([4,3,-10,2,8]) == -10\n",
    "\n",
    "assert maxSub2([4,3,-10,2]) == 7\n",
    "assert maxSub2([4,3,-10,2,8]) == 10\n",
    "assert not maxSub2([4,3,-10,2,8]) == -10\n",
    "\n",
    "assert maxSub1([4,3,-10,2]) == 7\n",
    "assert maxSub1([4,3,-10,2,8]) == 10\n",
    "assert not maxSub1([4,3,-10,2,8]) == -10"
   ]
  },
  {
   "cell_type": "markdown",
   "id": "e43f328f-cec8-4d5d-bb25-0abcd8a184fb",
   "metadata": {
    "id": "e43f328f-cec8-4d5d-bb25-0abcd8a184fb"
   },
   "source": [
    "### Explications (Gobi(maxSub2, maxSub)  et  Mathias (maxSub3))"
   ]
  },
  {
   "cell_type": "markdown",
   "id": "9ea3d8b5-a91c-4aa7-ad87-35fe32043114",
   "metadata": {
    "id": "9ea3d8b5-a91c-4aa7-ad87-35fe32043114"
   },
   "source": [
    "1. **`maxSub3(m)`** :\n",
    "   - Utilise trois boucles imbriquées. La somme des sous-suites est calculée avec une boucle interne, en ajoutant chaque élément de la sous-suite à `currentSum`. Ensuite, `maxSum` est mis à jour si `currentSum` est plus grand.\n",
    "\n",
    "2. **`maxSub2(m)`** :\n",
    "   - Utilise deux boucles imbriquées. La première boucle fixe le début de la sous-suite. La seconde boucle calcule la somme de la sous-suite en ajoutant successivement les éléments. `maxSum` est mis à jour pour chaque sous-suite.\n",
    "\n",
    "3. **`maxSub1(m)`** :\n",
    "   - Utilise l'algorithme de Kadane avec une seule boucle. La variable `currentSum` maintient la somme de la sous-suite courante, et `maxSum` est mis à jour si `currentSum` est plus grand.\n",
    "\n",
    "Prenons l'exemple `[-1, 2, 5, 1]` en testant avec le premier maxSub3  car le cheminement est le même pour les trois fonctions. Voici comment ça marche avec trois boucles imbriquées :\n",
    "\n",
    "### Tableau : `[-1, 2, 5, 1]`\n",
    "\n",
    "1. **Boucle externe (i)** : Sélectionne le point de départ de la sous-séquence.\n",
    "2. **Boucle intermédiaire (j)** : Sélectionne le point de fin de la sous-séquence.\n",
    "3. **Boucle interne (k)** : Calcule la somme de tous les éléments entre les indices \\( i \\) et \\( j \\).\n",
    "\n",
    "### Étape par étape :\n",
    "\n",
    "1. **i = 0 (on commence au premier élément -1)** :\n",
    "    - j = 0 → sous-séquence : `[-1]` → somme = -1\n",
    "    - j = 1 → sous-séquence : `[-1, 2]` → somme = 1\n",
    "    - j = 2 → sous-séquence : `[-1, 2, 5]` → somme = 6\n",
    "    - j = 3 → sous-séquence : `[-1, 2, 5, 1]` → somme = 7 (nouveau max)\n",
    "\n",
    "2. **i = 1 (on commence au deuxième élément 2)** :\n",
    "    - j = 1 → sous-séquence : `[2]` → somme = 2\n",
    "    - j = 2 → sous-séquence : `[2, 5]` → somme = 7 (max reste 7)\n",
    "    - j = 3 → sous-séquence : `[2, 5, 1]` → somme = 8 (nouveau max)\n",
    "\n",
    "3. **i = 2 (on commence au troisième élément 5)** :\n",
    "    - j = 2 → sous-séquence : `[5]` → somme = 5\n",
    "    - j = 3 → sous-séquence : `[5, 1]` → somme = 6\n",
    "\n",
    "4. **i = 3 (on commence au dernier élément 1)** :\n",
    "    - j = 3 → sous-séquence : `[1]` → somme = 1\n",
    "\n",
    "### Conclusion :\n",
    "\n",
    "Le maxSum final est 8, qui correspond à la sous-séquence `[2, 5, 1]`."
   ]
  },
  {
   "cell_type": "code",
   "execution_count": null,
   "id": "8a7df467-85f8-4484-9050-1cc3eb25783e",
   "metadata": {
    "id": "8a7df467-85f8-4484-9050-1cc3eb25783e"
   },
   "outputs": [],
   "source": []
  }
 ],
 "metadata": {
  "kernelspec": {
   "display_name": "Python",
   "language": "python",
   "name": "python3"
  },
  "language_info": {
   "codemirror_mode": {
    "name": "ipython",
    "version": 3
   },
   "file_extension": ".py",
   "mimetype": "text/x-python",
   "name": "python",
   "nbconvert_exporter": "python",
   "pygments_lexer": "ipython3",
   "version": "3.8.10"
  },
  "colab": {
   "provenance": []
  }
 },
 "nbformat": 4,
 "nbformat_minor": 5
}
