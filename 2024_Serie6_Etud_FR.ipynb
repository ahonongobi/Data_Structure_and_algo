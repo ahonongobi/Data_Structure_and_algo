{
 "cells": [
  {
   "cell_type": "markdown",
   "id": "3753f8ac-fd3a-4817-9c73-7772af832027",
   "metadata": {
    "id": "3753f8ac-fd3a-4817-9c73-7772af832027"
   },
   "source": [
    "# Série 6\n",
    "Ce document contient les différents exercices à réaliser. Veuillez compléter et rendre ces exercices pour la semaine prochaine.\n",
    "\n",
    "Pour chaque exercice:\n",
    "* implémentez ce qui est demandé\n",
    "* commentez votre code\n",
    "* expliquez **en français or in English** ce que vous avez codé dans la cellule correspondante\n",
    "\n",
    "Dans vos explications à chacun des exercices, indiquez un pourcentage subjectif d'investissement de chaque membre du groupe. **Des interrogations aléatoires en classe pourront être réalisées pour vérifier votre contribution/compréhension.**\n",
    "\n",
    "Les tentatives infructueuses, les explications, commentaires et analyses des échecs **rapportent des points**. Ne rendez pas copie-blanche, même si votre fonction n'est pas correcte."
   ]
  },
  {
   "cell_type": "markdown",
   "id": "1fb0b066-c859-40a3-a8d6-7bcc656f8764",
   "metadata": {
    "id": "1fb0b066-c859-40a3-a8d6-7bcc656f8764"
   },
   "source": [
    "## Exercice 1\n",
    "Vous allez devoir implémenter un algorithme pour trouver la meilleure combinaison dans la multiplication de n matrices  M<sub>1</sub>, ..., M<sub>n</sub> dont le vecteur D=(d<sub>0</sub>,d<sub>1</sub>,...d<sub>n</sub>) fournit les dimenstion de la matrice M<sub>i</sub> = d<sub>i-1</sub> × d<sub>i</sub>\n",
    "\n",
    "Vous devez:\n",
    "* générer un nombre entier aléatoire *random* plus grand ou égal à 3 (le nombre de matrices)  \n",
    "* générer un vecteur de *random*+1 dimensions aléatoires comprises entre, 2 et 19: D<sub>*random*</sub>\n",
    "* générer random matrices à valeurs entières M<sub>i</sub> de dimension d<sub>i-1</sub> × d<sub>i</sub> pour i = 1, ..., *random*\n",
    "* programmer l'algorithme de recherche de la meilleures combinaison\n",
    "* trouver la meilleure combinaison et multiplier leurs matrices selon la meilleure combinaison\n",
    "* tester éventuellement avec des combinaisons aléatoires de leur suite de matrices (pour ce dernier exercice, il faut implémenter un compteur de multiplications scalaires dans la fonction de multiplication matricielle)"
   ]
  },
  {
   "cell_type": "code",
   "execution_count": 1,
   "id": "f7d53256-24f6-4c2c-860f-2b0577daf6db",
   "metadata": {
    "id": "f7d53256-24f6-4c2c-860f-2b0577daf6db",
    "ExecuteTime": {
     "end_time": "2024-11-06T21:49:41.428722Z",
     "start_time": "2024-11-06T21:49:41.412801Z"
    }
   },
   "outputs": [],
   "source": [
    "import sys\n",
    "import random\n",
    "class MatrixMult:\n",
    "    nmbre_matr = 1\n",
    "    dimensions = []\n",
    "    MAX_VALUE = sys.maxsize\n",
    "\n",
    "    def __init__(self, dimensions, nmbre_matr):\n",
    "        self.nmbre_matr = nmbre_matr\n",
    "        self.dimensions = dimensions\n",
    "        self.best_pivot = [[0 for i in range(nmbre_matr+1)] for j in range(nmbre_matr+1)]\n",
    "        self.pivots_in_postorder = []\n",
    "\n",
    "    def best_n_mult(self,high):\n",
    "        print(high)\n",
    "        best_value = [[0 for i in range(high+1)] for j in range(high+1)]\n",
    "        h=2\n",
    "        while h<=high:\n",
    "            l=h-2\n",
    "            while l>=0:\n",
    "                min_n_mult = self.MAX_VALUE+1\n",
    "                i=l+1\n",
    "                while i<=h-1:\n",
    "                    n_mult = self.dimensions[l]*self.dimensions[i]*self.dimensions[h] + best_value[l][i] + best_value[i][h]\n",
    "                    if min_n_mult > n_mult:\n",
    "                        min_n_mult = n_mult\n",
    "                        self.best_pivot[l][h] = i\n",
    "                    i+=1\n",
    "                best_value[l][h] = min_n_mult\n",
    "                print(l,h,best_value[l][h])\n",
    "                l-=1\n",
    "            h+=1\n",
    "        print(best_value)\n",
    "        return best_value[0][high]\n",
    "\n",
    "    def write_pivots_in_postorder(self,l,h):\n",
    "        if ( l+1 < h ):\n",
    "            b = self.best_pivot[l][h]\n",
    "            self.write_pivots_in_postorder(l, b)\n",
    "            self.write_pivots_in_postorder(b, h)\n",
    "            self.pivots_in_postorder.append(b)\n",
    "            print(b)\n",
    "\n",
    "    # A COMPLETER\n",
    "    def multiply(self, A, B):\n",
    "        \"\"\"Multiplication de deux matrices.\"\"\"\n",
    "        rows_A, cols_A = len(A), len(A[0])\n",
    "        rows_B, cols_B = len(B), len(B[0])\n",
    "        if cols_A != rows_B:\n",
    "            raise ValueError(\"Les dimensions des matrices ne sont pas compatibles pour la multiplication.\")\n",
    "\n",
    "        # Créer une matrice résultat avec les bonnes dimensions\n",
    "        C = [[0 for row in range(cols_B)] for col in range(rows_A)]\n",
    "\n",
    "        for i in range(rows_A):\n",
    "            for j in range(cols_B):\n",
    "                for k in range(cols_A):\n",
    "                    C[i][j] += A[i][k] * B[k][j]\n",
    "\n",
    "        return C\n",
    "\n",
    "    def do_operation(self, pivots, matrices):\n",
    "        \"\"\"Effectue la multiplication des matrices en suivant l'ordre des pivots.\"\"\"\n",
    "        order = pivots[:]\n",
    "        current_matrices = matrices[:]\n",
    "\n",
    "        while len(order) > 0:\n",
    "            pivot = order.pop(0) - 1\n",
    "            matrix1 = current_matrices[pivot]\n",
    "            matrix2 = current_matrices.pop(pivot + 1)\n",
    "            result = self.multiply(matrix1, matrix2)\n",
    "            current_matrices[pivot] = result\n",
    "\n",
    "        return current_matrices[0]\n"
   ]
  },
  {
   "cell_type": "code",
   "outputs": [
    {
     "name": "stdout",
     "output_type": "stream",
     "text": [
      "Randomly generated number of matrices and dimensions:\n",
      "Number of matrices: 6\n",
      "Dimensions: [19, 19, 19, 19, 19, 19, 19]\n",
      "\n",
      "Randomly generated matrices:\n",
      "[[9, 12, 12, 3, 9, 11, 17, 10, 1, 18, 7, 16, 14, 18, 6, 3, 13, 4, 4], [15, 18, 7, 2, 3, 9, 7, 16, 18, 16, 4, 7, 2, 13, 13, 20, 20, 17, 14], [4, 12, 15, 9, 4, 15, 6, 13, 10, 8, 14, 9, 14, 13, 13, 2, 15, 16, 12], [11, 4, 10, 20, 8, 13, 4, 12, 1, 14, 3, 17, 4, 20, 3, 7, 8, 9, 1], [13, 9, 6, 4, 18, 20, 19, 12, 17, 4, 11, 18, 14, 11, 7, 17, 15, 2, 2], [4, 10, 10, 20, 1, 11, 12, 17, 12, 10, 11, 14, 7, 17, 19, 18, 9, 18, 5], [2, 2, 2, 11, 13, 16, 11, 5, 20, 15, 13, 20, 20, 2, 4, 9, 10, 8, 3], [1, 17, 3, 9, 10, 20, 6, 14, 15, 19, 9, 19, 6, 3, 6, 7, 12, 3, 18], [16, 9, 11, 15, 17, 1, 8, 9, 12, 4, 8, 20, 19, 17, 15, 9, 9, 10, 5], [18, 18, 3, 19, 20, 15, 17, 18, 16, 8, 12, 20, 16, 18, 9, 6, 20, 4, 18], [12, 17, 14, 19, 15, 8, 14, 10, 9, 3, 10, 18, 2, 15, 6, 18, 4, 1, 17], [2, 10, 14, 15, 14, 4, 9, 3, 16, 12, 19, 8, 8, 10, 7, 18, 18, 11, 4], [1, 14, 19, 6, 18, 10, 9, 1, 14, 11, 2, 6, 13, 2, 19, 10, 19, 10, 14], [14, 1, 9, 13, 8, 18, 17, 13, 18, 16, 16, 19, 15, 16, 9, 5, 20, 5, 12], [16, 11, 13, 10, 8, 3, 6, 1, 4, 16, 3, 10, 14, 11, 19, 7, 16, 4, 16], [18, 19, 19, 14, 11, 18, 3, 11, 16, 13, 18, 10, 5, 19, 17, 8, 17, 6, 10], [16, 3, 5, 7, 6, 4, 1, 17, 20, 1, 11, 20, 15, 6, 19, 14, 19, 11, 16], [7, 20, 5, 18, 16, 18, 8, 17, 1, 11, 16, 15, 4, 13, 12, 12, 5, 3, 6], [7, 12, 4, 13, 5, 16, 1, 2, 9, 10, 10, 18, 12, 2, 18, 15, 4, 4, 8]]\n",
      "[[13, 14, 14, 9, 17, 8, 18, 8, 14, 8, 14, 17, 3, 7, 7, 7, 14, 8, 3], [9, 18, 2, 17, 4, 3, 9, 5, 14, 4, 5, 9, 18, 9, 9, 2, 6, 18, 14], [11, 12, 11, 1, 13, 17, 10, 19, 5, 12, 10, 20, 3, 3, 14, 7, 12, 6, 2], [3, 17, 17, 18, 2, 4, 9, 1, 1, 7, 3, 2, 13, 5, 1, 9, 8, 6, 16], [15, 2, 7, 9, 9, 1, 14, 1, 16, 18, 8, 15, 4, 4, 20, 16, 13, 14, 9], [9, 1, 1, 2, 12, 2, 10, 8, 3, 15, 2, 2, 12, 7, 13, 13, 15, 9, 20], [14, 5, 3, 7, 14, 10, 18, 1, 16, 8, 19, 2, 7, 9, 14, 20, 17, 14, 6], [5, 11, 19, 2, 5, 11, 4, 9, 12, 1, 12, 8, 9, 6, 13, 11, 20, 16, 18], [13, 10, 6, 14, 13, 11, 10, 11, 10, 12, 15, 18, 5, 18, 14, 20, 8, 11, 14], [11, 13, 15, 17, 2, 7, 12, 1, 2, 18, 10, 17, 1, 15, 13, 10, 15, 16, 14], [11, 8, 2, 1, 3, 12, 9, 2, 20, 15, 9, 7, 16, 5, 7, 2, 8, 5, 18], [8, 20, 16, 8, 18, 6, 14, 12, 14, 15, 12, 15, 16, 8, 14, 7, 10, 9, 13], [15, 12, 3, 5, 5, 6, 20, 9, 11, 14, 18, 14, 4, 19, 18, 16, 13, 8, 9], [4, 11, 10, 20, 13, 14, 3, 2, 9, 9, 12, 19, 7, 16, 10, 6, 8, 15, 2], [2, 10, 5, 15, 11, 16, 3, 13, 5, 10, 5, 20, 14, 1, 10, 3, 10, 4, 17], [17, 2, 1, 18, 17, 5, 6, 14, 9, 7, 18, 4, 6, 16, 8, 6, 15, 9, 1], [8, 2, 13, 8, 10, 17, 12, 18, 6, 8, 15, 8, 10, 2, 6, 2, 5, 4, 11], [1, 1, 4, 14, 5, 7, 7, 16, 16, 6, 14, 19, 9, 15, 12, 16, 9, 8, 12], [11, 6, 20, 3, 17, 10, 7, 8, 4, 11, 14, 7, 15, 17, 10, 18, 16, 7, 6]]\n",
      "[[17, 8, 20, 11, 20, 10, 15, 14, 2, 20, 5, 17, 15, 8, 6, 9, 17, 12, 19], [7, 18, 1, 19, 5, 1, 13, 4, 17, 17, 3, 12, 10, 5, 7, 18, 3, 16, 14], [20, 3, 14, 11, 17, 18, 1, 7, 15, 1, 2, 4, 20, 13, 16, 19, 10, 16, 5], [8, 8, 11, 2, 19, 20, 8, 8, 13, 17, 3, 5, 15, 17, 19, 11, 13, 6, 14], [4, 4, 6, 13, 1, 16, 7, 18, 18, 8, 12, 13, 5, 7, 14, 3, 3, 9, 4], [4, 9, 16, 4, 3, 18, 2, 7, 11, 20, 17, 5, 10, 8, 18, 13, 6, 19, 16], [19, 14, 1, 10, 7, 19, 13, 7, 20, 20, 3, 5, 8, 13, 7, 8, 14, 7, 10], [7, 3, 6, 9, 18, 2, 15, 7, 2, 20, 9, 17, 3, 4, 9, 9, 12, 2, 13], [20, 1, 11, 2, 3, 11, 20, 20, 20, 10, 19, 1, 19, 11, 2, 6, 1, 14, 20], [16, 17, 3, 15, 12, 12, 13, 18, 7, 1, 10, 19, 6, 6, 13, 13, 20, 8, 4], [8, 18, 11, 11, 18, 14, 7, 7, 1, 17, 19, 17, 5, 15, 17, 3, 8, 11, 19], [6, 4, 3, 6, 14, 19, 10, 14, 15, 16, 11, 8, 13, 3, 16, 2, 16, 17, 14], [4, 14, 7, 20, 12, 19, 9, 9, 14, 11, 19, 9, 10, 2, 11, 18, 14, 10, 3], [12, 11, 9, 12, 18, 18, 2, 1, 10, 16, 16, 17, 1, 19, 13, 14, 17, 16, 10], [19, 2, 16, 4, 3, 12, 9, 9, 12, 14, 12, 14, 13, 4, 18, 7, 14, 15, 2], [6, 19, 15, 3, 20, 13, 2, 13, 11, 8, 8, 7, 12, 1, 13, 1, 20, 1, 9], [3, 13, 15, 12, 20, 20, 20, 8, 17, 8, 16, 3, 12, 20, 15, 3, 8, 2, 13], [14, 2, 15, 18, 7, 7, 15, 11, 2, 11, 16, 3, 9, 12, 4, 6, 5, 1, 1], [7, 11, 3, 15, 14, 7, 14, 16, 9, 9, 8, 14, 9, 15, 5, 1, 5, 8, 13]]\n",
      "[[3, 9, 10, 7, 2, 2, 5, 18, 10, 16, 18, 11, 18, 2, 6, 5, 16, 15, 8], [20, 20, 8, 20, 2, 9, 5, 5, 6, 19, 12, 14, 11, 17, 1, 9, 18, 5, 15], [20, 9, 9, 13, 4, 15, 3, 14, 5, 1, 11, 20, 18, 7, 9, 15, 17, 15, 20], [19, 19, 3, 7, 15, 17, 7, 17, 9, 13, 7, 5, 2, 4, 16, 12, 7, 14, 1], [14, 14, 17, 3, 10, 13, 3, 5, 15, 7, 20, 10, 4, 6, 15, 15, 1, 13, 3], [5, 16, 13, 14, 8, 13, 6, 4, 15, 3, 11, 11, 1, 15, 4, 9, 9, 4, 8], [3, 16, 14, 12, 19, 5, 7, 14, 4, 6, 20, 16, 3, 16, 8, 4, 6, 11, 4], [17, 15, 5, 3, 5, 1, 8, 8, 3, 5, 20, 14, 7, 13, 5, 7, 18, 4, 16], [8, 18, 1, 17, 2, 7, 1, 13, 5, 3, 12, 12, 19, 6, 3, 15, 12, 1, 14], [1, 14, 10, 9, 15, 16, 9, 14, 2, 11, 3, 2, 12, 7, 6, 9, 1, 13, 4], [14, 14, 12, 8, 15, 5, 16, 7, 10, 1, 15, 12, 7, 11, 2, 13, 20, 11, 20], [15, 1, 6, 15, 6, 4, 18, 5, 5, 8, 5, 13, 15, 10, 11, 14, 14, 16, 20], [13, 17, 20, 14, 15, 14, 5, 13, 20, 17, 17, 12, 3, 15, 3, 7, 3, 1, 13], [8, 10, 2, 9, 5, 20, 10, 1, 9, 3, 6, 7, 17, 18, 18, 4, 18, 1, 6], [12, 12, 7, 2, 1, 2, 9, 8, 16, 8, 13, 13, 17, 1, 7, 6, 2, 16, 11], [13, 13, 14, 3, 17, 3, 2, 15, 4, 9, 5, 2, 15, 17, 3, 16, 4, 4, 6], [17, 15, 1, 12, 2, 14, 2, 14, 17, 11, 5, 17, 6, 15, 20, 1, 19, 17, 19], [17, 8, 8, 7, 7, 10, 10, 17, 9, 3, 5, 10, 7, 6, 16, 2, 3, 16, 17], [6, 11, 7, 11, 12, 10, 5, 7, 1, 17, 19, 5, 2, 19, 16, 15, 17, 5, 11]]\n",
      "[[7, 4, 6, 11, 15, 4, 3, 8, 20, 20, 11, 1, 14, 4, 6, 15, 15, 1, 2], [3, 19, 18, 9, 11, 7, 20, 15, 4, 8, 15, 14, 18, 7, 11, 5, 3, 18, 10], [4, 8, 14, 4, 15, 11, 9, 2, 7, 8, 15, 10, 18, 16, 20, 7, 15, 13, 10], [10, 8, 19, 8, 19, 7, 19, 6, 7, 13, 7, 5, 15, 9, 14, 4, 19, 7, 18], [18, 7, 4, 15, 5, 17, 3, 13, 11, 14, 4, 19, 3, 19, 20, 3, 6, 14, 20], [3, 19, 10, 1, 2, 11, 14, 1, 4, 2, 14, 5, 7, 13, 4, 15, 3, 19, 6], [15, 2, 18, 12, 2, 18, 17, 7, 15, 9, 10, 15, 1, 14, 10, 17, 18, 13, 15], [15, 2, 2, 11, 15, 14, 7, 8, 10, 2, 16, 6, 15, 14, 5, 6, 19, 5, 18], [12, 15, 8, 18, 2, 12, 17, 10, 8, 16, 14, 8, 18, 20, 2, 7, 6, 16, 5], [18, 9, 4, 3, 11, 13, 1, 4, 19, 3, 13, 2, 8, 10, 10, 11, 19, 3, 14], [5, 14, 12, 7, 18, 6, 13, 17, 11, 7, 6, 8, 5, 11, 5, 6, 8, 16, 1], [14, 6, 8, 1, 3, 14, 7, 5, 15, 10, 10, 16, 2, 6, 1, 5, 12, 19, 13], [12, 12, 20, 3, 4, 2, 2, 8, 13, 5, 19, 14, 20, 16, 8, 8, 15, 15, 10], [19, 15, 8, 12, 4, 17, 7, 1, 13, 3, 20, 11, 13, 1, 5, 9, 10, 4, 8], [13, 11, 15, 16, 15, 4, 15, 9, 1, 8, 12, 5, 16, 19, 14, 3, 1, 2, 14], [13, 2, 7, 1, 9, 17, 4, 4, 16, 3, 18, 4, 2, 10, 4, 12, 3, 11, 15], [11, 18, 13, 19, 2, 8, 2, 5, 6, 19, 15, 13, 16, 17, 4, 6, 6, 13, 15], [11, 4, 20, 10, 2, 16, 16, 10, 12, 4, 6, 5, 3, 12, 7, 2, 11, 17, 2], [15, 2, 16, 8, 16, 5, 8, 4, 6, 6, 17, 12, 11, 13, 4, 4, 4, 1, 6]]\n",
      "[[5, 13, 11, 18, 12, 14, 2, 2, 17, 15, 11, 11, 19, 7, 16, 10, 20, 2, 5], [12, 9, 11, 8, 13, 3, 15, 9, 6, 20, 14, 5, 20, 16, 8, 6, 5, 9, 1], [15, 6, 6, 14, 2, 5, 1, 19, 11, 12, 4, 16, 10, 5, 3, 7, 15, 15, 2], [8, 14, 6, 19, 15, 7, 8, 3, 20, 4, 7, 15, 6, 13, 8, 10, 5, 4, 11], [14, 3, 6, 15, 7, 18, 9, 5, 16, 7, 18, 11, 15, 18, 5, 11, 18, 12, 4], [5, 9, 17, 7, 14, 7, 6, 1, 9, 3, 6, 10, 11, 1, 16, 9, 16, 17, 13], [6, 6, 6, 2, 8, 8, 6, 18, 18, 15, 10, 15, 5, 7, 17, 11, 12, 11, 19], [11, 3, 12, 8, 6, 15, 14, 2, 8, 16, 20, 13, 2, 11, 9, 8, 2, 3, 6], [18, 14, 14, 11, 3, 1, 10, 19, 19, 1, 12, 1, 15, 17, 11, 15, 12, 15, 7], [9, 3, 15, 1, 5, 1, 5, 19, 7, 18, 12, 3, 13, 19, 11, 1, 1, 2, 15], [13, 18, 2, 4, 12, 8, 13, 18, 2, 18, 16, 7, 18, 10, 17, 5, 19, 17, 6], [5, 18, 4, 16, 9, 4, 15, 13, 18, 3, 10, 13, 17, 18, 6, 3, 10, 12, 9], [20, 4, 17, 7, 13, 4, 8, 18, 3, 16, 18, 19, 14, 5, 2, 20, 12, 4, 15], [6, 13, 12, 7, 8, 1, 15, 6, 18, 3, 16, 6, 2, 11, 16, 2, 6, 7, 19], [7, 17, 19, 18, 6, 2, 10, 17, 6, 3, 11, 6, 3, 9, 15, 8, 7, 9, 8], [12, 18, 14, 15, 2, 8, 6, 14, 7, 5, 8, 20, 11, 4, 8, 18, 14, 9, 6], [8, 9, 9, 10, 19, 14, 14, 4, 3, 3, 5, 18, 8, 9, 15, 8, 9, 11, 2], [9, 5, 15, 8, 12, 17, 16, 13, 6, 9, 16, 15, 12, 17, 5, 19, 4, 16, 5], [3, 16, 9, 15, 13, 15, 11, 2, 18, 8, 10, 13, 13, 10, 2, 8, 19, 10, 1]]\n",
      "\n",
      "best_n_mult result:\n",
      "6\n",
      "0 2 6859\n",
      "1 3 6859\n",
      "0 3 13718\n",
      "2 4 6859\n",
      "1 4 13718\n",
      "0 4 20577\n",
      "3 5 6859\n",
      "2 5 13718\n",
      "1 5 20577\n",
      "0 5 27436\n",
      "4 6 6859\n",
      "3 6 13718\n",
      "2 6 20577\n",
      "1 6 27436\n",
      "0 6 34295\n",
      "Best value table: [[0, 0, 6859, 13718, 20577, 27436, 34295], [0, 0, 0, 6859, 13718, 20577, 27436], [0, 0, 0, 0, 6859, 13718, 20577], [0, 0, 0, 0, 0, 6859, 13718], [0, 0, 0, 0, 0, 0, 6859], [0, 0, 0, 0, 0, 0, 0], [0, 0, 0, 0, 0, 0, 0]]\n",
      "\n",
      "write_pivots_in_postorder result:\n",
      "5\n",
      "4\n",
      "3\n",
      "2\n",
      "1\n",
      "\n",
      "Initial matrices count: 6\n",
      "Pivots order: [5, 4, 3, 2, 1]\n",
      "Pop pivot: 4\n",
      "Pop pivot: 3\n",
      "Pop pivot: 2\n",
      "Pop pivot: 1\n",
      "Pop pivot: 0\n",
      "Final matrix after multiplication:\n",
      "[[2575975032592, 2726125269222, 2763339187639, 2736137122314, 2509349793500, 2083176188834, 2524398438743, 2802157483548, 2911372191665, 2496809853290, 3082163815192, 2962284792790, 3008655619906, 2806585771196, 2630599347410, 2449685995190, 2931328320606, 2616378680772, 2118174408187], [3011404077606, 3187058860260, 3230554896301, 3198672786131, 2933462924981, 2435240470746, 2951127747880, 3275998120830, 3403619122888, 2918900872491, 3603195207110, 3463042686803, 3517201727085, 3281006637307, 3075405518344, 2863819242040, 3426841679542, 3058764679970, 2476397308279], [2730001196270, 2889199288861, 2928624719796, 2899806762103, 2659348884813, 2207730781778, 2675294834349, 2969746559663, 3085564564914, 2646060784142, 3266444323435, 3139400686311, 3188543377510, 2974414852111, 2787987084928, 2596178974788, 3106655161931, 2772851267382, 2244901526630], [2254389633997, 2385668677215, 2418326735730, 2394387174869, 2195989271695, 1823022050802, 2209209409764, 2452321040391, 2547712873529, 2185113917383, 2697387009752, 2592363055447, 2632966536541, 2456117766832, 2302105449481, 2143866283050, 2565253569510, 2289656124578, 1853704936596], [3007073518736, 3182384167594, 3225788543605, 3194114277295, 2929291629965, 2431820116736, 2946862942929, 3271159072626, 3398737936337, 2914703773803, 3597955421992, 3458049989383, 3512252725327, 3276401090202, 3070846623726, 2859614361831, 3421903355509, 3054287670462, 2472660874800], [2994463225607, 3169089466962, 3212353214812, 3180657616921, 2916941131021, 2421545327287, 2934500245125, 3257500176865, 3384370936806, 2902451688063, 3582909399688, 3443494309576, 3497438107297, 3262537134651, 3058026840446, 2847699532071, 3407554040388, 3041493092556, 2462358946982], [2595727843224, 2746899004316, 2784417102003, 2757024066186, 2528490584464, 2099038009558, 2543590488450, 2823632758737, 2933642405297, 2515992823971, 3105671050089, 2984895604968, 3031709989379, 2828063235483, 2650689842052, 2468385237852, 2953712241481, 2636315565763, 2134356228631], [2693450521133, 2850324071303, 2889330818707, 2860777146336, 2623656018382, 2178054778280, 2639400150591, 2929932449954, 3044014595104, 2610653304176, 3222653459303, 3097227976893, 3145790509811, 2934534015975, 2750491869052, 2561367489113, 3064854727154, 2735555786970, 2214745222582], [2956683384045, 3129045449875, 3171735078249, 3140550023053, 2880206369368, 2391085700691, 2897472599303, 3216270710228, 3341675190673, 2865795744719, 3537695818875, 3400086284076, 3453306919474, 3221347168837, 3019414019843, 2811742638601, 3364629995479, 3003082034020, 2431218209057], [3748086680449, 3966422725597, 4020628696539, 3980970232164, 3651026329426, 3030956498198, 3672961013569, 4077163093673, 4235903901694, 3632901057700, 4484559881106, 4310023346409, 4377618913542, 4083588489777, 3827426310587, 3564288369913, 4265003357583, 3806763017473, 3081885000688], [2862255830225, 3029049265114, 3070430796726, 3040139656982, 2788146243903, 2314641834380, 2804917766309, 3113568759540, 3234808005307, 2774259857149, 3424693701215, 3291398856301, 3343012226920, 3118473412610, 2922881474934, 2721926750164, 3257047636756, 2907111646822, 2353520029490], [2700051971090, 2857536501478, 2896495660412, 2868016785980, 2630220183331, 2183503312523, 2645972324194, 2937163778452, 3051712726972, 2617071721205, 3230616090780, 3104970485446, 3153607632963, 2941778743534, 2757408678691, 2567691714154, 3072598539153, 2742454311392, 2220255106135], [2685920418078, 2842445115198, 2881265510127, 2852899656319, 2616373747375, 2172047630712, 2632034967301, 2921813995214, 3035725057940, 2603361187284, 3213644639778, 3088705702298, 3137012626041, 2926343992131, 2742956013974, 2554229241068, 3056440961461, 2728062523146, 2208663086549], [3347971814138, 3542981371295, 3591363710172, 3555980977352, 3261211562294, 2707340654907, 3280757599302, 3641954241201, 3783751913855, 3245069870056, 4005735942975, 3849917253279, 3910262467138, 3647598541260, 3418862555823, 3183760690158, 3809716708581, 3400359500064, 2752913364451], [2567032944155, 2716640738841, 2753736693593, 2726578076319, 2500570978152, 2075892375861, 2515547995701, 2792435704639, 2901203171142, 2488101799628, 3071424204286, 2951960698409, 2998124678187, 2796702287782, 2621505106735, 2441204479463, 2921180531315, 2607275368486, 2110843065517], [3343865120109, 3538900363483, 3587193036881, 3551896761830, 3257395765929, 2704227477056, 3276936252221, 3637452110218, 3779361516085, 3241037096776, 4000999726098, 3845341712635, 3905533926695, 3643243700366, 3414899848214, 3179992408442, 3805259701550, 3396365081655, 2749655348344], [2923860290428, 3094402923794, 3136586130665, 3105752947498, 2848171577533, 2364509332124, 2865260109200, 3180645407057, 3304704947397, 2833936920835, 3498390860499, 3362343355863, 3414954879348, 3185600508931, 2985993466807, 2780540064889, 3327316992808, 2969792423677, 2404317177890], [2711034701810, 2869078470284, 2908314257791, 2879620158526, 2640936458248, 2192431363511, 2656837095474, 2949030572048, 3063982959653, 2627724945505, 3243852785668, 3117536055949, 3166456349561, 2953845244731, 2768495163159, 2578158386222, 3084966413170, 2753535737727, 2229197156412], [2285682070457, 2418990475219, 2452008607389, 2427879741767, 2226559028133, 1848430613477, 2239877949522, 2486355429676, 2583349587347, 2215409382579, 2734813725644, 2628433265072, 2669617029002, 2490298425485, 2334225201005, 2173661173189, 2601057715602, 2321529757291, 1879478459176]]\n"
     ]
    }
   ],
   "source": [
    "# A Prendre en compte\n",
    "\n",
    "import sys\n",
    "import random\n",
    "\n",
    "class MatrixMult:\n",
    "    nmbre_matr = 1\n",
    "    dimensions = []\n",
    "    MAX_VALUE = sys.maxsize\n",
    "\n",
    "    def __init__(self, dimensions, nmbre_matr):\n",
    "        self.nmbre_matr = nmbre_matr\n",
    "        self.dimensions = dimensions\n",
    "        self.best_pivot = [[0 for i in range(nmbre_matr+1)] for j in range(nmbre_matr+1)]\n",
    "        self.pivots_in_postorder = []\n",
    "\n",
    "    def best_n_mult(self, high):\n",
    "        print(high)\n",
    "        best_value = [[0 for i in range(high+1)] for j in range(high+1)]\n",
    "        h = 2\n",
    "        while h <= high:\n",
    "            l = h - 2\n",
    "            while l >= 0:\n",
    "                min_n_mult = self.MAX_VALUE + 1\n",
    "                i = l + 1\n",
    "                while i <= h - 1:\n",
    "                    n_mult = self.dimensions[l] * self.dimensions[i] * self.dimensions[h] + best_value[l][i] + best_value[i][h]\n",
    "                    if min_n_mult > n_mult:\n",
    "                        min_n_mult = n_mult\n",
    "                        self.best_pivot[l][h] = i\n",
    "                    i += 1\n",
    "                best_value[l][h] = min_n_mult\n",
    "                print(l, h, best_value[l][h])\n",
    "                l -= 1\n",
    "            h += 1\n",
    "        print(\"Best value table:\", best_value)\n",
    "        return best_value[0][high]\n",
    "\n",
    "    def write_pivots_in_postorder(self,l,h):\n",
    "        if ( l+1 < h ):\n",
    "            b = self.best_pivot[l][h]\n",
    "            self.write_pivots_in_postorder(l, b)\n",
    "            self.write_pivots_in_postorder(b, h)\n",
    "            self.pivots_in_postorder.append(b)\n",
    "            print(b)\n",
    "\n",
    "    def multiply(self, A, B):\n",
    "        \"\"\"Multiplication de deux matrices.\"\"\"\n",
    "        rows_A, cols_A = len(A), len(A[0])\n",
    "        rows_B, cols_B = len(B), len(B[0])\n",
    "        if cols_A != rows_B:\n",
    "            raise ValueError(f\"Les dimensions des matrices ne sont pas compatibles pour la multiplication. \"\n",
    "                             f\"({cols_A} != {rows_B})\")\n",
    "\n",
    "        # Créer une matrice résultat avec les bonnes dimensions\n",
    "        C = [[0 for row in range(cols_B)] for col in range(rows_A)]\n",
    "\n",
    "        for i in range(rows_A):\n",
    "            for j in range(cols_B):\n",
    "                for k in range(cols_A):\n",
    "                    C[i][j] += A[i][k] * B[k][j]\n",
    "\n",
    "        return C\n",
    "\n",
    "    def do_operation(self, pivots, matrices):\n",
    "        \"\"\"Effectue la multiplication des matrices en suivant l'ordre des pivots.\"\"\"\n",
    "        order = pivots[:]\n",
    "        current_matrices = matrices[:]\n",
    "\n",
    "        print(f\"Initial matrices count: {len(current_matrices)}\")\n",
    "        print(f\"Pivots order: {order}\")\n",
    "\n",
    "        while len(order) > 0:\n",
    "            pivot = order.pop(0) - 1\n",
    "            print(f\"Pop pivot: {pivot}\")\n",
    "            matrix1 = current_matrices[pivot]\n",
    "            matrix2 = current_matrices.pop(pivot + 1)\n",
    "            result = self.multiply(matrix1, matrix2)\n",
    "            current_matrices.insert(pivot, result)\n",
    "\n",
    "        return current_matrices[0]\n",
    "\n",
    "\n",
    "# Generate the random values as per the instructions\n",
    "nmbre_matr = random.randint(3, 6)  # Generates a random number of matrices between 3 and 6\n",
    "dimensions = [random.randint(2, 19) for _ in range(nmbre_matr + 1)]  # Random dimensions\n",
    "\n",
    "# Ensure matrices have compatible dimensions\n",
    "for i in range(1, len(dimensions)):\n",
    "    dimensions[i] = dimensions[i-1]  # Ensure dimension compatibility\n",
    "\n",
    "print(\"Randomly generated number of matrices and dimensions:\")\n",
    "print(f\"Number of matrices: {nmbre_matr}\")\n",
    "print(f\"Dimensions: {dimensions}\")\n",
    "print()\n",
    "\n",
    "# Generate random matrices with the specified dimensions\n",
    "matrices = [\n",
    "    [[random.randint(1, 20) for _ in range(dimensions[i + 1])] for _ in range(dimensions[i])]\n",
    "    for i in range(nmbre_matr)\n",
    "]\n",
    "\n",
    "print(\"Randomly generated matrices:\")\n",
    "for matrix in matrices:\n",
    "    print(matrix)\n",
    "print()\n",
    "\n",
    "# Use the MatrixMult class with generated data\n",
    "a = MatrixMult(dimensions, nmbre_matr)\n",
    "print(\"best_n_mult result:\")\n",
    "a.best_n_mult(nmbre_matr)\n",
    "print()\n",
    "\n",
    "print(\"write_pivots_in_postorder result:\")\n",
    "a.write_pivots_in_postorder(0, nmbre_matr)\n",
    "print()\n",
    "\n",
    "# Multiply matrices in the correct order\n",
    "pivots = a.pivots_in_postorder\n",
    "final_matrix = a.do_operation(pivots, matrices)\n",
    "\n",
    "print(\"Final matrix after multiplication:\")\n",
    "print(final_matrix)"
   ],
   "metadata": {
    "collapsed": false,
    "ExecuteTime": {
     "end_time": "2024-11-07T18:23:46.326537Z",
     "start_time": "2024-11-07T18:23:46.292744Z"
    }
   },
   "id": "194beb7b6cfaa1f6",
   "execution_count": 6
  },
  {
   "cell_type": "code",
   "execution_count": 3,
   "id": "c1fd10ee-e325-40e9-8e21-081905a50ec5",
   "metadata": {
    "id": "c1fd10ee-e325-40e9-8e21-081905a50ec5",
    "ExecuteTime": {
     "end_time": "2024-11-06T21:49:41.471108Z",
     "start_time": "2024-11-06T21:49:41.461459Z"
    }
   },
   "outputs": [
    {
     "name": "stdout",
     "output_type": "stream",
     "text": [
      "Dimensions vector:\n",
      "5 [3, 3, 3, 3, 2, 2]\n",
      "\n",
      "\"Random\" matrices: \n",
      "[[[10, 6, 19], [7, 16, 13], [8, 12, 18]], [[13, 20, 14], [6, 8, 5], [14, 3, 9]], [[15, 18, 1], [7, 7, 6], [6, 20, 17]], [[4, 1], [14, 14], [15, 9]], [[6, 10], [17, 17]]]\n",
      "\n",
      "best_n_mult: \n",
      "5\n",
      "0 2 27\n",
      "1 3 27\n",
      "0 3 54\n",
      "2 4 18\n",
      "1 4 36\n",
      "0 4 54\n",
      "3 5 12\n",
      "2 5 30\n",
      "1 5 48\n",
      "0 5 66\n",
      "Best value table: [[0, 0, 27, 54, 54, 66], [0, 0, 0, 27, 36, 48], [0, 0, 0, 0, 18, 30], [0, 0, 0, 0, 0, 12], [0, 0, 0, 0, 0, 0], [0, 0, 0, 0, 0, 0]]\n",
      "\n",
      "write_pivots_in_postorder: \n",
      "4\n",
      "3\n",
      "2\n",
      "1\n",
      "\n",
      "Initial matrices count: 5\n",
      "Pivots order: [4, 3, 2, 1]\n",
      "Pop pivot: 3\n",
      "Pop pivot: 2\n",
      "Pop pivot: 1\n",
      "Pop pivot: 0\n",
      "Final matrix:\n",
      "[[7782820, 9373872], [6874034, 8281554], [7700480, 9274968]]\n"
     ]
    }
   ],
   "source": [
    "# Nous vous mettons à disposition une matrice pour que vous puissiez tester votre algorithme de multiplication matricielle.\n",
    "# Vous devez quand même implémenter la partie \"aléatoire\" demandée et la tester vous-même.\n",
    "dimensions = [3, 3, 3, 3, 2, 2]\n",
    "nmbre_matr = 5\n",
    "print(\"Dimensions vector:\")\n",
    "print(nmbre_matr, dimensions)\n",
    "print()\n",
    "\n",
    "print(\"\\\"Random\\\" matrices: \")\n",
    "# Vous pouvez convertir l'équivalent de cette matrice 3D en la structure de données que vous avez implémentée\n",
    "matrices = [[[10,6,19],[7,16,13],[8,12,18]],[[13,20,14],[6,8,5],[14,3,9]],[[15,18,1],[7,7,6],[6,20,17]],[[4,1],[14,14],[15,9]],[[6,10],[17,17]]]\n",
    "print(matrices)\n",
    "print()\n",
    "a = MatrixMult(dimensions, nmbre_matr)\n",
    "print(\"best_n_mult: \")\n",
    "a.best_n_mult(nmbre_matr)\n",
    "print()\n",
    "print(\"write_pivots_in_postorder: \")\n",
    "a.write_pivots_in_postorder( 0, nmbre_matr)\n",
    "print()\n",
    "\n",
    "# Fonction qui multiplie les matrices dans le bon ordre.\n",
    "# Vous n'êtes pas obligé de l'utiliser et vous pouvez utiliser une autre fonction que vous avez créée.\n",
    "# Si c'est le cas, apportez les modifications nécessaires ici pour que l'assertion fonctionne\n",
    "pivots = a.pivots_in_postorder\n",
    "final_matrix = a.do_operation(pivots, matrices)\n",
    "\n",
    "print(\"Final matrix:\")\n",
    "print(final_matrix)\n",
    "assert final_matrix == [[7782820,9373872],[6874034,8281554],[7700480,9274968]]"
   ]
  },
  {
   "cell_type": "markdown",
   "id": "2ca32f2e-e995-477c-8535-62f6e42dc093",
   "metadata": {
    "id": "2ca32f2e-e995-477c-8535-62f6e42dc093"
   },
   "source": [
    "### Explications"
   ]
  },
  {
   "cell_type": "markdown",
   "id": "f5a17952-cba5-4bc4-9a41-aa68a0b0d806",
   "metadata": {
    "id": "f5a17952-cba5-4bc4-9a41-aa68a0b0d806"
   },
   "source": [
    "### Comment cela fonctionne-t-il ?\n",
    "\n",
    "Nous avons complété la suite du programme en écrivant les fonctions `multiply` et `do_operations`.\n",
    "\n",
    "- La fonction `multiply` effectue la multiplication de deux matrices en tenant compte des propriétés essentielles pour que la multiplication matricielle soit valide (dimensions compatibles et application de la règle de multiplication matricielle).\n",
    "\n",
    "- La fonction `do_operations` prend en paramètres les pivots et les matrices, et effectue la multiplication des matrices dans l'ordre spécifié par les pivots. Elle utilise la fonction `multiply` pour effectuer chaque multiplication. Enfin, la fonction retourne la matrice résultante après toutes les multiplications.\n",
    "\n",
    "### Illustration de comment fonctionne `do_operations` :\n",
    "\n",
    "Voici un exemple concret pour comprendre l'algorithme de multiplication des matrices avec les pivots.\n",
    "\n",
    "- Supposons que les pivots soient `[1, 2, 4, 3]` et que nous ayons les matrices `[A_1, A_2, A_3, A_4]`. Voici comment la fonction `do_operations` procéderait :\n",
    "\n",
    "  - Premier pivot (1) : On prend \\( A_1 \\) et \\( A_2 \\), et on les multiplie pour obtenir \\( R_1 \\).\n",
    "  - Deuxième pivot (2) : On prend \\( R_1 \\) et \\( A_2 \\), et on les multiplie pour obtenir \\( R_2 \\).\n",
    "  - Troisième pivot (4) : On prend \\( R_2 \\) et \\( A_4 \\), et on les multiplie pour obtenir \\( R_3 \\).\n",
    "  - Quatrième pivot (3) : On prend \\( R_3 \\) et \\( A_3 \\), et on les multiplie pour obtenir \\( R_4 \\), la matrice finale.\n",
    "\n",
    "\n",
    "### Comment nous avons implémenté chaque étape :\n",
    "\n",
    "1. **Générer un nombre entier aléatoire `random` plus grand ou égal à 3 (le nombre de matrices)**  \n",
    "   - La valeur de `random` est générée aléatoirement entre 3 et 6 à l'aide de `random.randint(3, 6)`. Cela détermine le nombre de matrices à générer.\n",
    "\n",
    "2. **Générer un vecteur de `random` + 1 dimensions aléatoires comprises entre 2 et 19**  \n",
    "   - Un vecteur `dimensions` est généré avec `random.randint(2, 19)` pour chaque élément, créant des dimensions aléatoires pour chaque matrice. Les dimensions sont compatibles entre matrices successives.\n",
    "\n",
    "3. **Générer `random` matrices avec les dimensions spécifiées**  \n",
    "   - Des matrices sont générées avec des valeurs aléatoires entre 1 et 20. Chaque matrice `M_i` a des dimensions définies par `D_i-1` × `D_i`.\n",
    "\n",
    "4. **Programmer l'algorithme de recherche de la meilleure combinaison**  \n",
    "   - L'algorithme de \"Matrix Chain Multiplication\" est implémenté dans la méthode `best_n_mult`. Cela calcule les coûts de multiplication pour chaque combinaison de matrices et choisit la meilleure.\n",
    "\n",
    "5. **Trouver la meilleure combinaison et multiplier les matrices selon cet ordre**  \n",
    "   - Le tableau `best_pivot` contient les pivots optimaux. Après avoir trouvé la meilleure combinaison dans `best_n_mult`, les pivots sont utilisés pour définir l'ordre optimal de multiplication.\n",
    "\n",
    "6. **Tester avec des combinaisons aléatoires et compter les multiplications scalaires**  \n",
    "   - Dans la fonction `do_operation`, les matrices sont multipliées selon l'ordre des pivots trouvés, et l'algorithme suit cet ordre pour minimiser les opérations scalaires. Le compteur de multiplications est géré implicitement dans la méthode `multiply`.\n",
    "\n"
   ]
  },
  {
   "cell_type": "markdown",
   "id": "X8kNNBha4QW-",
   "metadata": {
    "id": "X8kNNBha4QW-"
   },
   "source": [
    "## Exercice 2 - La revanche du puits magique"
   ]
  },
  {
   "cell_type": "markdown",
   "id": "yGjdSF4E4d6U",
   "metadata": {
    "id": "yGjdSF4E4d6U"
   },
   "source": [
    "Lors du cours de récurrence, vous aviez certainement effectué une recherche exhaustive en créant un arbre des possibilités et en prenant le minimum parmi les feuilles. Cet algorithme, tout à fait correct pour une première approche, avait cependant une complexité temporelle de $O(3^L)$. Nous allons utiliser la programmation dynamique pour améliorer cela.\n",
    "\n",
    "Prenons une liste $u$ de termes $u_{i}$ correspondant au plus petit nombre de pièces pour obtenir $i$ fleurs. Que valent $u_0$ et $u_1$ ?"
   ]
  },
  {
   "cell_type": "markdown",
   "id": "Rc6GJuHE6AzN",
   "metadata": {
    "id": "Rc6GJuHE6AzN"
   },
   "source": [
    "<< A REMPLIR PAR L'ETUDIANT >>"
   ]
  },
  {
   "cell_type": "markdown",
   "id": "akkkVK9p6BXw",
   "metadata": {
    "id": "akkkVK9p6BXw"
   },
   "source": [
    "Pour $i>1$, il existe deux façons possibles d'obtenir $i$ fleurs - soit nous collectons d'abord $i-1$ fleurs, puis utilisons une opération d'une pièce pour obtenir un autre fleurs, soit la dernière opération doit avoir été une opération de deux pièces. Cela signifie que nous avions demandé au puits de se souvenir de l'état de notre panier à $k$ fleurs (où $k$ est un diviseur de $i$) et ensuite appliqué $\\frac{i}{k}-1$ opérations de deux pièces.\n",
    "\n",
    "Avec une expression plus formelle, nous aurions une formule similaire à cela (formule $(1)$) :"
   ]
  },
  {
   "cell_type": "markdown",
   "id": "qUpH5bxn7Nmm",
   "metadata": {
    "id": "qUpH5bxn7Nmm"
   },
   "source": [
    "$$u_{i}=\\min \\left(□, \\min _{k \\mid i}\\left\\{u_{k}+4+2\\left(\\frac{i}{k}-1\\right)\\right\\}\\right).$$"
   ]
  },
  {
   "cell_type": "markdown",
   "id": "DpDO2067DkqW",
   "metadata": {
    "id": "DpDO2067DkqW"
   },
   "source": [
    "Que faudrait-il mettre à la place du \"□\" ?"
   ]
  },
  {
   "cell_type": "markdown",
   "id": "34nUc0pHEBYh",
   "metadata": {
    "id": "34nUc0pHEBYh"
   },
   "source": [
    "<< A REMPLIR PAR L'ETUDIANT >>"
   ]
  },
  {
   "cell_type": "markdown",
   "id": "WJmAu0hf8kiU",
   "metadata": {
    "id": "WJmAu0hf8kiU"
   },
   "source": [
    "Au lieu d'itérer sur les diviseurs de $i$ comme la formule nous le permettrait, nous allons procéder comme suit :\n",
    "\n",
    "Au début, nous pouvons dire que toutes les valeurs de la suite, les $u_i$ (sauf $u_0$ et $u_1$), sont égales à l'infini. Maintenant, parcourons toutes les valeurs de $i$ de $2$ à $N$ ($N$ étant un entier que vous choisirez à votre convenance...). Une des possibilités est d'utiliser une pièce et ainsi passer de $i-1$ fleurs à $i$ fleurs, donc nous pouvons dire que $u_i\\leftarrow \\min(u_i, u_{i-1}+1)$.\n",
    "\n",
    "À présent, lorsque nous avons déjà $i$ fleurs, nous pouvons également utiliser quatre pièces pour mémoriser l'état de notre panier, puis obtenir plus tard $j \\cdot i$ fleurs du puits. Nous devrions donc mettre à jour $u_i$ pour tous les multiples de $i$ avec la formule $(2)$:"
   ]
  },
  {
   "cell_type": "markdown",
   "id": "tpQtWF92ErxG",
   "metadata": {
    "id": "tpQtWF92ErxG"
   },
   "source": [
    "$$u_{j \\cdot i} = \\min(u_{j \\cdot i}, u_i + 4 + 2 \\cdot (j - 1)), i < j \\cdot i ≤ N$$"
   ]
  },
  {
   "cell_type": "markdown",
   "id": "-rAClpJFEx5D",
   "metadata": {
    "id": "-rAClpJFEx5D"
   },
   "source": [
    "Implémentez ce travail dans la fonction suivante :"
   ]
  },
  {
   "cell_type": "code",
   "execution_count": 4,
   "id": "UeKGIG_94RdC",
   "metadata": {
    "id": "UeKGIG_94RdC",
    "ExecuteTime": {
     "end_time": "2024-11-06T21:49:41.478891Z",
     "start_time": "2024-11-06T21:49:41.474412Z"
    }
   },
   "outputs": [],
   "source": [
    "import math\n",
    "\n",
    "def min_well_coin(L):\n",
    "    U = [math.inf] * (L + 1)\n",
    "    U[0] = 0\n",
    "    U[1] = 1\n",
    "\n",
    "    # For each i...\n",
    "    for i in range(2, L + 1):\n",
    "        # u_i can be obtained from u_i-1\n",
    "        U[i] = None  # A COMPLETER\n",
    "        # We then update all divisors of i\n",
    "        for k in range(1, i):\n",
    "            division_condition = None  # A COMPLETER\n",
    "            if division_condition:\n",
    "                # Formula (2):\n",
    "                U[i] = min(None, None)  # A COMPLETER\n",
    "\n",
    "    # Return the correct term from the U sequence\n",
    "    return None  # A COMPLETER"
   ]
  },
  {
   "cell_type": "code",
   "execution_count": 5,
   "id": "FXxForz_APsN",
   "metadata": {
    "id": "FXxForz_APsN",
    "ExecuteTime": {
     "end_time": "2024-11-06T21:49:41.790037Z",
     "start_time": "2024-11-06T21:49:41.481531Z"
    }
   },
   "outputs": [
    {
     "ename": "AssertionError",
     "evalue": "",
     "output_type": "error",
     "traceback": [
      "\u001B[0;31m---------------------------------------------------------------------------\u001B[0m",
      "\u001B[0;31mAssertionError\u001B[0m                            Traceback (most recent call last)",
      "Cell \u001B[0;32mIn[5], line 1\u001B[0m\n\u001B[0;32m----> 1\u001B[0m \u001B[38;5;28;01massert\u001B[39;00m min_well_coin(\u001B[38;5;241m12\u001B[39m) \u001B[38;5;241m==\u001B[39m \u001B[38;5;241m12\u001B[39m\n\u001B[1;32m      2\u001B[0m \u001B[38;5;28;01massert\u001B[39;00m min_well_coin(\u001B[38;5;241m13\u001B[39m) \u001B[38;5;241m==\u001B[39m \u001B[38;5;241m13\u001B[39m\n\u001B[1;32m      3\u001B[0m \u001B[38;5;28;01massert\u001B[39;00m min_well_coin(\u001B[38;5;241m15\u001B[39m) \u001B[38;5;241m==\u001B[39m \u001B[38;5;241m13\u001B[39m\n",
      "\u001B[0;31mAssertionError\u001B[0m: "
     ]
    }
   ],
   "source": [
    "assert min_well_coin(12) == 12\n",
    "assert min_well_coin(13) == 13\n",
    "assert min_well_coin(15) == 13\n",
    "assert min_well_coin(16) == 14\n",
    "assert min_well_coin(17) == 15\n",
    "assert min_well_coin(18) == 14\n",
    "assert min_well_coin(19) == 15\n",
    "assert min_well_coin(21) == 15\n",
    "assert min_well_coin(22) == 16\n",
    "assert min_well_coin(23) == 17\n",
    "assert min_well_coin(93) == 27\n",
    "assert min_well_coin(94) == 28\n",
    "assert min_well_coin(96) == 26\n",
    "assert min_well_coin(97) == 27"
   ]
  },
  {
   "cell_type": "markdown",
   "id": "1HZp1MJnHxqy",
   "metadata": {
    "id": "1HZp1MJnHxqy"
   },
   "source": [
    "Que pouvait-on choisir pour $N$ en fin de compte ?"
   ]
  },
  {
   "cell_type": "markdown",
   "id": "D7d5dWC4H6GD",
   "metadata": {
    "id": "D7d5dWC4H6GD"
   },
   "source": [
    "<< A REMPLIR PAR L'ETUDIANT >>"
   ]
  },
  {
   "cell_type": "markdown",
   "id": "qpkOqmB8E20g",
   "metadata": {
    "id": "qpkOqmB8E20g"
   },
   "source": [
    "Affichez sur un graphe les valeurs de la fonction pour $L$ allant de $0$ à $1000$. Quel est l'aspect du graphe ?"
   ]
  },
  {
   "cell_type": "code",
   "execution_count": null,
   "id": "OL5W4uOAFDaZ",
   "metadata": {
    "id": "OL5W4uOAFDaZ",
    "ExecuteTime": {
     "end_time": "2024-11-06T21:49:41.792252Z",
     "start_time": "2024-11-06T21:49:41.791445Z"
    }
   },
   "outputs": [],
   "source": [
    "# A COMPLETER"
   ]
  },
  {
   "cell_type": "markdown",
   "id": "qdCXdJCdFFuw",
   "metadata": {
    "id": "qdCXdJCdFFuw"
   },
   "source": [
    "### Explications"
   ]
  },
  {
   "cell_type": "markdown",
   "id": "oNzBakvJFPFL",
   "metadata": {
    "id": "oNzBakvJFPFL"
   },
   "source": [
    "<< A REMPLIR PAR L'ETUDIANT >>"
   ]
  },
  {
   "cell_type": "markdown",
   "id": "6iBPzZVoFWbJ",
   "metadata": {
    "id": "6iBPzZVoFWbJ"
   },
   "source": [
    "Quelle est la complexité temporelle de cet algorithme ? Que pouvez-vous en dire au regard de la recherche exhaustive codée plus tôt en lab ?"
   ]
  },
  {
   "cell_type": "markdown",
   "id": "Yy_cvNWoFQTU",
   "metadata": {
    "id": "Yy_cvNWoFQTU"
   },
   "source": [
    "### Explications"
   ]
  },
  {
   "cell_type": "markdown",
   "id": "fcVl13CNFjIV",
   "metadata": {
    "id": "fcVl13CNFjIV"
   },
   "source": [
    "<< A REMPLIR PAR L'ETUDIANT >>"
   ]
  }
 ],
 "metadata": {
  "colab": {
   "provenance": []
  },
  "interpreter": {
   "hash": "4d627b3ea71e790ed7d9c294cc76e400708b53c97c06f52348911b9296e7b669"
  },
  "kernelspec": {
   "display_name": "Python 3 (ipykernel)",
   "language": "python",
   "name": "python3"
  },
  "language_info": {
   "codemirror_mode": {
    "name": "ipython",
    "version": 3
   },
   "file_extension": ".py",
   "mimetype": "text/x-python",
   "name": "python",
   "nbconvert_exporter": "python",
   "pygments_lexer": "ipython3",
   "version": "3.8.8"
  }
 },
 "nbformat": 4,
 "nbformat_minor": 5
}
