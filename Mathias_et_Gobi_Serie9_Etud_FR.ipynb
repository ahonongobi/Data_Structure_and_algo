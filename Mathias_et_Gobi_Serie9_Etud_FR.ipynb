{
 "cells": [
  {
   "cell_type": "markdown",
   "source": [
    "Team members :\n",
    "* Member 1: **Pelissier Mathias**\n",
    "* Member 2: **Ahonon Gobi Parfait**\n",
    "\n"
   ],
   "metadata": {
    "collapsed": false
   },
   "id": "879d69cfe667d925"
  },
  {
   "cell_type": "markdown",
   "id": "3753f8ac-fd3a-4817-9c73-7772af832027",
   "metadata": {
    "id": "3753f8ac-fd3a-4817-9c73-7772af832027"
   },
   "source": [
    "# Série 9\n",
    "\n",
    "Ce document contient les différents exercices à réaliser. Veuillez compléter et rendre ces exercices dans deux semaines.\n",
    "\n",
    "Pour chaque exercice:\n",
    "* implémentez ce qui est demandé\n",
    "* commentez votre code\n",
    "* expliquez **en français** ce que vous avez codé dans la cellule correspondante\n",
    "\n",
    "Dans vos explications à chacun des exercices, indiquez un pourcentage subjectif d'investissement de chaque membre du groupe.\n",
    "**Des interrogations aléatoires en classe pourront être réalisées pour vérifier votre contribution/compréhension**.\n",
    "\n",
    "Les tentatives infructueuses, les explications, commentaires et analyses des échecs **rapportent des points**. Ne rendez pas copie-blanche, même si votre fonction n'est pas correcte."
   ]
  },
  {
   "cell_type": "markdown",
   "id": "1fb0b066-c859-40a3-a8d6-7bcc656f8764",
   "metadata": {
    "id": "1fb0b066-c859-40a3-a8d6-7bcc656f8764"
   },
   "source": [
    "## Exercice 1 (Gobi 100%)\n",
    "Écrivez une file de priorité (priority queue) à l'aide d'une structure de donnée \"monceau\" (heap), appelée `BinaryHeap`. La classe doit implémenter l'interface `PriorityQueue`.\n",
    "\n",
    "La solution doit également comporter des classes qui modélisent les éléments à insérer dans la priority queue. À cette fin, écrivez la class `KeyValuePair` qui implémentes l'interface `Comparable`, en utilisant un nombre entier comme clé et une chaîne de caractères comme valeur."
   ]
  },
  {
   "cell_type": "code",
   "execution_count": 20,
   "id": "90510640",
   "metadata": {
    "id": "90510640",
    "ExecuteTime": {
     "end_time": "2024-12-01T13:48:23.334607Z",
     "start_time": "2024-12-01T13:48:23.327438Z"
    }
   },
   "outputs": [],
   "source": [
    "#\n",
    "# > Cette cellule n'a pas besoin d'être modifiée pour la série !\n",
    "#\n",
    "\n",
    "# Une interface qui indique un contrat pour des instances qui peuvent être comparables.\n",
    "class Comparable:\n",
    "    # Vérifie si cet objet est plus petit qu'un autre objet o\n",
    "    # Retourne True si l'objet courant est plus petit que o\n",
    "    # Retourne False si l'objet courant n'est pas plus petit que o\n",
    "    def less_than(self, rhs) -> bool:\n",
    "        raise NotImplementedError\n",
    "\n",
    "    # Compare cet objet avec un autre objet o\n",
    "    # Retourne un entier négatif si cet objet est plus petit que o\n",
    "    # Retourne un entier positif si cet objet est plus grand que o\n",
    "    # Retourne un 0 si cet objet est égal à o\n",
    "    def compares(self, rhs) -> int:\n",
    "        raise NotImplementedError\n",
    "\n",
    "# An interface that specifies the primitives of a priority queue.\n",
    "class PriorityQueue:\n",
    "    # Ajoute un objet Comparable (x) dans le heap\n",
    "    def insert( self, x ): # x is of type Comparable\n",
    "        raise NotImplementedError\n",
    "\n",
    "    # Supprime et retourne l'entrée la plus petite\n",
    "    def delete_min(self) -> Comparable: # throws UnderflowException\n",
    "        raise NotImplementedError\n",
    "\n",
    "    # Retourne le plus petit élément sans le supprimer\n",
    "    def find_min(self) -> Comparable: # throws UnderflowException\n",
    "        raise NotImplementedError\n",
    "\n",
    "    # Supprimer toutes les entrées du heap\n",
    "    def make_empty(self):\n",
    "        raise NotImplementedError\n",
    "\n",
    "    # Détermine si la collection est vide\n",
    "    def is_empty(self) -> bool:\n",
    "        raise NotImplementedError\n",
    "\n",
    "    # Retourne le nombre d'éléments stockés dans la collection\n",
    "    def size(self) -> int:\n",
    "        raise NotImplementedError\n",
    "\n",
    "# L'exception est levée lors d'accès aux éléments d'une collection vide\n",
    "class UnderflowException(Exception):\n",
    "    pass"
   ]
  },
  {
   "cell_type": "code",
   "execution_count": 21,
   "id": "f7d53256-24f6-4c2c-860f-2b0577daf6db",
   "metadata": {
    "id": "f7d53256-24f6-4c2c-860f-2b0577daf6db",
    "ExecuteTime": {
     "end_time": "2024-12-01T13:48:24.000508Z",
     "start_time": "2024-12-01T13:48:23.977334Z"
    }
   },
   "outputs": [],
   "source": [
    "# L'implémentation à écrire pour l'élément inséré dans le monceau.\n",
    "class KeyValuePair(Comparable):\n",
    "    def __init__(self, key: int, value: str):\n",
    "        self.key = key\n",
    "        self.value = value\n",
    "\n",
    "    def get_key(self) -> int:\n",
    "        return self.key\n",
    "\n",
    "    def get_value(self) -> str:\n",
    "        return self.value\n",
    "\n",
    "    def less_than(self, rhs) -> bool:\n",
    "        return self.compares(rhs) < 0\n",
    "\n",
    "    def compares(self, rhs) -> int:\n",
    "        return self.key - rhs.get_key()\n",
    "\n",
    "    def __str__(self):\n",
    "        return str(self.key) + \" , \" + self.value\n",
    "\n",
    "# L'implémentation à écrire avec un monceau, implémentant l'interface PriorityQueue.\n",
    "class BinaryHeap(PriorityQueue):\n",
    "    def __init__(self):\n",
    "        self.current_size = 0\n",
    "        self.array = [None] * 10\n",
    "    \n",
    "    def insert(self, x):\n",
    "        if self.current_size == len(self.array) - 1: # Si le tableau est plein alors on le redimensionne\n",
    "            self.array = self.resize()\n",
    "        self.current_size += 1 # On incrémente la taille du tableau\n",
    "        hole = self.current_size # On initialise le trou à la taille du tableau\n",
    "        self.array[0] = x # On met x dans la première case du tableau\n",
    "        while x.compares(self.array[hole // 2]) < 0: # Tant que x est plus petit que le parent\n",
    "            self.array[hole] = self.array[hole // 2] # On déplace le parent vers le trou\n",
    "            hole = hole // 2 # On déplace le trou vers le parent\n",
    "        self.array[hole] = x # On met x dans le trou\n",
    "\n",
    "    def delete_min(self):\n",
    "        if self.is_empty():\n",
    "            raise UnderflowException\n",
    "        min_item = self.array[1]\n",
    "        self.array[1] = self.array[self.current_size]\n",
    "        self.current_size -= 1\n",
    "        self.percolate_down(1)\n",
    "        return min_item\n",
    "\n",
    "    def find_min(self):\n",
    "        if self.is_empty():\n",
    "            raise UnderflowException\n",
    "        return self.array[1]\n",
    "\n",
    "    def make_empty(self):\n",
    "        self.current_size = 0\n",
    "\n",
    "    def is_empty(self):\n",
    "        return self.current_size == 0\n",
    "\n",
    "    def size(self):\n",
    "        return self.current_size\n",
    "\n",
    "    def percolate_down(self, hole):\n",
    "        child = 0\n",
    "        tmp = self.array[hole]\n",
    "        while hole * 2 <= self.current_size:\n",
    "            child = hole * 2\n",
    "            if child != self.current_size and self.array[child + 1].compares(self.array[child]) < 0:\n",
    "                child += 1\n",
    "            if self.array[child].compares(tmp) < 0:\n",
    "                self.array[hole] = self.array[child]\n",
    "            else:\n",
    "                break\n",
    "            hole = child\n",
    "        self.array[hole] = tmp\n",
    "\n",
    "    def resize(self):\n",
    "        new_array = [None] * len(self.array) * 2\n",
    "        for i in range(len(self.array)):\n",
    "            new_array[i] = self.array[i]\n",
    "        return new_array"
   ]
  },
  {
   "cell_type": "code",
   "execution_count": 22,
   "id": "38b90d03",
   "metadata": {
    "id": "38b90d03",
    "ExecuteTime": {
     "end_time": "2024-12-01T13:48:31.869237Z",
     "start_time": "2024-12-01T13:48:31.854897Z"
    }
   },
   "outputs": [],
   "source": [
    "pq = BinaryHeap()\n",
    "assert pq.is_empty()\n",
    "assert pq.size() == 0\n",
    "kv1 = KeyValuePair(5, \"a\")\n",
    "kv2 = KeyValuePair(3, \"b\")\n",
    "kv3 = KeyValuePair(8, \"c\")\n",
    "kv4 = KeyValuePair(7, \"d\")\n",
    "kv5 = KeyValuePair(1, \"e\")\n",
    "\n",
    "# Doit lever une exception de type UnderflowException.\n",
    "try:\n",
    "    pq.find_min()\n",
    "except UnderflowException:\n",
    "    pass\n",
    "\n",
    "# Doit lever une exception de type UnderflowException.\n",
    "try:\n",
    "    pq.delete_min()\n",
    "except UnderflowException:\n",
    "    pass\n",
    "\n",
    "pq.insert(kv1)\n",
    "# LE HEAP DOIT ETRE [5, a] A CE STADE\n",
    "assert not pq.is_empty()\n",
    "assert pq.find_min().get_key() == 5\n",
    "assert pq.size() == 1\n",
    "\n",
    "pq.insert(kv2)\n",
    "# LE HEAP DOIT ETRE [3, b][5, a] A CE STADE\n",
    "assert pq.find_min().get_key() == 3\n",
    "assert pq.size() == 2\n",
    "\n",
    "pq.insert(kv3)\n",
    "# LE HEAP DOIT ETRE [3, b][5, a][8, c] A CE STADE\n",
    "assert pq.find_min().get_key() == 3\n",
    "assert pq.size() == 3\n",
    "\n",
    "pq.insert(kv4)\n",
    "# LE HEAP DOIT ETRE [3, b][5, a][8, c][7, d] A CE STADE\n",
    "assert pq.find_min().get_key() == 3\n",
    "assert pq.size() == 4\n",
    "\n",
    "pq.insert(kv5)\n",
    "# LE HEAP DOIT ETRE [1 , e][3 , b][8 , c][7 , d][5 , a] A CE STADE\n",
    "assert pq.find_min().get_key() == 1\n",
    "assert pq.size() == 5\n",
    "\n",
    "# Tests the primitives\n",
    "list_of_key_value_pairs = []\n",
    "for i in range(5):\n",
    "    list_of_key_value_pairs.append(pq.delete_min())\n",
    "\n",
    "list_of_key_value_pairs.reverse()\n",
    "for i in range(len(list_of_key_value_pairs)):\n",
    "    pq.insert(list_of_key_value_pairs[i])\n",
    "\n",
    "# THE HEAP MUST BE [1 , e][3 , b][8 , c][7 , d][5 , a] AT THIS POINT\n",
    "assert pq.find_min().get_key() == 1\n",
    "assert pq.size() == 5\n",
    "\n",
    "min1 = pq.delete_min().get_key()\n",
    "# LE HEAP DOIT ETRE [3 , b][5 , a][8 , c][7 , d] A CE STADE\n",
    "assert pq.find_min().get_key() == 3\n",
    "assert pq.size() == 4\n",
    "assert min1 == 1\n",
    "\n",
    "min2 = pq.delete_min().get_key()\n",
    "# LE HEAP DOIT ETRE [5 , a][7 , d][8 , c] A CE STADE\n",
    "assert min2 == 3\n",
    "assert pq.find_min().get_key() == 5\n",
    "assert pq.size() == 3\n",
    "\n",
    "pq.make_empty()\n",
    "assert pq.size() == 0\n",
    "assert pq.is_empty()"
   ]
  },
  {
   "cell_type": "markdown",
   "id": "2ca32f2e-e995-477c-8535-62f6e42dc093",
   "metadata": {
    "id": "2ca32f2e-e995-477c-8535-62f6e42dc093"
   },
   "source": [
    "### Explications"
   ]
  },
  {
   "cell_type": "markdown",
   "id": "f5a17952-cba5-4bc4-9a41-aa68a0b0d806",
   "metadata": {
    "id": "f5a17952-cba5-4bc4-9a41-aa68a0b0d806"
   },
   "source": [
    "1. **Classe `KeyValuePair`** : Cette classe représente un élément de la file de priorité avec une clé entière et une valeur de type chaîne. Elle implémente l'interface `Comparable`, offrant deux méthodes principales :\n",
    "   - `less_than` pour vérifier si l'objet courant est plus petit qu'un autre.\n",
    "   - `compares` pour comparer les clés des objets.\n",
    "\n",
    "2. **Classe `BinaryHeap`** : Implémente une file de priorité en utilisant un monceau binaire. Voici les méthodes principales :\n",
    "   - **`insert(x)`** : Insère un élément dans le monceau. Si le tableau est plein, il est redimensionné. L'élément est ajouté à la fin et remonté jusqu'à sa position correcte.\n",
    "   - **`delete_min()`** : Supprime et retourne l'élément le plus petit (la racine). L'élément à la fin est déplacé à la racine et \"percolé\" vers le bas jusqu'à ce que la structure soit rétablie.\n",
    "   - **`find_min()`** : Retourne l'élément le plus petit sans le supprimer.\n",
    "   - **`make_empty()`** : Vide le monceau.\n",
    "   - **`is_empty()`** : Vérifie si le monceau est vide.\n",
    "   - **`size()`** : Retourne la taille actuelle du monceau.\n",
    "   - **`percolate_down(hole)`** : Aide à rétablir l'ordre du monceau après une suppression en déplaçant un élément vers le bas.\n",
    "   - **`resize()`** : Agrandit le tableau si nécessaire lorsque le monceau est plein.\n"
   ]
  },
  {
   "cell_type": "markdown",
   "id": "434c30c3-795c-4a76-9cea-4037102c653c",
   "metadata": {
    "tags": [],
    "id": "434c30c3-795c-4a76-9cea-4037102c653c"
   },
   "source": [
    "## Exercice 2 (Mathias 100%)\n",
    "Utilisez votre implémentation de la structure de données priority queue pour trier efficacement une liste d'objets (une liste de candidats à une élection donnée) en fonction des votes reçus et des noms.\n",
    "\n",
    "La liste reçue en input doit être donnée dans un fichier texte (disponible sur Moodle), en suivant le format: Nom,Votes\n",
    "\n",
    "| Exemple d'input   | Exemple d'output   |\n",
    "| :----------------:|:------------------:|\n",
    "| John, 6           | George, 1          |\n",
    "| Paul, 5           | Ringo, 3           |\n",
    "| George, 1         | Paul, 5            |\n",
    "| Ringo, 3          | John, 6            |\n",
    "\n",
    "Pour ouvrir un fichier en utilisant jupyter notebook, vous devez le mettre au même niveau que ce fichier ipynb"
   ]
  },
  {
   "cell_type": "code",
   "outputs": [],
   "source": [
    "# Lis le fichier et en crée une priority queue (typiquement en utilisant votre implémentation BinaryHeap)\n",
    "def create_priority_queue() -> PriorityQueue:\n",
    "    pd = BinaryHeap()\n",
    "    # Ouvre le fichier et insère les éléments dans la priority queue, changer le chemin du fichier si nécessaire car seulement le chemin absolu fonctionne dans mon data spell\n",
    "    with open(\"/home/gobi/Documents/MyMaster/HS2024/Structure de données/series/s9ex2.txt\", \"r\") as file:\n",
    "        for line in file:\n",
    "            name, votes = line.split(\",\")\n",
    "            pd.insert(KeyValuePair(int(votes), name.strip()))\n",
    "            \n",
    "    return pd # Retourne une priority queue\n",
    "\n",
    "# Crée une liste ordonnée à partir de la priority queue\n",
    "def create_final_list(pq):\n",
    "    final_list = []\n",
    "    while not pq.is_empty():\n",
    "        final_list.append(pq.delete_min()) #  On commence par supprimer le minimum de la priority queue et on l'ajoute à la liste finale ainsi de suite jusqu'à ce que la priority queue soit vide et on utilise append pour ajouter à la fin de la liste\n",
    "    return final_list # Retourne une liste ordonnée      "
   ],
   "metadata": {
    "collapsed": false,
    "ExecuteTime": {
     "end_time": "2024-12-01T13:48:32.661515Z",
     "start_time": "2024-12-01T13:48:32.655270Z"
    }
   },
   "id": "5e47ea391a693406",
   "execution_count": 23
  },
  {
   "cell_type": "code",
   "execution_count": 24,
   "id": "2a47e4ca",
   "metadata": {
    "id": "2a47e4ca",
    "ExecuteTime": {
     "end_time": "2024-12-01T13:48:32.984600Z",
     "start_time": "2024-12-01T13:48:32.979529Z"
    }
   },
   "outputs": [
    {
     "name": "stdout",
     "output_type": "stream",
     "text": [
      "1 , George\n",
      "2 , Bernard\n",
      "3 , Ringo\n",
      "5 , Paul\n",
      "6 , John\n",
      "7 , Steven\n",
      "8 , James\n",
      "15 , Brigitte\n",
      "20 , Cheryl\n"
     ]
    }
   ],
   "source": [
    "pq = create_priority_queue()\n",
    "final_list = create_final_list(pq)\n",
    "for x in final_list:\n",
    "    print(x)"
   ]
  },
  {
   "cell_type": "markdown",
   "id": "dd483e92",
   "metadata": {
    "id": "dd483e92"
   },
   "source": [
    "### Explications"
   ]
  },
  {
   "cell_type": "markdown",
   "id": "52716068",
   "metadata": {
    "id": "52716068"
   },
   "source": [
    "1. **Fonction `create_priority_queue()`** : Lit un fichier texte contenant une liste de candidats et leurs votes. Pour chaque ligne, un objet `KeyValuePair` est créé avec le nom et le nombre de votes, puis inséré dans la priority queue.\n",
    "2. **Fonction `create_final_list(pq)`** : Crée une liste ordonnée à partir de la priority queue. Les éléments sont supprimés un par un de la priority queue et ajoutés à la liste finale.\n",
    "3. **Affichage des résultats** : Les éléments de la liste finale sont affichés à l'écran et c'est tout."
   ]
  },
  {
   "cell_type": "markdown",
   "id": "bd6bd0c1-822d-47dc-aff2-2a0e4d1f0bf7",
   "metadata": {
    "id": "bd6bd0c1-822d-47dc-aff2-2a0e4d1f0bf7"
   },
   "source": [
    "### Exercice 2.1\n",
    "Quel est le coût (en termes de complexité de chaque opération) de votre solution? Justifiez votre réponse."
   ]
  },
  {
   "cell_type": "markdown",
   "id": "85d504c1-3064-4df1-8d3d-f8703c9b64ee",
   "metadata": {
    "id": "85d504c1-3064-4df1-8d3d-f8703c9b64ee"
   },
   "source": [
    "### Explications (Gobi 50% - Mathias 50%)"
   ]
  },
  {
   "cell_type": "markdown",
   "id": "55dd4727-de5d-4c43-81f8-6009efda9846",
   "metadata": {
    "id": "55dd4727-de5d-4c43-81f8-6009efda9846"
   },
   "source": [
    "### 1. **Insertion dans la `BinaryHeap` (`insert()`)**\n",
    "- **Complexité** : $( O(\\log n) )$\n",
    "- **Justification** : L'insertion d'un élément dans un `BinaryHeap` nécessite de \"remonter\" l'élément jusqu'à sa position correcte. Dans le pire des cas, cela peut prendre $( O(\\log n) )$ opérations, où $( n )$ est le nombre d'éléments dans le monceau. En effet, le monceau binaire a une hauteur de $( \\log n )$, et chaque insertion peut nécessiter un déplacement de l'élément à travers cette hauteur.\n",
    "\n",
    "\n",
    "### 2. **Lecture du fichier (`create_priority_queue()`)**\n",
    "- **Complexité** : $( O(m \\log m) )$\n",
    "- **Justification** : \n",
    "    - Le fichier contient $( m )$ lignes (candidats). Pour chaque ligne, un objet `KeyValuePair` est créé et inséré dans la `BinaryHeap`. \n",
    "    - Chaque insertion dans la `BinaryHeap` prend $( O(\\log n) )$, où $( n )$ est la taille actuelle du monceau. Donc, pour chaque insertion dans le pire des cas, on a une complexité de $( O(\\log n) )$.\n",
    "    - Comme il y a $( m )$ candidats, l'opération d'insertion dans la boucle for a une complexité totale de $( O(m \\log m) )$.\n",
    "\n",
    "\n",
    "### 3. **Suppression de l'élément minimum (`delete_min()`)**\n",
    "- **Complexité** : $( O(\\log n) )$\n",
    "- **Justification** : Chaque appel à `delete_min()` supprime l'élément racine (le minimum), puis \"percole\" l'élément à la racine jusqu'à sa position correcte dans le monceau. Cette opération a une complexité de $( O(\\log n) )$, car cela implique de comparer et de déplacer l'élément dans un arbre binaire de hauteur $( O(\\log n) )$.\n",
    "\n",
    "### Complexité totale de la solution :\n",
    "- La complexité globale de la solution, qui inclut la création de la `priority queue` et la création de la liste triée, est dominée par l'insertion et la suppression dans la `BinaryHeap`. \n",
    "- Cela donne une complexité totale de $( O(m \\log m) )$, où $( m )$ est le nombre de candidats dans le fichier.\n"
   ]
  },
  {
   "cell_type": "code",
   "outputs": [],
   "source": [],
   "metadata": {
    "collapsed": false,
    "ExecuteTime": {
     "end_time": "2024-12-01T13:47:37.036291Z",
     "start_time": "2024-12-01T13:47:37.033958Z"
    }
   },
   "id": "231e24300f0e2807",
   "execution_count": 19
  }
 ],
 "metadata": {
  "interpreter": {
   "hash": "4d627b3ea71e790ed7d9c294cc76e400708b53c97c06f52348911b9296e7b669"
  },
  "kernelspec": {
   "display_name": "Python 3 (ipykernel)",
   "language": "python",
   "name": "python3"
  },
  "language_info": {
   "codemirror_mode": {
    "name": "ipython",
    "version": 3
   },
   "file_extension": ".py",
   "mimetype": "text/x-python",
   "name": "python",
   "nbconvert_exporter": "python",
   "pygments_lexer": "ipython3",
   "version": "3.9.7"
  },
  "colab": {
   "provenance": []
  }
 },
 "nbformat": 4,
 "nbformat_minor": 5
}
